{
 "cells": [
  {
   "cell_type": "markdown",
   "id": "f2b7f7a8",
   "metadata": {},
   "source": [
    "# Tennis Game"
   ]
  },
  {
   "cell_type": "markdown",
   "id": "3f43e688",
   "metadata": {},
   "source": [
    "## Data Analyzing"
   ]
  },
  {
   "cell_type": "code",
   "execution_count": 1,
   "id": "7dd0f253",
   "metadata": {},
   "outputs": [],
   "source": [
    "import pandas as pd\n",
    "import matplotlib.pyplot as plt"
   ]
  },
  {
   "cell_type": "code",
   "execution_count": 2,
   "id": "3624f5c0",
   "metadata": {},
   "outputs": [],
   "source": [
    "GameInfo = pd.read_csv(\"/Users/mahlagha/TennisGame/data/processed/GameInfo.csv\").drop(columns=[\"Unnamed: 0\"])\n",
    "MatchAwayScoreInfo = pd.read_csv(\"/Users/mahlagha/TennisGame/data/processed/MatchAwayScoreInfo.csv\").drop(columns=[\"Unnamed: 0\"])\n",
    "MatchAwayTeamInfo = pd.read_csv(\"/Users/mahlagha/TennisGame/data/processed/MatchAwayTeamInfo.csv\").drop(columns=[\"Unnamed: 0\"])\n",
    "MatchEventInfo = pd.read_csv(\"/Users/mahlagha/TennisGame/data/processed/MatchEventInfo.csv\").drop(columns=[\"Unnamed: 0\"])\n",
    "MatchHomeScoreInfo = pd.read_csv(\"/Users/mahlagha/TennisGame/data/processed/MatchHomeScoreInfo.csv\").drop(columns=[\"Unnamed: 0\"])\n",
    "MatchHomeTeamInfo = pd.read_csv(\"/Users/mahlagha/TennisGame/data/processed/MatchHomeTeamInfo.csv\").drop(columns=[\"Unnamed: 0\"])\n",
    "MatchRoundInfo = pd.read_csv(\"/Users/mahlagha/TennisGame/data/processed/MatchRoundInfo.csv\").drop(columns=[\"Unnamed: 0\"])\n",
    "MatchTimeInfo = pd.read_csv(\"/Users/mahlagha/TennisGame/data/processed/MatchTimeInfo.csv\").drop(columns=[\"Unnamed: 0\"])\n",
    "MatchSeasonInfo = pd.read_csv(\"/Users/mahlagha/TennisGame/data/processed/MatchSeasonInfo.csv\").drop(columns=[\"Unnamed: 0\"])\n",
    "MatchTournamentInfo = pd.read_csv(\"/Users/mahlagha/TennisGame/data/processed/MatchTournamentInfo.csv\").drop(columns=[\"Unnamed: 0\"])\n",
    "MatchVenueInfo = pd.read_csv(\"/Users/mahlagha/TennisGame/data/processed/MatchVenueInfo.csv\").drop(columns=[\"Unnamed: 0\"])\n",
    "MatchVotesInfo = pd.read_csv(\"/Users/mahlagha/TennisGame/data/processed/MatchVotesInfo.csv\").drop(columns=[\"Unnamed: 0\"])\n",
    "OddsInfo = pd.read_csv(\"/Users/mahlagha/TennisGame/data/processed/OddsInfo.csv\").drop(columns=[\"Unnamed: 0\"])\n",
    "PeriodInfo = pd.read_csv(\"/Users/mahlagha/TennisGame/data/processed/PeriodInfo.csv\").drop(columns=[\"Unnamed: 0\"])\n",
    "PowerInfo = pd.read_csv(\"/Users/mahlagha/TennisGame/data/processed/PowerInfo.csv\").drop(columns=[\"Unnamed: 0\"])"
   ]
  },
  {
   "cell_type": "markdown",
   "id": "61b64187",
   "metadata": {},
   "source": [
    "### 1. How many tennis players are included in the dataset?"
   ]
  },
  {
   "cell_type": "markdown",
   "id": "dd2a20db",
   "metadata": {},
   "source": [
    "#### Solution 1: Using Player ID"
   ]
  },
  {
   "cell_type": "code",
   "execution_count": 3,
   "id": "4d95b01b",
   "metadata": {},
   "outputs": [
    {
     "name": "stdout",
     "output_type": "stream",
     "text": [
      "The Total number of teniss players is 2352\n"
     ]
    }
   ],
   "source": [
    "player_id = pd.concat([MatchAwayTeamInfo[\"player_id\"], MatchHomeTeamInfo[\"player_id\"]])\n",
    "player_num = player_id.unique().size\n",
    "print(f'The Total number of teniss players is {player_num}')"
   ]
  },
  {
   "cell_type": "markdown",
   "id": "454b9c3c",
   "metadata": {},
   "source": [
    "#### Solution 2: Using Player full name"
   ]
  },
  {
   "cell_type": "code",
   "execution_count": 4,
   "id": "1042f193",
   "metadata": {},
   "outputs": [
    {
     "name": "stdout",
     "output_type": "stream",
     "text": [
      "The Total number of teniss players is 2353\n"
     ]
    }
   ],
   "source": [
    "player_full_name = pd.concat([MatchAwayTeamInfo[\"full_name\"], MatchHomeTeamInfo[\"full_name\"]])\n",
    "player_num = player_full_name.unique().size\n",
    "print(f'The Total number of teniss players is {player_num}')"
   ]
  },
  {
   "cell_type": "markdown",
   "id": "edf58d9a",
   "metadata": {},
   "source": [
    "### 2.  What is the average height of the players?\n"
   ]
  },
  {
   "cell_type": "markdown",
   "id": "cfccd4d9",
   "metadata": {},
   "source": [
    "Step1: concating \"MatchAwayTeamInfo\" and \"MatchHomeTeamInfo\" tables"
   ]
  },
  {
   "cell_type": "code",
   "execution_count": 5,
   "id": "52f53625",
   "metadata": {},
   "outputs": [
    {
     "name": "stdout",
     "output_type": "stream",
     "text": [
      "<class 'pandas.core.frame.DataFrame'>\n",
      "Index: 27045 entries, 0 to 14089\n",
      "Data columns (total 2 columns):\n",
      " #   Column     Non-Null Count  Dtype  \n",
      "---  ------     --------------  -----  \n",
      " 0   player_id  27045 non-null  int64  \n",
      " 1   height     14593 non-null  float64\n",
      "dtypes: float64(1), int64(1)\n",
      "memory usage: 633.9 KB\n"
     ]
    }
   ],
   "source": [
    "player_info = pd.concat([MatchAwayTeamInfo[[\"player_id\", \"height\"]]\n",
    "                        , MatchHomeTeamInfo[[\"player_id\", \"height\"]]])\n",
    "player_info.head()\n",
    "player_info.info()"
   ]
  },
  {
   "cell_type": "markdown",
   "id": "4ae625e8",
   "metadata": {},
   "source": [
    "Step 2: Find nan values for unique player id "
   ]
  },
  {
   "cell_type": "code",
   "execution_count": 6,
   "id": "b8996411",
   "metadata": {},
   "outputs": [
    {
     "data": {
      "text/plain": [
       "0      36\n",
       "1     217\n",
       "2     878\n",
       "3    1452\n",
       "4    1684\n",
       "5    1985\n",
       "6    2321\n",
       "dtype: int64"
      ]
     },
     "execution_count": 6,
     "metadata": {},
     "output_type": "execute_result"
    }
   ],
   "source": [
    "player_id = player_info[\"player_id\"].unique()\n",
    "player_id_nan_notna=[]\n",
    "for i in range(player_id.size):\n",
    "    nullcount = player_info[player_info[\"player_id\"]==player_id[i]][\"height\"].isna().sum()\n",
    "    notnullcount = player_info[player_info[\"player_id\"]==player_id[i]][\"height\"].notna().sum()\n",
    "    if nullcount != 0:\n",
    "        if notnullcount !=0:\n",
    "            player_id_nan_notna.append(i)\n",
    "player_id_nan_notna = pd.Series(player_id_nan_notna)\n",
    "player_id_nan_notna"
   ]
  },
  {
   "cell_type": "markdown",
   "id": "c0607edd",
   "metadata": {},
   "source": [
    "Step 3: fill nan with proper values"
   ]
  },
  {
   "cell_type": "code",
   "execution_count": 7,
   "id": "37aab8cd",
   "metadata": {},
   "outputs": [],
   "source": [
    "for i in player_id_nan_notna:\n",
    "    player_info[player_info[\"player_id\"]==player_id[i]] = (player_info[player_info[\"player_id\"]==player_id[i]]\n",
    "                                                           .sort_values(\"height\").ffill())"
   ]
  },
  {
   "cell_type": "markdown",
   "id": "cd101de1",
   "metadata": {},
   "source": [
    "Step 4: fill other nan values with mode and calculate total mean"
   ]
  },
  {
   "cell_type": "code",
   "execution_count": 8,
   "id": "38d8b3ab",
   "metadata": {},
   "outputs": [
    {
     "name": "stdout",
     "output_type": "stream",
     "text": [
      "The Average height of players is: 1.825\n"
     ]
    }
   ],
   "source": [
    "cleaned_player_info = player_info.drop_duplicates(subset=['player_id'])\n",
    "height_mode = float(cleaned_player_info['height'].mode().iloc[0])\n",
    "cleaned_player_info = cleaned_player_info.fillna(value = height_mode)\n",
    "height_mean = cleaned_player_info['height'].mean().round(3)\n",
    "print(f'The Average height of players is: {height_mean}')"
   ]
  },
  {
   "cell_type": "markdown",
   "id": "485f2e4e",
   "metadata": {},
   "source": [
    "### 3.  Which player has the highest number of wins?\n"
   ]
  },
  {
   "cell_type": "markdown",
   "id": "8b8954bb",
   "metadata": {},
   "source": [
    "Step 1: Merging required tables"
   ]
  },
  {
   "cell_type": "code",
   "execution_count": 9,
   "id": "7d386c64",
   "metadata": {},
   "outputs": [
    {
     "data": {
      "text/html": [
       "<div>\n",
       "<style scoped>\n",
       "    .dataframe tbody tr th:only-of-type {\n",
       "        vertical-align: middle;\n",
       "    }\n",
       "\n",
       "    .dataframe tbody tr th {\n",
       "        vertical-align: top;\n",
       "    }\n",
       "\n",
       "    .dataframe thead th {\n",
       "        text-align: right;\n",
       "    }\n",
       "</style>\n",
       "<table border=\"1\" class=\"dataframe\">\n",
       "  <thead>\n",
       "    <tr style=\"text-align: right;\">\n",
       "      <th></th>\n",
       "      <th>player_id</th>\n",
       "      <th>name</th>\n",
       "    </tr>\n",
       "  </thead>\n",
       "  <tbody>\n",
       "    <tr>\n",
       "      <th>0</th>\n",
       "      <td>271389</td>\n",
       "      <td>Navone M.</td>\n",
       "    </tr>\n",
       "    <tr>\n",
       "      <th>1</th>\n",
       "      <td>271389</td>\n",
       "      <td>Navone M.</td>\n",
       "    </tr>\n",
       "    <tr>\n",
       "      <th>2</th>\n",
       "      <td>78431</td>\n",
       "      <td>Lodikova D.</td>\n",
       "    </tr>\n",
       "    <tr>\n",
       "      <th>3</th>\n",
       "      <td>78431</td>\n",
       "      <td>Lodikova D.</td>\n",
       "    </tr>\n",
       "    <tr>\n",
       "      <th>4</th>\n",
       "      <td>254282</td>\n",
       "      <td>Riera J.</td>\n",
       "    </tr>\n",
       "  </tbody>\n",
       "</table>\n",
       "</div>"
      ],
      "text/plain": [
       "   player_id         name\n",
       "0     271389    Navone M.\n",
       "1     271389    Navone M.\n",
       "2      78431  Lodikova D.\n",
       "3      78431  Lodikova D.\n",
       "4     254282     Riera J."
      ]
     },
     "execution_count": 9,
     "metadata": {},
     "output_type": "execute_result"
    }
   ],
   "source": [
    "merged_home = pd.merge(MatchEventInfo, MatchHomeTeamInfo, on='match_id', suffixes=['_home'])\n",
    "merged_away = pd.merge(MatchEventInfo, MatchAwayTeamInfo, on='match_id', suffixes=['_away'])\n",
    "\n",
    "# Ignore null values\n",
    "home_wins = merged_home[merged_home['winner_code'] == 1][['player_id', 'name']].copy()\n",
    "away_wins = merged_away[merged_away['winner_code'] == 2][['player_id', 'name']].copy()\n",
    "\n",
    "# Concating home and away team wins\n",
    "all_wins = pd.concat([home_wins, away_wins])\n",
    "all_wins.head()"
   ]
  },
  {
   "cell_type": "code",
   "execution_count": 10,
   "id": "79e504e2",
   "metadata": {},
   "outputs": [
    {
     "name": "stdout",
     "output_type": "stream",
     "text": [
      "Player with the highest number of wins is Uchijima M. with 75 wins\n"
     ]
    }
   ],
   "source": [
    "win_counts = all_wins['player_id'].value_counts().reset_index()\n",
    "win_counts.columns = ['player_id', 'wins']\n",
    "player_names = all_wins[['player_id', 'name']].drop_duplicates()\n",
    "win_counts = win_counts.merge(player_names, on='player_id')\n",
    "top_player = win_counts.loc[win_counts['wins'].idxmax()]\n",
    "print(\"Player with the highest number of wins is\", top_player['name'], 'with', top_player['wins'] , 'wins')"
   ]
  },
  {
   "cell_type": "markdown",
   "id": "5eab86eb",
   "metadata": {},
   "source": [
    "### 4.  What is the longest match recorded in terms of duration?\n"
   ]
  },
  {
   "cell_type": "markdown",
   "id": "8c8bbccf",
   "metadata": {},
   "source": [
    "Solution 1: Group by "
   ]
  },
  {
   "cell_type": "code",
   "execution_count": 11,
   "id": "f4044aa8",
   "metadata": {},
   "outputs": [
    {
     "name": "stdout",
     "output_type": "stream",
     "text": [
      "Longest match recorded is for 12346747 match_id during 513458.0\n"
     ]
    }
   ],
   "source": [
    "timestamp_table = MatchTimeInfo.groupby(by=\"match_id\").sum().drop(columns=['current_period_start_timestamp']).sum(axis=1).sort_values(ascending=False)\n",
    "timestamp_table.idxmax()\n",
    "timestamp_table[timestamp_table.idxmax()]\n",
    "print(f'Longest match recorded is for {timestamp_table.idxmax()} match_id during {timestamp_table[timestamp_table.idxmax()]}')"
   ]
  },
  {
   "cell_type": "markdown",
   "id": "21fec13b",
   "metadata": {},
   "source": [
    "Solution 2: Pivote_table"
   ]
  },
  {
   "cell_type": "code",
   "execution_count": 12,
   "id": "a7dc66a1",
   "metadata": {},
   "outputs": [
    {
     "name": "stdout",
     "output_type": "stream",
     "text": [
      "Longest match recorded is for 12346747 match_id during 513458.0\n"
     ]
    }
   ],
   "source": [
    "timestamp = pd.pivot_table(data=MatchTimeInfo, values=['period_1', 'period_2', 'period_3', 'period_4', 'period_4'], aggfunc='sum', index='match_id')\n",
    "timestamp.sum(axis=1).sort_values(ascending=False)\n",
    "print(f'Longest match recorded is for {timestamp_table.idxmax()} match_id during {timestamp_table[timestamp_table.idxmax()]}')"
   ]
  },
  {
   "cell_type": "markdown",
   "id": "78655107",
   "metadata": {},
   "source": [
    "### 5.\tHow many sets are typically played in a tennis match?"
   ]
  },
  {
   "cell_type": "code",
   "execution_count": 13,
   "id": "749c12fe",
   "metadata": {},
   "outputs": [
    {
     "data": {
      "text/html": [
       "<div>\n",
       "<style scoped>\n",
       "    .dataframe tbody tr th:only-of-type {\n",
       "        vertical-align: middle;\n",
       "    }\n",
       "\n",
       "    .dataframe tbody tr th {\n",
       "        vertical-align: top;\n",
       "    }\n",
       "\n",
       "    .dataframe thead th {\n",
       "        text-align: right;\n",
       "    }\n",
       "</style>\n",
       "<table border=\"1\" class=\"dataframe\">\n",
       "  <thead>\n",
       "    <tr style=\"text-align: right;\">\n",
       "      <th></th>\n",
       "      <th>count</th>\n",
       "      <th>percentage</th>\n",
       "    </tr>\n",
       "    <tr>\n",
       "      <th>set_id</th>\n",
       "      <th></th>\n",
       "      <th></th>\n",
       "    </tr>\n",
       "  </thead>\n",
       "  <tbody>\n",
       "    <tr>\n",
       "      <th>2</th>\n",
       "      <td>4518</td>\n",
       "      <td>69.65</td>\n",
       "    </tr>\n",
       "    <tr>\n",
       "      <th>3</th>\n",
       "      <td>1920</td>\n",
       "      <td>29.60</td>\n",
       "    </tr>\n",
       "    <tr>\n",
       "      <th>4</th>\n",
       "      <td>29</td>\n",
       "      <td>0.45</td>\n",
       "    </tr>\n",
       "    <tr>\n",
       "      <th>5</th>\n",
       "      <td>20</td>\n",
       "      <td>0.31</td>\n",
       "    </tr>\n",
       "  </tbody>\n",
       "</table>\n",
       "</div>"
      ],
      "text/plain": [
       "        count  percentage\n",
       "set_id                   \n",
       "2        4518       69.65\n",
       "3        1920       29.60\n",
       "4          29        0.45\n",
       "5          20        0.31"
      ]
     },
     "metadata": {},
     "output_type": "display_data"
    },
    {
     "data": {
      "image/png": "[encoded data removed]",
      "text/plain": [
       "<Figure size 800x600 with 1 Axes>"
      ]
     },
     "metadata": {},
     "output_type": "display_data"
    }
   ],
   "source": [
    "count_set_per_match = GameInfo.groupby('match_id')['set_id'].max().sort_values(ascending=False)\n",
    "count_set_df = pd.DataFrame(count_set_per_match[count_set_per_match.values > 1].value_counts())\n",
    "count_set_df['count'].sum()\n",
    "count_set_df['percentage'] = ((count_set_df / count_set_df['count'].sum())*100).round(2)\n",
    "display(count_set_df)\n",
    "labels = ['Set_2', 'Set_3', 'Set_4', 'Set_5']\n",
    "data = count_set_df['percentage']\n",
    "plt.figure(figsize=(8,6))\n",
    "plt.pie(x=data, labels=labels, autopct = '%1.1f%%')\n",
    "plt.title ('percentage of per set in all matches')\n",
    "plt.show()"
   ]
  },
  {
   "cell_type": "markdown",
   "id": "6730b58c",
   "metadata": {},
   "source": [
    "### 6.\tWhich country has produced the most successful tennis players?"
   ]
  },
  {
   "cell_type": "code",
   "execution_count": 14,
   "id": "8d4b5c2c",
   "metadata": {},
   "outputs": [
    {
     "name": "stdout",
     "output_type": "stream",
     "text": [
      "Most of wins belong to USA\n"
     ]
    }
   ],
   "source": [
    "home_wins = merged_home[merged_home['winner_code'] == 1][['player_id', 'name', 'country']].copy()\n",
    "away_wins = merged_away[merged_away['winner_code'] == 2][['player_id', 'name', 'country']].copy()\n",
    "\n",
    "all_wins = pd.concat([home_wins, away_wins])\n",
    "\n",
    "win_counts = all_wins['player_id'].value_counts().reset_index()\n",
    "win_counts.columns = ['player_id', 'wins']\n",
    "\n",
    "player_names = all_wins[['player_id', 'name', 'country']].drop_duplicates()\n",
    "win_counts = win_counts.merge(player_names, on='player_id')\n",
    "\n",
    "win_country = win_counts.groupby(['country']).count()['wins'].sort_values(ascending=False)\n",
    "print(f'Most of wins belong to {win_country.idxmax()}')"
   ]
  },
  {
   "cell_type": "markdown",
   "id": "04be6d86",
   "metadata": {},
   "source": [
    "### 7.  What is the average number of aces per match?\n"
   ]
  },
  {
   "cell_type": "code",
   "execution_count": 15,
   "id": "c175de6f",
   "metadata": {},
   "outputs": [
    {
     "name": "stdout",
     "output_type": "stream",
     "text": [
      "The average number of aces per match is statistic_name    1.974695\n",
      "dtype: float64\n"
     ]
    }
   ],
   "source": [
    "aces_info = PeriodInfo[(PeriodInfo['statistic_name'] == 'aces') & (PeriodInfo['period'] == 'ALL')]\n",
    "ace_count =pd.DataFrame(pd.pivot_table(aces_info, values=['statistic_name'],index='match_id', aggfunc='count'))\n",
    "ace_avg = ace_count.sort_values('statistic_name',ascending=False).mean()\n",
    "print(f'The average number of aces per match is {ace_avg}')"
   ]
  },
  {
   "cell_type": "markdown",
   "id": "de073429",
   "metadata": {},
   "source": [
    "### 8.\tIs there a difference in the number of double faults based on gender?"
   ]
  },
  {
   "cell_type": "code",
   "execution_count": 33,
   "id": "b326ca32",
   "metadata": {},
   "outputs": [
    {
     "data": {
      "text/html": [
       "<div>\n",
       "<style scoped>\n",
       "    .dataframe tbody tr th:only-of-type {\n",
       "        vertical-align: middle;\n",
       "    }\n",
       "\n",
       "    .dataframe tbody tr th {\n",
       "        vertical-align: top;\n",
       "    }\n",
       "\n",
       "    .dataframe thead th {\n",
       "        text-align: right;\n",
       "    }\n",
       "</style>\n",
       "<table border=\"1\" class=\"dataframe\">\n",
       "  <thead>\n",
       "    <tr style=\"text-align: right;\">\n",
       "      <th></th>\n",
       "      <th>statistic_name</th>\n",
       "    </tr>\n",
       "    <tr>\n",
       "      <th>gender</th>\n",
       "      <th></th>\n",
       "    </tr>\n",
       "  </thead>\n",
       "  <tbody>\n",
       "    <tr>\n",
       "      <th>F</th>\n",
       "      <td>2528</td>\n",
       "    </tr>\n",
       "    <tr>\n",
       "      <th>M</th>\n",
       "      <td>2484</td>\n",
       "    </tr>\n",
       "  </tbody>\n",
       "</table>\n",
       "</div>"
      ],
      "text/plain": [
       "        statistic_name\n",
       "gender                \n",
       "F                 2528\n",
       "M                 2484"
      ]
     },
     "execution_count": 33,
     "metadata": {},
     "output_type": "execute_result"
    }
   ],
   "source": [
    "merged_gender_Team = pd.merge(MatchAwayTeamInfo, MatchHomeTeamInfo , on='match_id' , suffixes=('', '_Team'))\n",
    "merged_gender_faults = pd.merge(PeriodInfo, merged_gender_Team, on='match_id', suffixes=('', '_faults'))\n",
    "\n",
    "gender_faults = merged_gender_faults[merged_gender_faults['statistic_name'] == 'double_faults'][['match_id', 'statistic_name','gender']].copy()\n",
    "gender_faults = gender_faults[['match_id', 'statistic_name','gender']].drop_duplicates()\n",
    "\n",
    "double_faults = pd.DataFrame(gender_faults.groupby('gender')[\"statistic_name\"].count())\n",
    "double_faults"
   ]
  },
  {
   "cell_type": "markdown",
   "id": "02050cbd",
   "metadata": {},
   "source": [
    "### 9.  Which player has won the most tournaments in a single month?\n"
   ]
  },
  {
   "cell_type": "code",
   "execution_count": 17,
   "id": "781fc426",
   "metadata": {},
   "outputs": [
    {
     "name": "stdout",
     "output_type": "stream",
     "text": [
      "The player who won the most tournaments is: Kuramochi M.\n"
     ]
    }
   ],
   "source": [
    "merged_home = pd.merge(MatchEventInfo, MatchHomeTeamInfo, on='match_id', suffixes=['_home'])\n",
    "merged_away = pd.merge(MatchEventInfo, MatchAwayTeamInfo, on='match_id', suffixes=['_away'])\n",
    "\n",
    "home_wins = merged_home[merged_home['winner_code'] == 1][['match_id','player_id', 'name']].copy()\n",
    "away_wins = merged_away[merged_away['winner_code'] == 2][['match_id','player_id', 'name']].copy()\n",
    "\n",
    "all_wins = pd.concat([home_wins, away_wins])\n",
    "tournament_wins = pd.merge (all_wins, MatchTournamentInfo, on='match_id', suffixes=['_tournament'])\n",
    "\n",
    "tournament_count = tournament_wins['tournament_id'].value_counts().reset_index\n",
    "tournament_count = ['player_id','wins']\n",
    "\n",
    "player_tournament_info = tournament_wins[['player_id', 'name', 'tournament_id']].drop_duplicates()\n",
    "player_tournament_count = player_tournament_info.groupby('player_id').agg(tournament_sum = ('tournament_id','count')).sort_values('tournament_sum', ascending=False)\n",
    "top_player_id = player_tournament_count.idxmax().values[0]\n",
    "top_player_name = player_tournament_info[player_tournament_info['player_id'] == int(top_player_id)]['name'].unique()[0]\n",
    "print('The player who won the most tournaments is:', top_player_name)"
   ]
  },
  {
   "cell_type": "markdown",
   "id": "787096d0",
   "metadata": {},
   "source": [
    "### 10. Is there a correlation between a player's height and their ranking?\n"
   ]
  },
  {
   "cell_type": "code",
   "execution_count": 19,
   "id": "92690db4",
   "metadata": {},
   "outputs": [
    {
     "name": "stdout",
     "output_type": "stream",
     "text": [
      "There is a weak relationship between height and current rank.\n"
     ]
    },
    {
     "data": {
      "image/png": "[encoded data removed]",
      "text/plain": [
       "<Figure size 800x600 with 1 Axes>"
      ]
     },
     "metadata": {},
     "output_type": "display_data"
    }
   ],
   "source": [
    "home_players = MatchHomeTeamInfo[[\"player_id\", 'current_rank', \"height\"]]\n",
    "away_players = MatchAwayTeamInfo[[\"player_id\", 'current_rank', \"height\"]]\n",
    "all_players = pd.concat([home_players, away_players])\n",
    "cleaned_all_players = all_players.drop_duplicates(subset=['player_id'])\n",
    "height_mode = float(cleaned_all_players['height'].mode().iloc[0])\n",
    "cleaned_all_players = cleaned_all_players.fillna(value = height_mode)\n",
    "\n",
    "x = cleaned_all_players['height']\n",
    "y = cleaned_all_players['current_rank']\n",
    "correlation = x.corr(y)\n",
    "if abs(correlation) > 0.5:\n",
    "    print(\"There is a strong relationship between height and current rank.\")\n",
    "elif abs(correlation) > 0.3:\n",
    "    print(\"There is a moderate relationship between height and current rank.\")\n",
    "else:\n",
    "    print(\"There is a weak relationship between height and current rank.\")\n",
    "\n",
    "\n",
    "plt.figure(figsize=(8,6))\n",
    "plt.scatter (x,y)\n",
    "plt.title('Correlation between height and rank of players')\n",
    "plt.xlabel('Height (in)')\n",
    "plt.ylabel('Ranking')\n",
    "plt.show()"
   ]
  },
  {
   "cell_type": "markdown",
   "id": "0f72bec6",
   "metadata": {},
   "source": [
    "### 11.\tWhat is the average duration of matches?"
   ]
  },
  {
   "cell_type": "code",
   "execution_count": 22,
   "id": "99397192",
   "metadata": {},
   "outputs": [
    {
     "name": "stdout",
     "output_type": "stream",
     "text": [
      "The average duration of matches is 10655.74\n"
     ]
    }
   ],
   "source": [
    "time_sum =(pd.DataFrame(pd.pivot_table(MatchTimeInfo, \n",
    "                                       values=['period_1','period_2', 'period_3','period_4','period_5'],\n",
    "                                       index=['match_id'], \n",
    "                                       aggfunc='sum')))\n",
    "\n",
    "time_sum.loc[(time_sum==0).all(axis=1)]\n",
    "time_sum['Total'] = time_sum.sum(axis=1)\n",
    "time_mean =time_sum['Total'].mean()\n",
    "print(f'The average duration of matches is {time_mean.round(2)}' )"
   ]
  },
  {
   "cell_type": "markdown",
   "id": "b12cead5",
   "metadata": {},
   "source": [
    "### 12. What is the average number of games per set in men's matches compared to women's matches?\n"
   ]
  },
  {
   "cell_type": "code",
   "execution_count": 37,
   "id": "a7466344",
   "metadata": {},
   "outputs": [
    {
     "data": {
      "text/html": [
       "<div>\n",
       "<style scoped>\n",
       "    .dataframe tbody tr th:only-of-type {\n",
       "        vertical-align: middle;\n",
       "    }\n",
       "\n",
       "    .dataframe tbody tr th {\n",
       "        vertical-align: top;\n",
       "    }\n",
       "\n",
       "    .dataframe thead tr th {\n",
       "        text-align: left;\n",
       "    }\n",
       "\n",
       "    .dataframe thead tr:last-of-type th {\n",
       "        text-align: right;\n",
       "    }\n",
       "</style>\n",
       "<table border=\"1\" class=\"dataframe\">\n",
       "  <thead>\n",
       "    <tr>\n",
       "      <th></th>\n",
       "      <th colspan=\"5\" halign=\"left\">game_id</th>\n",
       "    </tr>\n",
       "    <tr>\n",
       "      <th>set_id</th>\n",
       "      <th>1.0</th>\n",
       "      <th>2.0</th>\n",
       "      <th>3.0</th>\n",
       "      <th>4.0</th>\n",
       "      <th>5.0</th>\n",
       "    </tr>\n",
       "    <tr>\n",
       "      <th>gender</th>\n",
       "      <th></th>\n",
       "      <th></th>\n",
       "      <th></th>\n",
       "      <th></th>\n",
       "      <th></th>\n",
       "    </tr>\n",
       "  </thead>\n",
       "  <tbody>\n",
       "    <tr>\n",
       "      <th>F</th>\n",
       "      <td>6.65</td>\n",
       "      <td>8.62</td>\n",
       "      <td>7.63</td>\n",
       "      <td>0.00</td>\n",
       "      <td>0.0</td>\n",
       "    </tr>\n",
       "    <tr>\n",
       "      <th>M</th>\n",
       "      <td>7.21</td>\n",
       "      <td>9.13</td>\n",
       "      <td>9.23</td>\n",
       "      <td>9.28</td>\n",
       "      <td>10.1</td>\n",
       "    </tr>\n",
       "  </tbody>\n",
       "</table>\n",
       "</div>"
      ],
      "text/plain": [
       "       game_id                        \n",
       "set_id     1.0   2.0   3.0   4.0   5.0\n",
       "gender                                \n",
       "F         6.65  8.62  7.63  0.00   0.0\n",
       "M         7.21  9.13  9.23  9.28  10.1"
      ]
     },
     "execution_count": 37,
     "metadata": {},
     "output_type": "execute_result"
    }
   ],
   "source": [
    "merge_game_gender = pd.concat([GameInfo[['match_id','set_id','game_id']],merged_gender_Team[['match_id','gender']]])\n",
    "merge_game_gender.reset_index(inplace=True)\n",
    "\n",
    "merge_game_gender.drop_duplicates().sort_values(\"match_id\")\n",
    "match_id= merge_game_gender['match_id'].unique()\n",
    "\n",
    "match_id_nan_notna =[]\n",
    "for i in range(match_id.size):\n",
    "    nullcount_gender = merge_game_gender[merge_game_gender[\"match_id\"]==match_id[i]][\"gender\"].isna().sum()\n",
    "    nanullcount_gender = merge_game_gender[merge_game_gender[\"match_id\"]==match_id[i]][\"gender\"].notna().sum()\n",
    "    if nullcount_gender != 0:\n",
    "        if nanullcount_gender !=0:\n",
    "            match_id_nan_notna.append(i)\n",
    "match_id_nan_notna = pd.Series(match_id_nan_notna)\n",
    "\n",
    "for i in match_id_nan_notna:\n",
    "    merge_game_gender[merge_game_gender[\"match_id\"]==match_id[i]]= merge_game_gender[merge_game_gender[\"match_id\"]==match_id[i]].sort_values(\"gender\").ffill()\n",
    "\n",
    "pd.options.mode.copy_on_write = True \n",
    "\n",
    "cleaned_set_per_Gender = merge_game_gender.drop_duplicates(subset=['match_id'])\n",
    "\n",
    "replace_nan = (cleaned_set_per_Gender['gender'].mode().iloc[0])\n",
    "\n",
    "cleaned_set_per_Gender['gender'] = cleaned_set_per_Gender['gender'].fillna(replace_nan)\n",
    "cleaned_set_per_Gender = cleaned_set_per_Gender.dropna(subset='set_id')\n",
    "\n",
    "cleaned_set_per_Gender\n",
    "\n",
    "mean_game_per_set = (pd.pivot_table(cleaned_set_per_Gender,values= ['game_id'], index=['gender'],columns=['set_id'],aggfunc='mean')).round(2)\n",
    "mean_game_per_set.fillna(0)\n"
   ]
  },
  {
   "cell_type": "markdown",
   "id": "001272ec",
   "metadata": {},
   "source": [
    "### 13.\tWhat is the distribution of left-handed versus right-handed players?"
   ]
  },
  {
   "cell_type": "code",
   "execution_count": null,
   "id": "084982d4",
   "metadata": {},
   "outputs": [
    {
     "data": {
      "text/html": [
       "<div>\n",
       "<style scoped>\n",
       "    .dataframe tbody tr th:only-of-type {\n",
       "        vertical-align: middle;\n",
       "    }\n",
       "\n",
       "    .dataframe tbody tr th {\n",
       "        vertical-align: top;\n",
       "    }\n",
       "\n",
       "    .dataframe thead th {\n",
       "        text-align: right;\n",
       "    }\n",
       "</style>\n",
       "<table border=\"1\" class=\"dataframe\">\n",
       "  <thead>\n",
       "    <tr style=\"text-align: right;\">\n",
       "      <th></th>\n",
       "      <th>player_id</th>\n",
       "      <th>percentage (%)</th>\n",
       "    </tr>\n",
       "    <tr>\n",
       "      <th>plays</th>\n",
       "      <th></th>\n",
       "      <th></th>\n",
       "    </tr>\n",
       "  </thead>\n",
       "  <tbody>\n",
       "    <tr>\n",
       "      <th>ambidextrous</th>\n",
       "      <td>1</td>\n",
       "      <td>0.04</td>\n",
       "    </tr>\n",
       "    <tr>\n",
       "      <th>left-handed</th>\n",
       "      <td>120</td>\n",
       "      <td>5.10</td>\n",
       "    </tr>\n",
       "    <tr>\n",
       "      <th>right-handed</th>\n",
       "      <td>2231</td>\n",
       "      <td>94.86</td>\n",
       "    </tr>\n",
       "  </tbody>\n",
       "</table>\n",
       "</div>"
      ],
      "text/plain": [
       "              player_id  percentage (%)\n",
       "plays                                  \n",
       "ambidextrous          1            0.04\n",
       "left-handed         120            5.10\n",
       "right-handed       2231           94.86"
      ]
     },
     "metadata": {},
     "output_type": "display_data"
    },
    {
     "data": {
      "image/png": "[encoded data removed]",
      "text/plain": [
       "<Figure size 800x600 with 1 Axes>"
      ]
     },
     "metadata": {},
     "output_type": "display_data"
    }
   ],
   "source": [
    "home_players = MatchHomeTeamInfo[[\"player_id\", 'plays']]\n",
    "away_players = MatchAwayTeamInfo[[\"player_id\", 'plays']]\n",
    "\n",
    "all_players = pd.concat([home_players, away_players]).drop_duplicates('player_id')\n",
    "plays_mode = all_players['plays'].mode().iloc[0]\n",
    "all_players = all_players.fillna(value = plays_mode)\n",
    "\n",
    "\n",
    "hand_table = all_players.groupby('plays').count()\n",
    "hand_table['percentage (%)'] = ((hand_table / hand_table['player_id'].sum())*100).round(2)\n",
    "display(hand_table)\n",
    "\n",
    "labels = hand_table.index.tolist()\n",
    "data = hand_table['percentage (%)']\n",
    "plt.figure(figsize=(8,6))\n",
    "plt.pie(x=data, labels=labels, autopct = '%1.2f%%', startangle=140, colors=['purple', 'yellow', 'skyblue'])\n",
    "plt.title ('Distribution of left_handed vs right_handed players')\n",
    "plt.axis('equal')\n",
    "plt.show()"
   ]
  },
  {
   "cell_type": "markdown",
   "id": "6b74ce3a",
   "metadata": {},
   "source": [
    "### 14.\tWhat is the most common type of surface used in tournaments?"
   ]
  },
  {
   "cell_type": "code",
   "execution_count": null,
   "id": "05b9fb9e",
   "metadata": {},
   "outputs": [
    {
     "name": "stdout",
     "output_type": "stream",
     "text": [
      "The most common type of surface used is: Red clay\n"
     ]
    },
    {
     "data": {
      "image/png": "[encoded data removed]",
      "text/plain": [
       "<Figure size 800x600 with 1 Axes>"
      ]
     },
     "metadata": {},
     "output_type": "display_data"
    }
   ],
   "source": [
    "MatchTournamentInfo = MatchTournamentInfo.drop_duplicates('tournament_id')\n",
    "ground_type = MatchTournamentInfo.groupby('ground_type')['tournament_id'].count()\n",
    "print(f'The most common type of surface used is: {ground_type.idxmax()}')\n",
    "colors = ['green', 'red', 'yellow', 'blue']\n",
    "plt.figure(figsize=(8,6))\n",
    "plt.bar(ground_type.index, ground_type.values, color=colors , width = 0.8, )\n",
    "plt.title('Tennis Ground Types distribution')\n",
    "plt.ylabel('frequency')\n",
    "plt.show()"
   ]
  },
  {
   "cell_type": "markdown",
   "id": "bc6c6a2e",
   "metadata": {},
   "source": [
    "### 15.\tHow many distinct countries are represented in the dataset?"
   ]
  },
  {
   "cell_type": "code",
   "execution_count": null,
   "id": "a0d17025",
   "metadata": {},
   "outputs": [
    {
     "name": "stdout",
     "output_type": "stream",
     "text": [
      "Total number of distinct countries in dataset is 100\n"
     ]
    }
   ],
   "source": [
    "country_table1 = pd.concat (([MatchAwayTeamInfo[\"country\"], MatchHomeTeamInfo[\"country\"]]))\n",
    "country_table_all = pd.concat((country_table1, MatchVenueInfo['country']))\n",
    "country_table_all.unique()\n",
    "\n",
    "print(f\"Total number of distinct countries in dataset is {country_table_all.unique().size}\")"
   ]
  },
  {
   "cell_type": "markdown",
   "id": "0c4a8cba",
   "metadata": {},
   "source": [
    "### 16.\tWhich player has the highest winning percentage against top 10 ranked opponents?"
   ]
  },
  {
   "cell_type": "code",
   "execution_count": 34,
   "id": "524eae93",
   "metadata": {},
   "outputs": [
    {
     "data": {
      "text/html": [
       "<div>\n",
       "<style scoped>\n",
       "    .dataframe tbody tr th:only-of-type {\n",
       "        vertical-align: middle;\n",
       "    }\n",
       "\n",
       "    .dataframe tbody tr th {\n",
       "        vertical-align: top;\n",
       "    }\n",
       "\n",
       "    .dataframe thead th {\n",
       "        text-align: right;\n",
       "    }\n",
       "</style>\n",
       "<table border=\"1\" class=\"dataframe\">\n",
       "  <thead>\n",
       "    <tr style=\"text-align: right;\">\n",
       "      <th></th>\n",
       "      <th>full_name</th>\n",
       "      <th>player_id</th>\n",
       "      <th>current_rank</th>\n",
       "    </tr>\n",
       "  </thead>\n",
       "  <tbody>\n",
       "    <tr>\n",
       "      <th>538</th>\n",
       "      <td>Han, Seon Yong</td>\n",
       "      <td>196408</td>\n",
       "      <td>1146.0</td>\n",
       "    </tr>\n",
       "  </tbody>\n",
       "</table>\n",
       "</div>"
      ],
      "text/plain": [
       "          full_name  player_id  current_rank\n",
       "538  Han, Seon Yong     196408        1146.0"
      ]
     },
     "execution_count": 34,
     "metadata": {},
     "output_type": "execute_result"
    }
   ],
   "source": [
    "all_player_with_match_id = (pd.concat([MatchHomeTeamInfo, MatchAwayTeamInfo],\n",
    "                           ignore_index=True)\n",
    "                           .sort_values(\"current_rank\", ascending=False)\n",
    "                           .drop_duplicates(subset=[\"match_id\", \"player_id\"]))\n",
    "\n",
    "all_player_with_need_coulmn = (all_player_with_match_id[[\"full_name\",\"match_id\", \"player_id\", \"current_rank\"]]\n",
    "                               .sort_values([\"current_rank\", \"full_name\"], ascending=False, ignore_index=True))\n",
    "\n",
    "all_player_uniqe = (all_player_with_need_coulmn.drop_duplicates(\"player_id\", ignore_index=True)\n",
    "                    .drop(\"match_id\", axis=1))\n",
    "\n",
    "top_ten_palyers = (all_player_uniqe[all_player_uniqe[\"current_rank\"]\n",
    "                                    .isin(all_player_uniqe[\"current_rank\"]\n",
    "                                    .nlargest(n=10))])\n",
    "\n",
    "\n",
    "match_between_tow_player = (all_player_with_need_coulmn.pivot_table\n",
    "                           (index=\"match_id\",\n",
    "                            columns=all_player_with_need_coulmn.groupby(\"match_id\").cumcount(),\n",
    "                            values=\"player_id\",\n",
    "                            aggfunc='first').add_prefix(\"player\")\n",
    "                            .reset_index())\n",
    "\n",
    "match_home = MatchHomeTeamInfo[[\"match_id\", \"player_id\", \"current_rank\", \"full_name\"]]\n",
    "match_away = MatchAwayTeamInfo[[\"match_id\", \"player_id\", \"current_rank\", \"full_name\"]]\n",
    "match_winner = MatchEventInfo[[\"match_id\", \"winner_code\"]]\n",
    "\n",
    "\n",
    "match_winner_home_player_id = pd.merge(match_home, match_winner, how=\"right\" ).drop_duplicates()\n",
    "match_winner_away_player_id = pd.merge(match_home, match_winner, how=\"right\" ).drop_duplicates()\n",
    "\n",
    "match_winner_player_id = pd.concat([match_winner_home_player_id, match_winner_away_player_id])\n",
    "\n",
    "winer_player = match_winner_player_id[match_winner_player_id[\"winner_code\"] == 2]\n",
    "\n",
    "winer_in_each_match = pd.merge(match_between_tow_player, winer_player)\n",
    "\n",
    "series_of_match_id_top_player_played = (all_player_with_need_coulmn\n",
    "                                        [all_player_with_need_coulmn[\"player_id\"]\n",
    "                                         .isin(top_ten_palyers[\"player_id\"])]\n",
    "                                         [\"match_id\"])\n",
    "\n",
    "winer_in_each_match_top_player_played = (winer_in_each_match[winer_in_each_match[\"match_id\"]\n",
    "                                                             .isin(series_of_match_id_top_player_played)]).dropna(axis=0)\n",
    "who_win_from_top_ten = (winer_in_each_match_top_player_played\n",
    "                        [~(winer_in_each_match_top_player_played[\"player_id\"]\n",
    "                           .isin(top_ten_palyers[\"player_id\"]))])\n",
    "best_palayer_in_playe_top_ten = (who_win_from_top_ten.groupby(\"player_id\")[\"winner_code\"]\n",
    "                                 .agg(\"count\").reset_index()\n",
    "                                 .sort_values(\"winner_code\",ascending=False))\n",
    "all_player_uniqe[all_player_uniqe[\"player_id\"] == int(best_palayer_in_playe_top_ten.iloc[0][\"player_id\"])]"
   ]
  },
  {
   "cell_type": "markdown",
   "id": "7508dbce",
   "metadata": {},
   "source": [
    "### 17. What is the average number of breaks of serve per match?\n"
   ]
  },
  {
   "cell_type": "code",
   "execution_count": null,
   "id": "ef3557cc",
   "metadata": {},
   "outputs": [
    {
     "name": "stdout",
     "output_type": "stream",
     "text": [
      " Average servis per match is = 217.16\n"
     ]
    },
    {
     "data": {
      "image/png": "[encoded data removed]",
      "text/plain": [
       "<Figure size 640x480 with 1 Axes>"
      ]
     },
     "metadata": {},
     "output_type": "display_data"
    }
   ],
   "source": [
    "point_each_game = (GameInfo[[\"match_id\", \"set_id\", \"home_point\", \"away_point\", \"scoring\"]]\n",
    "                   .groupby(\"match_id\")[\"scoring\"].count()\n",
    "                   .sort_values(ascending=False))\n",
    "\n",
    "Q1 = point_each_game.quantile(0.25)\n",
    "Q3 = point_each_game.quantile(0.75)\n",
    "IQR = Q3 - Q1\n",
    "\n",
    "point_each_game_cleaned = (point_each_game[~((point_each_game < (Q1 - 1.5 * IQR)) \n",
    "                                            |\n",
    "                                            (point_each_game > (Q3 + 1.5 * IQR)))])\n",
    "\n",
    "print(f\" Average servis per match is = {point_each_game_cleaned.mean().round(3)}\")\n",
    "plt.hist(point_each_game_cleaned, rwidth=0.95 , color='purple', edgecolor='k')\n",
    "plt.show()\n"
   ]
  },
  {
   "cell_type": "code",
   "execution_count": 36,
   "id": "a34c8158",
   "metadata": {},
   "outputs": [
    {
     "data": {
      "text/html": [
       "<div>\n",
       "<style scoped>\n",
       "    .dataframe tbody tr th:only-of-type {\n",
       "        vertical-align: middle;\n",
       "    }\n",
       "\n",
       "    .dataframe tbody tr th {\n",
       "        vertical-align: top;\n",
       "    }\n",
       "\n",
       "    .dataframe thead th {\n",
       "        text-align: right;\n",
       "    }\n",
       "</style>\n",
       "<table border=\"1\" class=\"dataframe\">\n",
       "  <thead>\n",
       "    <tr style=\"text-align: right;\">\n",
       "      <th></th>\n",
       "      <th>match_id</th>\n",
       "      <th>period</th>\n",
       "      <th>statistic_category_name</th>\n",
       "      <th>statistic_name</th>\n",
       "      <th>home_stat</th>\n",
       "      <th>away_stat</th>\n",
       "      <th>compare_code</th>\n",
       "      <th>statistic_type</th>\n",
       "      <th>value_type</th>\n",
       "      <th>home_value</th>\n",
       "      <th>away_value</th>\n",
       "      <th>home_total</th>\n",
       "      <th>away_total</th>\n",
       "    </tr>\n",
       "  </thead>\n",
       "  <tbody>\n",
       "    <tr>\n",
       "      <th>0</th>\n",
       "      <td>12276839</td>\n",
       "      <td>ALL</td>\n",
       "      <td>service</td>\n",
       "      <td>aces</td>\n",
       "      <td>4</td>\n",
       "      <td>3</td>\n",
       "      <td>1</td>\n",
       "      <td>positive</td>\n",
       "      <td>event</td>\n",
       "      <td>0</td>\n",
       "      <td>0</td>\n",
       "      <td>NaN</td>\n",
       "      <td>NaN</td>\n",
       "    </tr>\n",
       "    <tr>\n",
       "      <th>1</th>\n",
       "      <td>12276839</td>\n",
       "      <td>ALL</td>\n",
       "      <td>service</td>\n",
       "      <td>double_faults</td>\n",
       "      <td>2</td>\n",
       "      <td>1</td>\n",
       "      <td>1</td>\n",
       "      <td>negative</td>\n",
       "      <td>event</td>\n",
       "      <td>2</td>\n",
       "      <td>0</td>\n",
       "      <td>NaN</td>\n",
       "      <td>NaN</td>\n",
       "    </tr>\n",
       "    <tr>\n",
       "      <th>2</th>\n",
       "      <td>12276839</td>\n",
       "      <td>ALL</td>\n",
       "      <td>service</td>\n",
       "      <td>first_serve</td>\n",
       "      <td>46/77 (60%)</td>\n",
       "      <td>42/64 (66%)</td>\n",
       "      <td>2</td>\n",
       "      <td>positive</td>\n",
       "      <td>team</td>\n",
       "      <td>88</td>\n",
       "      <td>82</td>\n",
       "      <td>77.0</td>\n",
       "      <td>64.0</td>\n",
       "    </tr>\n",
       "    <tr>\n",
       "      <th>3</th>\n",
       "      <td>12276839</td>\n",
       "      <td>ALL</td>\n",
       "      <td>service</td>\n",
       "      <td>second_serve</td>\n",
       "      <td>29/31 (94%)</td>\n",
       "      <td>21/22 (95%)</td>\n",
       "      <td>2</td>\n",
       "      <td>positive</td>\n",
       "      <td>team</td>\n",
       "      <td>24</td>\n",
       "      <td>40</td>\n",
       "      <td>31.0</td>\n",
       "      <td>22.0</td>\n",
       "    </tr>\n",
       "    <tr>\n",
       "      <th>4</th>\n",
       "      <td>12276839</td>\n",
       "      <td>ALL</td>\n",
       "      <td>service</td>\n",
       "      <td>first_serve_points</td>\n",
       "      <td>31/46 (67%)</td>\n",
       "      <td>29/42 (69%)</td>\n",
       "      <td>2</td>\n",
       "      <td>positive</td>\n",
       "      <td>team</td>\n",
       "      <td>26</td>\n",
       "      <td>10</td>\n",
       "      <td>46.0</td>\n",
       "      <td>42.0</td>\n",
       "    </tr>\n",
       "  </tbody>\n",
       "</table>\n",
       "</div>"
      ],
      "text/plain": [
       "   match_id period statistic_category_name      statistic_name    home_stat  \\\n",
       "0  12276839    ALL                 service                aces            4   \n",
       "1  12276839    ALL                 service       double_faults            2   \n",
       "2  12276839    ALL                 service         first_serve  46/77 (60%)   \n",
       "3  12276839    ALL                 service        second_serve  29/31 (94%)   \n",
       "4  12276839    ALL                 service  first_serve_points  31/46 (67%)   \n",
       "\n",
       "     away_stat  compare_code statistic_type value_type  home_value  \\\n",
       "0            3             1       positive      event           0   \n",
       "1            1             1       negative      event           2   \n",
       "2  42/64 (66%)             2       positive       team          88   \n",
       "3  21/22 (95%)             2       positive       team          24   \n",
       "4  29/42 (69%)             2       positive       team          26   \n",
       "\n",
       "   away_value  home_total  away_total  \n",
       "0           0         NaN         NaN  \n",
       "1           0         NaN         NaN  \n",
       "2          82        77.0        64.0  \n",
       "3          40        31.0        22.0  \n",
       "4          10        46.0        42.0  "
      ]
     },
     "execution_count": 36,
     "metadata": {},
     "output_type": "execute_result"
    }
   ],
   "source": [
    "PeriodInfo.head()"
   ]
  }
 ],
 "metadata": {
  "kernelspec": {
   "display_name": "Python 3 (Spyder)",
   "language": "python3",
   "name": "python3"
  },
  "language_info": {
   "codemirror_mode": {
    "name": "ipython",
    "version": 3
   },
   "file_extension": ".py",
   "mimetype": "text/x-python",
   "name": "python",
   "nbconvert_exporter": "python",
   "pygments_lexer": "ipython3",
   "version": "3.12.4"
  }
 },
 "nbformat": 4,
 "nbformat_minor": 5
}
