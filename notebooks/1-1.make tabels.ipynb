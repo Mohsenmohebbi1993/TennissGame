{
 "cells": [
  {
   "cell_type": "markdown",
   "metadata": {},
   "source": [
    "## 1 make table of data"
   ]
  },
  {
   "cell_type": "code",
   "execution_count": 1,
   "metadata": {},
   "outputs": [],
   "source": [
    "import numpy as np\n",
    "import pandas as pd\n",
    "import pyarrow.parquet as pa\n",
    "import zipfile\n",
    "import os"
   ]
  },
  {
   "cell_type": "markdown",
   "metadata": {},
   "source": [
    "away_team tabel"
   ]
  },
  {
   "cell_type": "code",
   "execution_count": null,
   "metadata": {},
   "outputs": [],
   "source": [
    "path= \"D:/DATA_Analayses/Project/TennisGame/data/raw/other\"\n",
    "dris = os.listdir(path)\n",
    "name_of_folder = pd.Series(dris)\n",
    "away_team = pd.DataFrame()\n",
    "mask = \"away_team_1\"\n",
    "for i in range(name_of_folder.size):\n",
    "    dris_each_folder = pd.Series(os.listdir(f\"D:/DATA_Analayses/Project/TennisGame/data/raw/other/{name_of_folder[i]}/data/raw/raw_match_parquet\"))\n",
    "    series_wirh_mask = dris_each_folder[dris_each_folder.str.startswith(mask)]\n",
    "    for j in range(series_wirh_mask.size):\n",
    "\n",
    "        value = pd.read_parquet (f\"D:/DATA_Analayses/Project/TennisGame/data/raw/other/{name_of_folder[i]}/data/raw/raw_match_parquet/{series_wirh_mask.iloc[i]}\", engine='pyarrow')\n",
    "        away_team = pd.concat([away_team, value])\n",
    "\n",
    "away_team.to_csv(\"D:/DATA_Analayses/Project/TennisGame/data/processed/away_team1.csv\", index=False)"
   ]
  },
  {
   "cell_type": "code",
   "execution_count": 33,
   "metadata": {},
   "outputs": [
    {
     "data": {
      "text/plain": [
       "(12955, 18)"
      ]
     },
     "execution_count": 33,
     "metadata": {},
     "output_type": "execute_result"
    }
   ],
   "source": [
    "away_team.shape\n"
   ]
  },
  {
   "cell_type": "markdown",
   "metadata": {},
   "source": [
    "2 away_team_score tabel"
   ]
  },
  {
   "cell_type": "code",
   "execution_count": 34,
   "metadata": {},
   "outputs": [],
   "source": [
    "path= \"D:/DATA_Analayses/Project/TennisGame/data/raw/other\"\n",
    "dris = os.listdir(path)\n",
    "name_of_folder = pd.Series(dris)\n",
    "away_team_score = pd.DataFrame()\n",
    "mask = \"away_team_score_1\"\n",
    "for i in range(name_of_folder.size):\n",
    "    dris_each_folder = pd.Series(os.listdir(f\"D:/DATA_Analayses/Project/TennisGame/data/raw/other/{name_of_folder[i]}/data/raw/raw_match_parquet\"))\n",
    "    series_wirh_mask = dris_each_folder[dris_each_folder.str.startswith(mask)]\n",
    "    for j in range(series_wirh_mask.size):\n",
    "\n",
    "        value = pd.read_parquet (f\"D:/DATA_Analayses/Project/TennisGame/data/raw/other/{name_of_folder[i]}/data/raw/raw_match_parquet/{series_wirh_mask.iloc[i]}\", engine='pyarrow')\n",
    "        away_team_score = pd.concat([away_team_score, value])\n",
    "away_team_score.to_csv(\"D:/DATA_Analayses/Project/TennisGame/data/processed/away_team_score1.csv\", index=False)"
   ]
  },
  {
   "cell_type": "code",
   "execution_count": 35,
   "metadata": {},
   "outputs": [
    {
     "data": {
      "text/plain": [
       "(19676, 14)"
      ]
     },
     "execution_count": 35,
     "metadata": {},
     "output_type": "execute_result"
    }
   ],
   "source": [
    "away_team_score.shape"
   ]
  },
  {
   "cell_type": "markdown",
   "metadata": {},
   "source": [
    "3 event tabel"
   ]
  },
  {
   "cell_type": "code",
   "execution_count": 2,
   "metadata": {},
   "outputs": [],
   "source": [
    "path= \"D:/DATA_Analayses/Project/TennisGame/data/raw/other\"\n",
    "dris = os.listdir(path)\n",
    "name_of_folder = pd.Series(dris)\n",
    "event = pd.DataFrame()\n",
    "mask = \"event_1\"\n",
    "for i in range(name_of_folder.size):\n",
    "    dris_each_folder = pd.Series(os.listdir(f\"D:/DATA_Analayses/Project/TennisGame/data/raw/other/{name_of_folder[i]}/data/raw/raw_match_parquet\"))\n",
    "    series_wirh_mask = dris_each_folder[dris_each_folder.str.startswith(mask)]\n",
    "    for j in range(series_wirh_mask.size):\n",
    "\n",
    "        value = pd.read_parquet (f\"D:/DATA_Analayses/Project/TennisGame/data/raw/other/{name_of_folder[i]}/data/raw/raw_match_parquet/{series_wirh_mask.iloc[i]}\", engine='pyarrow')\n",
    "        event = pd.concat([event, value])\n",
    "event.to_csv(\"D:/DATA_Analayses/Project/TennisGame/data/processed/event1.csv\", index=False)"
   ]
  },
  {
   "cell_type": "code",
   "execution_count": 3,
   "metadata": {},
   "outputs": [
    {
     "data": {
      "text/plain": [
       "(19676, 10)"
      ]
     },
     "execution_count": 3,
     "metadata": {},
     "output_type": "execute_result"
    }
   ],
   "source": [
    "event.shape"
   ]
  },
  {
   "cell_type": "markdown",
   "metadata": {},
   "source": [
    "4 match_home_team_info tabel"
   ]
  },
  {
   "cell_type": "code",
   "execution_count": null,
   "metadata": {},
   "outputs": [],
   "source": [
    "path= \"D:/DATA_Analayses/Project/TennisGame/data/raw/other\"\n",
    "dris = os.listdir(path)\n",
    "name_of_folder = pd.Series(dris)\n",
    "home_team = pd.DataFrame()\n",
    "mask = \"home_team_1\"\n",
    "for i in range(name_of_folder.size):\n",
    "    dris_each_folder = pd.Series(os.listdir(f\"D:/DATA_Analayses/Project/TennisGame/data/raw/other/{name_of_folder[i]}/data/raw/raw_match_parquet\"))\n",
    "    series_wirh_mask = dris_each_folder[dris_each_folder.str.startswith(mask)]\n",
    "    for j in range(series_wirh_mask.size):\n",
    "\n",
    "        value = pd.read_parquet (f\"D:/DATA_Analayses/Project/TennisGame/data/raw/other/{name_of_folder[i]}/data/raw/raw_match_parquet/{series_wirh_mask.iloc[i]}\", engine='pyarrow')\n",
    "        home_team = pd.concat([home_team, value])\n",
    "home_team.to_csv(\"D:/DATA_Analayses/Project/TennisGame/data/processed/home_team1.csv\", index=False)"
   ]
  },
  {
   "cell_type": "code",
   "execution_count": 5,
   "metadata": {},
   "outputs": [
    {
     "data": {
      "text/plain": [
       "(14090, 18)"
      ]
     },
     "execution_count": 5,
     "metadata": {},
     "output_type": "execute_result"
    }
   ],
   "source": [
    "home_team.shape"
   ]
  },
  {
   "cell_type": "markdown",
   "metadata": {},
   "source": [
    "5 home_team_score tabel"
   ]
  },
  {
   "cell_type": "code",
   "execution_count": 6,
   "metadata": {},
   "outputs": [],
   "source": [
    "path= \"D:/DATA_Analayses/Project/TennisGame/data/raw/other\"\n",
    "dris = os.listdir(path)\n",
    "name_of_folder = pd.Series(dris)\n",
    "home_team_score = pd.DataFrame()\n",
    "mask = \"home_team_score_1\"\n",
    "for i in range(name_of_folder.size):\n",
    "    dris_each_folder = pd.Series(os.listdir(f\"D:/DATA_Analayses/Project/TennisGame/data/raw/other/{name_of_folder[i]}/data/raw/raw_match_parquet\"))\n",
    "    series_wirh_mask = dris_each_folder[dris_each_folder.str.startswith(mask)]\n",
    "    for j in range(series_wirh_mask.size):\n",
    "\n",
    "        value = pd.read_parquet (f\"D:/DATA_Analayses/Project/TennisGame/data/raw/other/{name_of_folder[i]}/data/raw/raw_match_parquet/{series_wirh_mask.iloc[i]}\", engine='pyarrow')\n",
    "        home_team_score = pd.concat([home_team_score, value])\n",
    "home_team_score.to_csv(\"D:/DATA_Analayses/Project/TennisGame/data/processed/home_team_score1.csv\", index=False)"
   ]
  },
  {
   "cell_type": "code",
   "execution_count": 7,
   "metadata": {},
   "outputs": [
    {
     "data": {
      "text/plain": [
       "(19676, 14)"
      ]
     },
     "execution_count": 7,
     "metadata": {},
     "output_type": "execute_result"
    }
   ],
   "source": [
    "home_team_score.shape"
   ]
  }
 ],
 "metadata": {
  "kernelspec": {
   "display_name": "Tennisgameenv",
   "language": "python",
   "name": "python3"
  },
  "language_info": {
   "codemirror_mode": {
    "name": "ipython",
    "version": 3
   },
   "file_extension": ".py",
   "mimetype": "text/x-python",
   "name": "python",
   "nbconvert_exporter": "python",
   "pygments_lexer": "ipython3",
   "version": "3.12.3"
  }
 },
 "nbformat": 4,
 "nbformat_minor": 2
}
