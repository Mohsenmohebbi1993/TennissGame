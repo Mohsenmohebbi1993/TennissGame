{
 "cells": [
  {
   "cell_type": "markdown",
   "metadata": {},
   "source": [
    "## 1 make table of data"
   ]
  },
  {
   "cell_type": "code",
   "execution_count": 1,
   "metadata": {},
   "outputs": [],
   "source": [
    "import numpy as np\n",
    "import pandas as pd\n",
    "import pyarrow.parquet as pa\n",
    "import zipfile\n",
    "import os"
   ]
  },
  {
   "cell_type": "markdown",
   "metadata": {},
   "source": [
    "away_team tabel"
   ]
  },
  {
   "cell_type": "code",
   "execution_count": null,
   "metadata": {},
   "outputs": [],
   "source": [
    "way_team = pd.DataFrame()\n",
    "mask = \"away_team_1\"\n",
    "for i in range(name_of_folder.size):\n",
    "    dris_each_folder = pd.Series(os.listdir(f\"D:/DATA_Analayses/Project/TennisGame/data/raw/other/{name_of_folder[i]}/data/raw/raw_match_parquet\"))\n",
    "    series_wirh_mask = dris_each_folder[dris_each_folder.str.startswith(mask)]\n",
    "    for j in range(series_wirh_mask.size):\n",
    "\n",
    "        value = pd.read_parquet (f\"D:/DATA_Analayses/Project/TennisGame/data/raw/other/{name_of_folder[i]}/data/raw/raw_match_parquet/{series_wirh_mask.iloc[i]}\", engine='pyarrow')\n",
    "        away_team = pd.concat([away_team, value])\n",
    "\n",
    "away_team.to_csv(\"D:/DATA_Analayses/Project/TennisGame/data/processed/away_team1.csv\", index=False)"
   ]
  },
  {
   "cell_type": "code",
   "execution_count": 33,
   "metadata": {},
   "outputs": [
    {
     "data": {
      "text/plain": [
       "(12955, 18)"
      ]
     },
     "execution_count": 33,
     "metadata": {},
     "output_type": "execute_result"
    }
   ],
   "source": [
    "away_team.shape\n"
   ]
  },
  {
   "cell_type": "markdown",
   "metadata": {},
   "source": [
    "2 away_team_score tabel"
   ]
  },
  {
   "cell_type": "code",
   "execution_count": 34,
   "metadata": {},
   "outputs": [],
   "source": [
    "path= \"D:/DATA_Analayses/Project/TennisGame/data/raw/other\"\n",
    "dris = os.listdir(path)\n",
    "name_of_folder = pd.Series(dris)\n",
    "away_team_score = pd.DataFrame()\n",
    "mask = \"away_team_score_1\"\n",
    "for i in range(name_of_folder.size):\n",
    "    dris_each_folder = pd.Series(os.listdir(f\"D:/DATA_Analayses/Project/TennisGame/data/raw/other/{name_of_folder[i]}/data/raw/raw_match_parquet\"))\n",
    "    series_wirh_mask = dris_each_folder[dris_each_folder.str.startswith(mask)]\n",
    "    for j in range(series_wirh_mask.size):\n",
    "\n",
    "        value = pd.read_parquet (f\"D:/DATA_Analayses/Project/TennisGame/data/raw/other/{name_of_folder[i]}/data/raw/raw_match_parquet/{series_wirh_mask.iloc[i]}\", engine='pyarrow')\n",
    "        away_team_score = pd.concat([away_team_score, value])\n",
    "away_team_score.to_csv(\"D:/DATA_Analayses/Project/TennisGame/data/processed/away_team_score1.csv\", index=False)"
   ]
  },
  {
   "cell_type": "code",
   "execution_count": 35,
   "metadata": {},
   "outputs": [
    {
     "data": {
      "text/plain": [
       "(19676, 14)"
      ]
     },
     "execution_count": 35,
     "metadata": {},
     "output_type": "execute_result"
    }
   ],
   "source": [
    "away_team_score.shape"
   ]
  },
  {
   "cell_type": "markdown",
   "metadata": {},
   "source": [
    "3 event tabel"
   ]
  },
  {
   "cell_type": "code",
   "execution_count": 2,
   "metadata": {},
   "outputs": [],
   "source": [
    "path= \"D:/DATA_Analayses/Project/TennisGame/data/raw/other\"\n",
    "dris = os.listdir(path)\n",
    "name_of_folder = pd.Series(dris)\n",
    "event = pd.DataFrame()\n",
    "mask = \"event_1\"\n",
    "for i in range(name_of_folder.size):\n",
    "    dris_each_folder = pd.Series(os.listdir(f\"D:/DATA_Analayses/Project/TennisGame/data/raw/other/{name_of_folder[i]}/data/raw/raw_match_parquet\"))\n",
    "    series_wirh_mask = dris_each_folder[dris_each_folder.str.startswith(mask)]\n",
    "    for j in range(series_wirh_mask.size):\n",
    "\n",
    "        value = pd.read_parquet (f\"D:/DATA_Analayses/Project/TennisGame/data/raw/other/{name_of_folder[i]}/data/raw/raw_match_parquet/{series_wirh_mask.iloc[i]}\", engine='pyarrow')\n",
    "        event = pd.concat([event, value])\n",
    "event.to_csv(\"D:/DATA_Analayses/Project/TennisGame/data/processed/event1.csv\", index=False)"
   ]
  },
  {
   "cell_type": "code",
   "execution_count": 3,
   "metadata": {},
   "outputs": [
    {
     "data": {
      "text/plain": [
       "(19676, 10)"
      ]
     },
     "execution_count": 3,
     "metadata": {},
     "output_type": "execute_result"
    }
   ],
   "source": [
    "event.shape"
   ]
  },
  {
   "cell_type": "markdown",
   "metadata": {},
   "source": [
    "4 match_home_team_info tabel"
   ]
  },
  {
   "cell_type": "code",
   "execution_count": null,
   "metadata": {},
   "outputs": [],
   "source": [
    "path= \"D:/DATA_Analayses/Project/TennisGame/data/raw/other\"\n",
    "dris = os.listdir(path)\n",
    "name_of_folder = pd.Series(dris)\n",
    "home_team = pd.DataFrame()\n",
    "mask = \"home_team_1\"\n",
    "for i in range(name_of_folder.size):\n",
    "    dris_each_folder = pd.Series(os.listdir(f\"D:/DATA_Analayses/Project/TennisGame/data/raw/other/{name_of_folder[i]}/data/raw/raw_match_parquet\"))\n",
    "    series_wirh_mask = dris_each_folder[dris_each_folder.str.startswith(mask)]\n",
    "    for j in range(series_wirh_mask.size):\n",
    "\n",
    "        value = pd.read_parquet (f\"D:/DATA_Analayses/Project/TennisGame/data/raw/other/{name_of_folder[i]}/data/raw/raw_match_parquet/{series_wirh_mask.iloc[i]}\", engine='pyarrow')\n",
    "        home_team = pd.concat([home_team, value])\n",
    "home_team.to_csv(\"D:/DATA_Analayses/Project/TennisGame/data/processed/home_team1.csv\", index=False)"
   ]
  },
  {
   "cell_type": "code",
   "execution_count": 5,
   "metadata": {},
   "outputs": [
    {
     "data": {
      "text/plain": [
       "(14090, 18)"
      ]
     },
     "execution_count": 5,
     "metadata": {},
     "output_type": "execute_result"
    }
   ],
   "source": [
    "home_team.shape"
   ]
  },
  {
   "cell_type": "markdown",
   "metadata": {},
   "source": [
    "5 home_team_score tabel"
   ]
  },
  {
   "cell_type": "code",
   "execution_count": 6,
   "metadata": {},
   "outputs": [],
   "source": [
    "path= \"D:/DATA_Analayses/Project/TennisGame/data/raw/other\"\n",
    "dris = os.listdir(path)\n",
    "name_of_folder = pd.Series(dris)\n",
    "home_team_score = pd.DataFrame()\n",
    "mask = \"home_team_score_1\"\n",
    "for i in range(name_of_folder.size):\n",
    "    dris_each_folder = pd.Series(os.listdir(f\"D:/DATA_Analayses/Project/TennisGame/data/raw/other/{name_of_folder[i]}/data/raw/raw_match_parquet\"))\n",
    "    series_wirh_mask = dris_each_folder[dris_each_folder.str.startswith(mask)]\n",
    "    for j in range(series_wirh_mask.size):\n",
    "\n",
    "        value = pd.read_parquet (f\"D:/DATA_Analayses/Project/TennisGame/data/raw/other/{name_of_folder[i]}/data/raw/raw_match_parquet/{series_wirh_mask.iloc[i]}\", engine='pyarrow')\n",
    "        home_team_score = pd.concat([home_team_score, value])\n",
    "home_team_score.to_csv(\"D:/DATA_Analayses/Project/TennisGame/data/processed/home_team_score1.csv\", index=False)"
   ]
  },
  {
   "cell_type": "code",
   "execution_count": 7,
   "metadata": {},
   "outputs": [
    {
     "data": {
      "text/plain": [
       "(19676, 14)"
      ]
     },
     "execution_count": 7,
     "metadata": {},
     "output_type": "execute_result"
    }
   ],
   "source": [
    "home_team_score.shape"
   ]
  },
  {
   "cell_type": "markdown",
   "metadata": {},
   "source": [
    "6 round tabel"
   ]
  },
  {
   "cell_type": "code",
   "execution_count": 2,
   "metadata": {},
   "outputs": [],
   "source": [
    "path= \"D:/DATA_Analayses/Project/TennisGame/data/raw/other\"\n",
    "dris = os.listdir(path)\n",
    "name_of_folder = pd.Series(dris)\n",
    "round = pd.DataFrame()\n",
    "mask = \"round_1\"\n",
    "for i in range(name_of_folder.size):\n",
    "    dris_each_folder = pd.Series(os.listdir(f\"D:/DATA_Analayses/Project/TennisGame/data/raw/other/{name_of_folder[i]}/data/raw/raw_match_parquet\"))\n",
    "    series_wirh_mask = dris_each_folder[dris_each_folder.str.startswith(mask)]\n",
    "    for j in range(series_wirh_mask.size):\n",
    "\n",
    "        value = pd.read_parquet (f\"D:/DATA_Analayses/Project/TennisGame/data/raw/other/{name_of_folder[i]}/data/raw/raw_match_parquet/{series_wirh_mask.iloc[i]}\", engine='pyarrow')\n",
    "        round = pd.concat([round, value])\n",
    "round.to_csv(\"D:/DATA_Analayses/Project/TennisGame/data/processed/round1.csv\", index=False)"
   ]
  },
  {
   "cell_type": "code",
   "execution_count": 3,
   "metadata": {},
   "outputs": [
    {
     "data": {
      "text/plain": [
       "(12087, 5)"
      ]
     },
     "execution_count": 3,
     "metadata": {},
     "output_type": "execute_result"
    }
   ],
   "source": [
    "round.shape"
   ]
  },
  {
   "cell_type": "markdown",
   "metadata": {},
   "source": [
    "7 season tabel"
   ]
  },
  {
   "cell_type": "code",
   "execution_count": 4,
   "metadata": {},
   "outputs": [],
   "source": [
    "path= \"D:/DATA_Analayses/Project/TennisGame/data/raw/other\"\n",
    "dris = os.listdir(path)\n",
    "name_of_folder = pd.Series(dris)\n",
    "season = pd.DataFrame()\n",
    "mask = \"season_1\"\n",
    "for i in range(name_of_folder.size):\n",
    "    dris_each_folder = pd.Series(os.listdir(f\"D:/DATA_Analayses/Project/TennisGame/data/raw/other/{name_of_folder[i]}/data/raw/raw_match_parquet\"))\n",
    "    series_wirh_mask = dris_each_folder[dris_each_folder.str.startswith(mask)]\n",
    "    for j in range(series_wirh_mask.size):\n",
    "\n",
    "        value = pd.read_parquet (f\"D:/DATA_Analayses/Project/TennisGame/data/raw/other/{name_of_folder[i]}/data/raw/raw_match_parquet/{series_wirh_mask.iloc[i]}\", engine='pyarrow')\n",
    "        season = pd.concat([season, value])\n",
    "season.to_csv(\"D:/DATA_Analayses/Project/TennisGame/data/processed/season1.csv\", index=False)"
   ]
  },
  {
   "cell_type": "code",
   "execution_count": 5,
   "metadata": {},
   "outputs": [
    {
     "data": {
      "text/plain": [
       "(19676, 4)"
      ]
     },
     "execution_count": 5,
     "metadata": {},
     "output_type": "execute_result"
    }
   ],
   "source": [
    "season.shape"
   ]
  },
  {
   "cell_type": "markdown",
   "metadata": {},
   "source": [
    "8 time tabel"
   ]
  },
  {
   "cell_type": "code",
   "execution_count": 6,
   "metadata": {},
   "outputs": [],
   "source": [
    "path= \"D:/DATA_Analayses/Project/TennisGame/data/raw/other\"\n",
    "dris = os.listdir(path)\n",
    "name_of_folder = pd.Series(dris)\n",
    "time = pd.DataFrame()\n",
    "mask = \"time_1\"\n",
    "for i in range(name_of_folder.size):\n",
    "    dris_each_folder = pd.Series(os.listdir(f\"D:/DATA_Analayses/Project/TennisGame/data/raw/other/{name_of_folder[i]}/data/raw/raw_match_parquet\"))\n",
    "    series_wirh_mask = dris_each_folder[dris_each_folder.str.startswith(mask)]\n",
    "    for j in range(series_wirh_mask.size):\n",
    "\n",
    "        value = pd.read_parquet (f\"D:/DATA_Analayses/Project/TennisGame/data/raw/other/{name_of_folder[i]}/data/raw/raw_match_parquet/{series_wirh_mask.iloc[i]}\", engine='pyarrow')\n",
    "        time = pd.concat([time, value])\n",
    "time.to_csv(\"D:/DATA_Analayses/Project/TennisGame/data/processed/time1.csv\", index=False)"
   ]
  },
  {
   "cell_type": "code",
   "execution_count": 7,
   "metadata": {},
   "outputs": [
    {
     "data": {
      "text/plain": [
       "(19676, 7)"
      ]
     },
     "execution_count": 7,
     "metadata": {},
     "output_type": "execute_result"
    }
   ],
   "source": [
    "time.shape"
   ]
  },
  {
   "cell_type": "markdown",
   "metadata": {},
   "source": [
    "9 tournament"
   ]
  },
  {
   "cell_type": "code",
   "execution_count": 8,
   "metadata": {},
   "outputs": [],
   "source": [
    "path= \"D:/DATA_Analayses/Project/TennisGame/data/raw/other\"\n",
    "dris = os.listdir(path)\n",
    "name_of_folder = pd.Series(dris)\n",
    "tournament = pd.DataFrame()\n",
    "mask = \"tournament_1\"\n",
    "for i in range(name_of_folder.size):\n",
    "    dris_each_folder = pd.Series(os.listdir(f\"D:/DATA_Analayses/Project/TennisGame/data/raw/other/{name_of_folder[i]}/data/raw/raw_match_parquet\"))\n",
    "    series_wirh_mask = dris_each_folder[dris_each_folder.str.startswith(mask)]\n",
    "    for j in range(series_wirh_mask.size):\n",
    "\n",
    "        value = pd.read_parquet (f\"D:/DATA_Analayses/Project/TennisGame/data/raw/other/{name_of_folder[i]}/data/raw/raw_match_parquet/{series_wirh_mask.iloc[i]}\", engine='pyarrow')\n",
    "        tournament = pd.concat([tournament, value])\n",
    "tournament.to_csv(\"D:/DATA_Analayses/Project/TennisGame/data/processed/tournament1.csv\", index=False)"
   ]
  },
  {
   "cell_type": "code",
   "execution_count": 9,
   "metadata": {},
   "outputs": [
    {
     "data": {
      "text/plain": [
       "(19676, 16)"
      ]
     },
     "execution_count": 9,
     "metadata": {},
     "output_type": "execute_result"
    }
   ],
   "source": [
    "tournament.shape"
   ]
  },
  {
   "cell_type": "markdown",
   "metadata": {},
   "source": [
    "10 venue"
   ]
  },
  {
   "cell_type": "code",
   "execution_count": 10,
   "metadata": {},
   "outputs": [],
   "source": [
    "path= \"D:/DATA_Analayses/Project/TennisGame/data/raw/other\"\n",
    "dris = os.listdir(path)\n",
    "name_of_folder = pd.Series(dris)\n",
    "venue = pd.DataFrame()\n",
    "mask = \"venue_1\"\n",
    "for i in range(name_of_folder.size):\n",
    "    dris_each_folder = pd.Series(os.listdir(f\"D:/DATA_Analayses/Project/TennisGame/data/raw/other/{name_of_folder[i]}/data/raw/raw_match_parquet\"))\n",
    "    series_wirh_mask = dris_each_folder[dris_each_folder.str.startswith(mask)]\n",
    "    for j in range(series_wirh_mask.size):\n",
    "\n",
    "        value = pd.read_parquet (f\"D:/DATA_Analayses/Project/TennisGame/data/raw/other/{name_of_folder[i]}/data/raw/raw_match_parquet/{series_wirh_mask.iloc[i]}\", engine='pyarrow')\n",
    "        venue = pd.concat([venue, value])\n",
    "venue.to_csv(\"D:/DATA_Analayses/Project/TennisGame/data/processed/venue1.csv\", index=False)"
   ]
  },
  {
   "cell_type": "code",
   "execution_count": 11,
   "metadata": {},
   "outputs": [
    {
     "data": {
      "text/plain": [
       "(19589, 5)"
      ]
     },
     "execution_count": 11,
     "metadata": {},
     "output_type": "execute_result"
    }
   ],
   "source": [
    "venue.shape"
   ]
  },
  {
   "cell_type": "markdown",
   "metadata": {},
   "source": [
    "11 odds table"
   ]
  },
  {
   "cell_type": "code",
   "execution_count": 18,
   "metadata": {},
   "outputs": [
    {
     "name": "stdout",
     "output_type": "stream",
     "text": [
      "20240501  dataframe size (0, 0)\n",
      "20240502  dataframe size (3276, 11)\n",
      "20240503  dataframe size (5766, 11)\n",
      "20240504  dataframe size (7326, 11)\n",
      "20240505  dataframe size (8718, 11)\n",
      "20240506  dataframe size (10674, 11)\n",
      "20240507  dataframe size (11676, 11)\n",
      "20240508  dataframe size (15288, 11)\n",
      "20240509  dataframe size (18588, 11)\n",
      "20240510  dataframe size (21282, 11)\n",
      "20240511  dataframe size (22986, 11)\n",
      "20240512  dataframe size (24336, 11)\n",
      "20240513  dataframe size (24954, 11)\n",
      "20240514  dataframe size (27522, 11)\n",
      "20240515  dataframe size (30966, 11)\n",
      "20240516  dataframe size (34476, 11)\n",
      "20240517  dataframe size (36978, 11)\n",
      "20240518  dataframe size (38736, 11)\n",
      "20240519  dataframe size (40302, 11)\n",
      "20240520  dataframe size (41036, 11)\n",
      "20240521  dataframe size (43850, 11)\n",
      "20240522  dataframe size (46244, 11)\n",
      "20240523  dataframe size (47270, 11)\n",
      "20240524  dataframe size (48266, 11)\n",
      "20240525  dataframe size (49430, 11)\n",
      "20240526  dataframe size (49802, 11)\n",
      "20240527  dataframe size (51470, 11)\n",
      "20240528  dataframe size (54614, 11)\n",
      "20240529  dataframe size (58556, 11)\n",
      "20240530  dataframe size (62282, 11)\n",
      "20240531  dataframe size (65036, 11)\n"
     ]
    }
   ],
   "source": [
    "path= \"D:/DATA_Analayses/Project/TennisGame/data/raw/other\"\n",
    "dris = os.listdir(path)\n",
    "name_of_folder = pd.Series(dris)\n",
    "odds = pd.DataFrame()\n",
    "#mask = \"odds_1\"\n",
    "for i in range(name_of_folder.size):\n",
    "    dris_each_folder = pd.Series(os.listdir(f\"D:/DATA_Analayses/Project/TennisGame/data/raw/other/{name_of_folder[i]}/data/raw/raw_odds_parquet\"))\n",
    "    print(name_of_folder[i], \" dataframe size\", odds.shape)\n",
    "\n",
    "    series_wirh_mask = dris_each_folder\n",
    "    for j in range(series_wirh_mask.size):\n",
    "\n",
    "        value = pd.read_parquet (f\"D:/DATA_Analayses/Project/TennisGame/data/raw/other/{name_of_folder[i]}/data/raw/raw_odds_parquet/{series_wirh_mask.iloc[i]}\", engine='pyarrow')\n",
    "        odds = pd.concat([odds, value])\n",
    "odds.to_csv(\"D:/DATA_Analayses/Project/TennisGame/data/processed/odds1.csv\", index=False)"
   ]
  },
  {
   "cell_type": "code",
   "execution_count": 15,
   "metadata": {},
   "outputs": [
    {
     "data": {
      "text/plain": [
       "(66710, 11)"
      ]
     },
     "execution_count": 15,
     "metadata": {},
     "output_type": "execute_result"
    }
   ],
   "source": [
    "odds.shape"
   ]
  },
  {
   "cell_type": "markdown",
   "metadata": {},
   "source": [
    "12 pbp table"
   ]
  },
  {
   "cell_type": "code",
   "execution_count": 19,
   "metadata": {},
   "outputs": [
    {
     "name": "stdout",
     "output_type": "stream",
     "text": [
      "20240501  dataframe size (0, 0)\n",
      "20240502  dataframe size (63710, 13)\n",
      "20240503  dataframe size (117210, 13)\n",
      "20240504  dataframe size (137987, 13)\n",
      "20240505  dataframe size (172238, 13)\n",
      "20240506  dataframe size (224676, 13)\n",
      "20240507  dataframe size (291756, 13)\n",
      "20240508  dataframe size (421401, 13)\n",
      "20240509  dataframe size (498285, 13)\n",
      "20240510  dataframe size (577715, 13)\n",
      "20240511  dataframe size (602569, 13)\n",
      "20240512  dataframe size (613839, 13)\n",
      "20240513  dataframe size (651375, 13)\n",
      "20240514  dataframe size (702360, 13)\n",
      "20240515  dataframe size (803951, 13)\n",
      "20240516  dataframe size (890063, 13)\n",
      "20240517  dataframe size (959425, 13)\n",
      "20240518  dataframe size (1001403, 13)\n",
      "20240519  dataframe size (1024228, 13)\n",
      "20240520  dataframe size (1056290, 13)\n",
      "20240521  dataframe size (1133759, 13)\n",
      "20240522  dataframe size (1212730, 13)\n",
      "20240523  dataframe size (1263527, 13)\n",
      "20240524  dataframe size (1326239, 13)\n",
      "20240525  dataframe size (1347955, 13)\n",
      "20240526  dataframe size (1356729, 13)\n",
      "20240527  dataframe size (1370353, 13)\n",
      "20240528  dataframe size (1458038, 13)\n",
      "20240529  dataframe size (1492331, 13)\n",
      "20240530  dataframe size (1565264, 13)\n",
      "20240531  dataframe size (1605416, 13)\n"
     ]
    }
   ],
   "source": [
    "path= \"D:/DATA_Analayses/Project/TennisGame/data/raw/other\"\n",
    "dris = os.listdir(path)\n",
    "name_of_folder = pd.Series(dris)\n",
    "pbp = pd.DataFrame()\n",
    "#mask = \"odds_1\"\n",
    "for i in range(name_of_folder.size):\n",
    "    dris_each_folder = pd.Series(os.listdir(f\"D:/DATA_Analayses/Project/TennisGame/data/raw/other/{name_of_folder[i]}/data/raw/raw_point_by_point_parquet\"))\n",
    "    print(name_of_folder[i], \" dataframe size\", pbp.shape)\n",
    "\n",
    "    series_wirh_mask = dris_each_folder\n",
    "    for j in range(series_wirh_mask.size):\n",
    "\n",
    "        value = pd.read_parquet (f\"D:/DATA_Analayses/Project/TennisGame/data/raw/other/{name_of_folder[i]}/data/raw/raw_point_by_point_parquet/{series_wirh_mask.iloc[i]}\", engine='pyarrow')\n",
    "        pbp = pd.concat([pbp, value])\n",
    "pbp.to_csv(\"D:/DATA_Analayses/Project/TennisGame/data/processed/pbp1.csv\", index=False)"
   ]
  },
  {
   "cell_type": "code",
   "execution_count": 20,
   "metadata": {},
   "outputs": [
    {
     "data": {
      "text/plain": [
       "(1631256, 13)"
      ]
     },
     "execution_count": 20,
     "metadata": {},
     "output_type": "execute_result"
    }
   ],
   "source": [
    "pbp.shape"
   ]
  },
  {
   "cell_type": "markdown",
   "metadata": {},
   "source": [
    "13 statistics table"
   ]
  },
  {
   "cell_type": "code",
   "execution_count": 24,
   "metadata": {},
   "outputs": [
    {
     "name": "stdout",
     "output_type": "stream",
     "text": [
      "20240501  dataframe size (0, 0)\n",
      "20240502  dataframe size (30780, 13)\n",
      "20240503  dataframe size (61878, 13)\n",
      "20240504  dataframe size (71398, 13)\n",
      "20240505  dataframe size (84358, 13)\n",
      "20240506  dataframe size (108640, 13)\n",
      "20240507  dataframe size (137314, 13)\n",
      "20240508  dataframe size (183890, 13)\n",
      "20240509  dataframe size (216830, 13)\n",
      "20240510  dataframe size (251265, 13)\n",
      "20240511  dataframe size (267465, 13)\n",
      "20240512  dataframe size (280927, 13)\n",
      "20240513  dataframe size (301771, 13)\n",
      "20240514  dataframe size (331039, 13)\n",
      "20240515  dataframe size (379603, 13)\n",
      "20240516  dataframe size (414271, 13)\n",
      "20240517  dataframe size (446292, 13)\n",
      "20240518  dataframe size (468302, 13)\n",
      "20240519  dataframe size (483476, 13)\n",
      "20240520  dataframe size (505184, 13)\n",
      "20240521  dataframe size (534398, 13)\n",
      "20240522  dataframe size (565448, 13)\n",
      "20240523  dataframe size (612947, 13)\n",
      "20240524  dataframe size (647453, 13)\n",
      "20240525  dataframe size (661061, 13)\n",
      "20240526  dataframe size (667541, 13)\n",
      "20240527  dataframe size (680468, 13)\n",
      "20240528  dataframe size (717668, 13)\n",
      "20240529  dataframe size (759012, 13)\n",
      "20240530  dataframe size (797240, 13)\n",
      "20240531  dataframe size (852570, 13)\n"
     ]
    }
   ],
   "source": [
    "path= \"D:/DATA_Analayses/Project/TennisGame/data/raw/other\"\n",
    "dris = os.listdir(path)\n",
    "name_of_folder = pd.Series(dris)\n",
    "statistics = pd.DataFrame()\n",
    "#mask = \"odds_1\"\n",
    "for i in range(name_of_folder.size):\n",
    "    dris_each_folder = pd.Series(os.listdir(f\"D:/DATA_Analayses/Project/TennisGame/data/raw/other/{name_of_folder[i]}/data/raw/raw_statistics_parquet\"))\n",
    "    print(name_of_folder[i], \" dataframe size\", statistics.shape)\n",
    "\n",
    "    series_wirh_mask = dris_each_folder\n",
    "    for j in range(series_wirh_mask.size):\n",
    "\n",
    "        value = pd.read_parquet (f\"D:/DATA_Analayses/Project/TennisGame/data/raw/other/{name_of_folder[i]}/data/raw/raw_statistics_parquet/{series_wirh_mask.iloc[i]}\", engine='pyarrow')\n",
    "        statistics = pd.concat([statistics, value])\n",
    "statistics.to_csv(\"D:/DATA_Analayses/Project/TennisGame/data/processed/statistics1.csv\", index=False)"
   ]
  },
  {
   "cell_type": "code",
   "execution_count": 25,
   "metadata": {},
   "outputs": [
    {
     "data": {
      "text/plain": [
       "(884910, 13)"
      ]
     },
     "execution_count": 25,
     "metadata": {},
     "output_type": "execute_result"
    }
   ],
   "source": [
    "statistics.shape"
   ]
  },
  {
   "cell_type": "markdown",
   "metadata": {},
   "source": [
    "14 power table"
   ]
  },
  {
   "cell_type": "code",
   "execution_count": 26,
   "metadata": {},
   "outputs": [],
   "source": [
    "path= \"D:/DATA_Analayses/Project/TennisGame/data/raw/other\"\n",
    "dris = os.listdir(path)\n",
    "name_of_folder = pd.Series(dris)\n",
    "power = pd.DataFrame()\n",
    "#mask = \"odds_1\"\n",
    "for i in range(name_of_folder.size):\n",
    "    dris_each_folder = pd.Series(os.listdir(f\"D:/DATA_Analayses/Project/TennisGame/data/raw/other/{name_of_folder[i]}/data/raw/raw_tennis_power_parquet\"))\n",
    "\n",
    "    series_wirh_mask = dris_each_folder\n",
    "    for j in range(series_wirh_mask.size):\n",
    "\n",
    "        value = pd.read_parquet (f\"D:/DATA_Analayses/Project/TennisGame/data/raw/other/{name_of_folder[i]}/data/raw/raw_tennis_power_parquet/{series_wirh_mask.iloc[i]}\", engine='pyarrow')\n",
    "        power = pd.concat([power, value])\n",
    "power.to_csv(\"D:/DATA_Analayses/Project/TennisGame/data/processed/power1.csv\", index=False)"
   ]
  },
  {
   "cell_type": "code",
   "execution_count": 27,
   "metadata": {},
   "outputs": [
    {
     "data": {
      "text/plain": [
       "(313871, 5)"
      ]
     },
     "execution_count": 27,
     "metadata": {},
     "output_type": "execute_result"
    }
   ],
   "source": [
    "power.shape"
   ]
  },
  {
   "cell_type": "markdown",
   "metadata": {},
   "source": [
    "15 votes"
   ]
  },
  {
   "cell_type": "code",
   "execution_count": 28,
   "metadata": {},
   "outputs": [],
   "source": [
    "path= \"D:/DATA_Analayses/Project/TennisGame/data/raw/other\"\n",
    "dris = os.listdir(path)\n",
    "name_of_folder = pd.Series(dris)\n",
    "votes = pd.DataFrame()\n",
    "#mask = \"odds_1\"\n",
    "for i in range(name_of_folder.size):\n",
    "    dris_each_folder = pd.Series(os.listdir(f\"D:/DATA_Analayses/Project/TennisGame/data/raw/other/{name_of_folder[i]}/data/raw/raw_votes_parquet\"))\n",
    "\n",
    "    series_wirh_mask = dris_each_folder\n",
    "    for j in range(series_wirh_mask.size):\n",
    "\n",
    "        value = pd.read_parquet (f\"D:/DATA_Analayses/Project/TennisGame/data/raw/other/{name_of_folder[i]}/data/raw/raw_votes_parquet/{series_wirh_mask.iloc[i]}\", engine='pyarrow')\n",
    "        votes = pd.concat([votes, value])\n",
    "votes.to_csv(\"D:/DATA_Analayses/Project/TennisGame/data/processed/votes1.csv\", index=False)"
   ]
  },
  {
   "cell_type": "code",
   "execution_count": 29,
   "metadata": {},
   "outputs": [
    {
     "data": {
      "text/plain": [
       "(19677, 3)"
      ]
     },
     "execution_count": 29,
     "metadata": {},
     "output_type": "execute_result"
    }
   ],
   "source": [
    "votes.shape"
   ]
  }
 ],
 "metadata": {
  "kernelspec": {
   "display_name": "Tennisgameenv",
   "language": "python",
   "name": "python3"
  },
  "language_info": {
   "codemirror_mode": {
    "name": "ipython",
    "version": 3
   },
   "file_extension": ".py",
   "mimetype": "text/x-python",
   "name": "python",
   "nbconvert_exporter": "python",
   "pygments_lexer": "ipython3",
   "version": "3.12.3"
  }
 },
 "nbformat": 4,
 "nbformat_minor": 2
}
