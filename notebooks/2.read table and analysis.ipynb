{
 "cells": [
  {
   "cell_type": "markdown",
   "metadata": {},
   "source": [
    "# 2. import table and analysis\n",
    "\n",
    "1. import table and processing\n"
   ]
  },
  {
   "cell_type": "code",
   "execution_count": 3,
   "metadata": {},
   "outputs": [],
   "source": [
    "import numpy as np\n",
    "import pandas as pd\n",
    "import pyarrow.parquet as pa\n",
    "import zipfile\n",
    "import os"
   ]
  },
  {
   "cell_type": "markdown",
   "metadata": {},
   "source": [
    "## read data"
   ]
  },
  {
   "cell_type": "code",
   "execution_count": 4,
   "metadata": {},
   "outputs": [],
   "source": [
    "path= \"D:/DATA_Analayses/Project/TennisGame/data/processed\"\n",
    "dris = os.listdir(path)\n",
    "name_of_folder = pd.Series(dris)\n",
    "\n",
    "\n"
   ]
  },
  {
   "cell_type": "code",
   "execution_count": 64,
   "metadata": {},
   "outputs": [],
   "source": [
    "a = pd.read_csv(\"D:/DATA_Analayses/Project/TennisGame/data/processed/New folder/PowerInfo.csv\")\n"
   ]
  },
  {
   "cell_type": "code",
   "execution_count": 65,
   "metadata": {},
   "outputs": [
    {
     "name": "stdout",
     "output_type": "stream",
     "text": [
      "<class 'pandas.core.frame.DataFrame'>\n",
      "RangeIndex: 269694 entries, 0 to 269693\n",
      "Data columns (total 5 columns):\n",
      " #   Column          Non-Null Count   Dtype  \n",
      "---  ------          --------------   -----  \n",
      " 0   match_id        269694 non-null  int64  \n",
      " 1   set_num         269694 non-null  int64  \n",
      " 2   game_num        269694 non-null  int64  \n",
      " 3   value           269694 non-null  float64\n",
      " 4   break_occurred  269694 non-null  bool   \n",
      "dtypes: bool(1), float64(1), int64(3)\n",
      "memory usage: 8.5 MB\n"
     ]
    }
   ],
   "source": [
    "a.info()"
   ]
  },
  {
   "cell_type": "code",
   "execution_count": 66,
   "metadata": {},
   "outputs": [],
   "source": [
    "a.to_csv(\"D:/DATA_Analayses/Project/TennisGame/data/processed/PowerInfo.csv\")"
   ]
  },
  {
   "cell_type": "code",
   "execution_count": 67,
   "metadata": {},
   "outputs": [],
   "source": [
    "GameInfo = pd.read_csv(\"D:/DATA_Analayses/Project/TennisGame/data/processed/GameInfo.csv\")\n",
    "MatchAwayScoreInfo = pd.read_csv(\"D:/DATA_Analayses/Project/TennisGame/data/processed/MatchAwayScoreInfo.csv\")\n",
    "MatchAwayTeamInfo = pd.read_csv(\"D:/DATA_Analayses/Project/TennisGame/data/processed/MatchAwayTeamInfo.csv\")\n",
    "MatchEventInfo = pd.read_csv(\"D:/DATA_Analayses/Project/TennisGame/data/processed/MatchEventInfo.csv\")\n",
    "MatchHomeScoreInfo = pd.read_csv(\"D:/DATA_Analayses/Project/TennisGame/data/processed/MatchHomeScoreInfo.csv\")\n",
    "MatchHomeTeamInfo = pd.read_csv(\"D:/DATA_Analayses/Project/TennisGame/data/processed/MatchHomeTeamInfo.csv\")\n",
    "MatchRoundInfo = pd.read_csv(\"D:/DATA_Analayses/Project/TennisGame/data/processed/MatchRoundInfo.csv\")\n",
    "MatchSeasonInfo = pd.read_csv(\"D:/DATA_Analayses/Project/TennisGame/data/processed/MatchSeasonInfo.csv\")\n",
    "MatchTimeInfo = pd.read_csv(\"D:/DATA_Analayses/Project/TennisGame/data/processed/MatchTimeInfo.csv\")\n",
    "MatchTournamentInfo = pd.read_csv(\"D:/DATA_Analayses/Project/TennisGame/data/processed/MatchTournamentInfo.csv\")\n",
    "MatchVenueInfo = pd.read_csv(\"D:/DATA_Analayses/Project/TennisGame/data/processed/MatchVenueInfo.csv\")\n",
    "MatchVotesInfo = pd.read_csv(\"D:/DATA_Analayses/Project/TennisGame/data/processed/MatchVotesInfo.csv\")\n",
    "OddsInfo = pd.read_csv(\"D:/DATA_Analayses/Project/TennisGame/data/processed/OddsInfo.csv\")\n",
    "PeriodInfo = pd.read_csv(\"D:/DATA_Analayses/Project/TennisGame/data/processed/PeriodInfo.csv\")\n",
    "PowerInfo = pd.read_csv(\"D:/DATA_Analayses/Project/TennisGame/data/processed/PowerInfo.csv\")\n"
   ]
  },
  {
   "cell_type": "code",
   "execution_count": 88,
   "metadata": {},
   "outputs": [
    {
     "data": {
      "text/plain": [
       "(269694, 6)"
      ]
     },
     "execution_count": 88,
     "metadata": {},
     "output_type": "execute_result"
    }
   ],
   "source": [
    "PowerInfo.shape"
   ]
  }
 ],
 "metadata": {
  "kernelspec": {
   "display_name": "Tennisgameenv",
   "language": "python",
   "name": "python3"
  },
  "language_info": {
   "codemirror_mode": {
    "name": "ipython",
    "version": 3
   },
   "file_extension": ".py",
   "mimetype": "text/x-python",
   "name": "python",
   "nbconvert_exporter": "python",
   "pygments_lexer": "ipython3",
   "version": "3.12.3"
  }
 },
 "nbformat": 4,
 "nbformat_minor": 2
}
