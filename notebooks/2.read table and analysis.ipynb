{
 "cells": [
  {
   "cell_type": "markdown",
   "metadata": {},
   "source": [
    "# 2. Read table and analysis\n",
    "\n",
    "1. Read table and processing\n"
   ]
  },
  {
   "cell_type": "code",
   "execution_count": 2,
   "metadata": {},
   "outputs": [],
   "source": [
    "import numpy as np\n",
    "import pandas as pd\n",
    "import pyarrow.parquet as pa\n",
    "import zipfile\n",
    "import os"
   ]
  },
  {
   "cell_type": "markdown",
   "metadata": {},
   "source": [
    "## read data"
   ]
  },
  {
   "cell_type": "code",
   "execution_count": 4,
   "metadata": {},
   "outputs": [],
   "source": [
    "path= \"D:/DATA_Analayses/Project/TennisGame/data/processed\"\n",
    "dris = os.listdir(path)\n",
    "name_of_folder = pd.Series(dris)\n",
    "\n",
    "\n"
   ]
  },
  {
   "cell_type": "code",
   "execution_count": 5,
   "metadata": {},
   "outputs": [],
   "source": [
    "GameInfo = pd.read_csv(\"D:/DATA_Analayses/Project/TennisGame/data/processed/GameInfo.csv\").drop(columns=[\"Unnamed: 0\"])\n",
    "MatchAwayScoreInfo = pd.read_csv(\"D:/DATA_Analayses/Project/TennisGame/data/processed/MatchAwayScoreInfo.csv\").drop(columns=[\"Unnamed: 0\"])\n",
    "MatchAwayTeamInfo = pd.read_csv(\"D:/DATA_Analayses/Project/TennisGame/data/processed/MatchAwayTeamInfo.csv\").drop(columns=[\"Unnamed: 0\"])\n",
    "MatchEventInfo = pd.read_csv(\"D:/DATA_Analayses/Project/TennisGame/data/processed/MatchEventInfo.csv\").drop(columns=[\"Unnamed: 0\"])\n",
    "MatchHomeScoreInfo = pd.read_csv(\"D:/DATA_Analayses/Project/TennisGame/data/processed/MatchHomeScoreInfo.csv\").drop(columns=[\"Unnamed: 0\"])\n",
    "MatchHomeTeamInfo = pd.read_csv(\"D:/DATA_Analayses/Project/TennisGame/data/processed/MatchHomeTeamInfo.csv\").drop(columns=[\"Unnamed: 0\"])\n",
    "MatchRoundInfo = pd.read_csv(\"D:/DATA_Analayses/Project/TennisGame/data/processed/MatchRoundInfo.csv\").drop(columns=[\"Unnamed: 0\"])\n",
    "MatchSeasonInfo = pd.read_csv(\"D:/DATA_Analayses/Project/TennisGame/data/processed/MatchSeasonInfo.csv\").drop(columns=[\"Unnamed: 0\"])\n",
    "MatchTimeInfo = pd.read_csv(\"D:/DATA_Analayses/Project/TennisGame/data/processed/MatchTimeInfo.csv\").drop(columns=[\"Unnamed: 0\"])\n",
    "MatchTournamentInfo = pd.read_csv(\"D:/DATA_Analayses/Project/TennisGame/data/processed/MatchTournamentInfo.csv\").drop(columns=[\"Unnamed: 0\"])\n",
    "MatchVenueInfo = pd.read_csv(\"D:/DATA_Analayses/Project/TennisGame/data/processed/MatchVenueInfo.csv\").drop(columns=[\"Unnamed: 0\"])\n",
    "MatchVotesInfo = pd.read_csv(\"D:/DATA_Analayses/Project/TennisGame/data/processed/MatchVotesInfo.csv\").drop(columns=[\"Unnamed: 0\"])\n",
    "OddsInfo = pd.read_csv(\"D:/DATA_Analayses/Project/TennisGame/data/processed/OddsInfo.csv\").drop(columns=[\"Unnamed: 0\"])\n",
    "PeriodInfo = pd.read_csv(\"D:/DATA_Analayses/Project/TennisGame/data/processed/PeriodInfo.csv\").drop(columns=[\"Unnamed: 0\"])\n",
    "PowerInfo = pd.read_csv(\"D:/DATA_Analayses/Project/TennisGame/data/processed/PowerInfo.csv\").drop(columns=[\"Unnamed: 0\"])\n"
   ]
  },
  {
   "cell_type": "markdown",
   "metadata": {},
   "source": [
    "### 1.\tHow many tennis players are included in the dataset?"
   ]
  },
  {
   "cell_type": "code",
   "execution_count": 51,
   "metadata": {},
   "outputs": [
    {
     "name": "stdout",
     "output_type": "stream",
     "text": [
      "<class 'pandas.core.frame.DataFrame'>\n",
      "RangeIndex: 14090 entries, 0 to 14089\n",
      "Data columns (total 18 columns):\n",
      " #   Column         Non-Null Count  Dtype  \n",
      "---  ------         --------------  -----  \n",
      " 0   match_id       14090 non-null  int64  \n",
      " 1   name           14090 non-null  object \n",
      " 2   slug           14090 non-null  object \n",
      " 3   gender         14061 non-null  object \n",
      " 4   user_count     14090 non-null  int64  \n",
      " 5   residence      3764 non-null   object \n",
      " 6   birthplace     7806 non-null   object \n",
      " 7   height         7585 non-null   float64\n",
      " 8   weight         3610 non-null   float64\n",
      " 9   plays          6737 non-null   object \n",
      " 10  turned_pro     2668 non-null   float64\n",
      " 11  current_prize  13984 non-null  float64\n",
      " 12  total_prize    14047 non-null  float64\n",
      " 13  player_id      14090 non-null  int64  \n",
      " 14  current_rank   13933 non-null  float64\n",
      " 15  name_code      14090 non-null  object \n",
      " 16  country        14090 non-null  object \n",
      " 17  full_name      14090 non-null  object \n",
      "dtypes: float64(6), int64(3), object(9)\n",
      "memory usage: 1.9+ MB\n"
     ]
    }
   ],
   "source": [
    "MatchHomeTeamInfo.info()\n"
   ]
  },
  {
   "cell_type": "markdown",
   "metadata": {},
   "source": [
    "1st way: Find player with player_id"
   ]
  },
  {
   "cell_type": "code",
   "execution_count": 47,
   "metadata": {},
   "outputs": [
    {
     "data": {
      "text/plain": [
       "2352"
      ]
     },
     "execution_count": 47,
     "metadata": {},
     "output_type": "execute_result"
    }
   ],
   "source": [
    "player_id = pd.concat([MatchAwayTeamInfo[\"player_id\"], MatchHomeTeamInfo[\"player_id\"]])\n",
    "player_id.unique().size"
   ]
  },
  {
   "cell_type": "markdown",
   "metadata": {},
   "source": [
    "2nd way: Find player with full_name"
   ]
  },
  {
   "cell_type": "code",
   "execution_count": 50,
   "metadata": {},
   "outputs": [
    {
     "data": {
      "text/plain": [
       "2353"
      ]
     },
     "execution_count": 50,
     "metadata": {},
     "output_type": "execute_result"
    }
   ],
   "source": [
    "player_full_name = pd.concat([MatchAwayTeamInfo[\"full_name\"], MatchHomeTeamInfo[\"full_name\"]])\n",
    "player_full_name.unique().size"
   ]
  },
  {
   "cell_type": "markdown",
   "metadata": {},
   "source": [
    "### 2.\tWhat is the average height of the players?"
   ]
  },
  {
   "cell_type": "code",
   "execution_count": 55,
   "metadata": {},
   "outputs": [
    {
     "name": "stdout",
     "output_type": "stream",
     "text": [
      "<class 'pandas.core.frame.DataFrame'>\n",
      "RangeIndex: 12955 entries, 0 to 12954\n",
      "Data columns (total 18 columns):\n",
      " #   Column         Non-Null Count  Dtype  \n",
      "---  ------         --------------  -----  \n",
      " 0   match_id       12955 non-null  int64  \n",
      " 1   name           12955 non-null  object \n",
      " 2   slug           12955 non-null  object \n",
      " 3   gender         12933 non-null  object \n",
      " 4   user_count     12955 non-null  int64  \n",
      " 5   residence      3601 non-null   object \n",
      " 6   birthplace     7235 non-null   object \n",
      " 7   height         7008 non-null   float64\n",
      " 8   weight         3496 non-null   float64\n",
      " 9   plays          6432 non-null   object \n",
      " 10  turned_pro     2586 non-null   float64\n",
      " 11  current_prize  12808 non-null  float64\n",
      " 12  total_prize    12900 non-null  float64\n",
      " 13  player_id      12955 non-null  int64  \n",
      " 14  current_rank   12733 non-null  float64\n",
      " 15  name_code      12955 non-null  object \n",
      " 16  country        12954 non-null  object \n",
      " 17  full_name      12955 non-null  object \n",
      "dtypes: float64(6), int64(3), object(9)\n",
      "memory usage: 1.8+ MB\n"
     ]
    }
   ],
   "source": [
    "MatchAwayTeamInfo.info()"
   ]
  },
  {
   "cell_type": "code",
   "execution_count": 111,
   "metadata": {},
   "outputs": [
    {
     "name": "stdout",
     "output_type": "stream",
     "text": [
      "36\n",
      "217\n",
      "878\n",
      "1452\n",
      "1684\n",
      "1985\n",
      "2321\n",
      "[36, 217, 878, 1452, 1684, 1985, 2321]\n"
     ]
    }
   ],
   "source": [
    "player_info = pd.concat([MatchAwayTeamInfo[[\"player_id\", \"height\"]]\n",
    "                        , MatchHomeTeamInfo[[\"player_id\", \"height\"]]])\n",
    "\n",
    "player_info[player_info.duplicated()].sort_values(\"player_id\")\n",
    "#----------------------------------\n",
    "player_info\n",
    "player_id = player_info[\"player_id\"].unique()\n",
    "player_id_nan_notna=[]\n",
    "for i in range(player_id.size):\n",
    "    nullcount = player_info[player_info[\"player_id\"]==player_id[i]][\"height\"].isna().sum()\n",
    "    nanullcount = player_info[player_info[\"player_id\"]==player_id[i]][\"height\"].notna().sum()\n",
    "    if nullcount != 0:\n",
    "        if nanullcount !=0:\n",
    "            player_id_nan_notna.append(i)\n",
    "            print(i)\n",
    "\n",
    "print(player_id_nan_notna)"
   ]
  },
  {
   "cell_type": "code",
   "execution_count": 113,
   "metadata": {},
   "outputs": [
    {
     "data": {
      "text/html": [
       "<div>\n",
       "<style scoped>\n",
       "    .dataframe tbody tr th:only-of-type {\n",
       "        vertical-align: middle;\n",
       "    }\n",
       "\n",
       "    .dataframe tbody tr th {\n",
       "        vertical-align: top;\n",
       "    }\n",
       "\n",
       "    .dataframe thead th {\n",
       "        text-align: right;\n",
       "    }\n",
       "</style>\n",
       "<table border=\"1\" class=\"dataframe\">\n",
       "  <thead>\n",
       "    <tr style=\"text-align: right;\">\n",
       "      <th></th>\n",
       "      <th>player_id</th>\n",
       "      <th>height</th>\n",
       "    </tr>\n",
       "  </thead>\n",
       "  <tbody>\n",
       "    <tr>\n",
       "      <th>37</th>\n",
       "      <td>374578</td>\n",
       "      <td>NaN</td>\n",
       "    </tr>\n",
       "    <tr>\n",
       "      <th>282</th>\n",
       "      <td>374578</td>\n",
       "      <td>NaN</td>\n",
       "    </tr>\n",
       "    <tr>\n",
       "      <th>7316</th>\n",
       "      <td>374578</td>\n",
       "      <td>NaN</td>\n",
       "    </tr>\n",
       "    <tr>\n",
       "      <th>9300</th>\n",
       "      <td>374578</td>\n",
       "      <td>NaN</td>\n",
       "    </tr>\n",
       "    <tr>\n",
       "      <th>246</th>\n",
       "      <td>374578</td>\n",
       "      <td>NaN</td>\n",
       "    </tr>\n",
       "    <tr>\n",
       "      <th>517</th>\n",
       "      <td>374578</td>\n",
       "      <td>NaN</td>\n",
       "    </tr>\n",
       "    <tr>\n",
       "      <th>1162</th>\n",
       "      <td>374578</td>\n",
       "      <td>NaN</td>\n",
       "    </tr>\n",
       "    <tr>\n",
       "      <th>2834</th>\n",
       "      <td>374578</td>\n",
       "      <td>1.67</td>\n",
       "    </tr>\n",
       "    <tr>\n",
       "      <th>5317</th>\n",
       "      <td>374578</td>\n",
       "      <td>NaN</td>\n",
       "    </tr>\n",
       "    <tr>\n",
       "      <th>8579</th>\n",
       "      <td>374578</td>\n",
       "      <td>1.67</td>\n",
       "    </tr>\n",
       "    <tr>\n",
       "      <th>13272</th>\n",
       "      <td>374578</td>\n",
       "      <td>NaN</td>\n",
       "    </tr>\n",
       "    <tr>\n",
       "      <th>13865</th>\n",
       "      <td>374578</td>\n",
       "      <td>NaN</td>\n",
       "    </tr>\n",
       "  </tbody>\n",
       "</table>\n",
       "</div>"
      ],
      "text/plain": [
       "       player_id  height\n",
       "37        374578     NaN\n",
       "282       374578     NaN\n",
       "7316      374578     NaN\n",
       "9300      374578     NaN\n",
       "246       374578     NaN\n",
       "517       374578     NaN\n",
       "1162      374578     NaN\n",
       "2834      374578    1.67\n",
       "5317      374578     NaN\n",
       "8579      374578    1.67\n",
       "13272     374578     NaN\n",
       "13865     374578     NaN"
      ]
     },
     "execution_count": 113,
     "metadata": {},
     "output_type": "execute_result"
    }
   ],
   "source": [
    "player_info[player_info[\"player_id\"]==374578].sort_values(\"height\").ffill()\n"
   ]
  },
  {
   "cell_type": "code",
   "execution_count": 110,
   "metadata": {},
   "outputs": [
    {
     "data": {
      "text/html": [
       "<div>\n",
       "<style scoped>\n",
       "    .dataframe tbody tr th:only-of-type {\n",
       "        vertical-align: middle;\n",
       "    }\n",
       "\n",
       "    .dataframe tbody tr th {\n",
       "        vertical-align: top;\n",
       "    }\n",
       "\n",
       "    .dataframe thead th {\n",
       "        text-align: right;\n",
       "    }\n",
       "</style>\n",
       "<table border=\"1\" class=\"dataframe\">\n",
       "  <thead>\n",
       "    <tr style=\"text-align: right;\">\n",
       "      <th></th>\n",
       "      <th>player_id</th>\n",
       "      <th>height</th>\n",
       "    </tr>\n",
       "  </thead>\n",
       "  <tbody>\n",
       "  </tbody>\n",
       "</table>\n",
       "</div>"
      ],
      "text/plain": [
       "Empty DataFrame\n",
       "Columns: [player_id, height]\n",
       "Index: []"
      ]
     },
     "execution_count": 110,
     "metadata": {},
     "output_type": "execute_result"
    }
   ],
   "source": [
    "player_id[36]\n",
    "for i in player_id_nan_notna:\n",
    "    player_info = player_info[player_info[\"player_id\"]==i].sort_values(\"height\").ffill()\n",
    "\n",
    "\n",
    "player_info"
   ]
  }
 ],
 "metadata": {
  "kernelspec": {
   "display_name": "Tennisgameenv",
   "language": "python",
   "name": "python3"
  },
  "language_info": {
   "codemirror_mode": {
    "name": "ipython",
    "version": 3
   },
   "file_extension": ".py",
   "mimetype": "text/x-python",
   "name": "python",
   "nbconvert_exporter": "python",
   "pygments_lexer": "ipython3",
   "version": "3.12.3"
  }
 },
 "nbformat": 4,
 "nbformat_minor": 2
}
