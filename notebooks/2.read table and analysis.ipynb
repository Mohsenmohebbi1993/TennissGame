{
 "cells": [
  {
   "cell_type": "markdown",
   "metadata": {},
   "source": [
    "# 2. Read table and analysis\n",
    "\n",
    "1. Read table and processing\n"
   ]
  },
  {
   "cell_type": "code",
   "execution_count": 3,
   "metadata": {},
   "outputs": [],
   "source": [
    "import numpy as np\n",
    "import pandas as pd\n",
    "import pyarrow.parquet as pa\n",
    "import zipfile\n",
    "import os\n",
    "import matplotlib.pyplot as plt\n"
   ]
  },
  {
   "cell_type": "markdown",
   "metadata": {},
   "source": [
    "## read data"
   ]
  },
  {
   "cell_type": "code",
   "execution_count": 159,
   "metadata": {},
   "outputs": [],
   "source": [
    "path= \"D:/DATA_Analayses/Project/TennisGame/data/processed\"\n",
    "dris = os.listdir(path)\n",
    "name_of_folder = pd.Series(dris)\n",
    "\n",
    "\n"
   ]
  },
  {
   "cell_type": "code",
   "execution_count": 4,
   "metadata": {},
   "outputs": [],
   "source": [
    "GameInfo = pd.read_csv(\"D:/DATA_Analayses/Project/TennisGame/data/processed/GameInfo.csv\").drop(columns=[\"Unnamed: 0\"])\n",
    "MatchAwayScoreInfo = pd.read_csv(\"D:/DATA_Analayses/Project/TennisGame/data/processed/MatchAwayScoreInfo.csv\").drop(columns=[\"Unnamed: 0\"])\n",
    "MatchAwayTeamInfo = pd.read_csv(\"D:/DATA_Analayses/Project/TennisGame/data/processed/MatchAwayTeamInfo.csv\").drop(columns=[\"Unnamed: 0\"])\n",
    "MatchEventInfo = pd.read_csv(\"D:/DATA_Analayses/Project/TennisGame/data/processed/MatchEventInfo.csv\").drop(columns=[\"Unnamed: 0\"])\n",
    "MatchHomeScoreInfo = pd.read_csv(\"D:/DATA_Analayses/Project/TennisGame/data/processed/MatchHomeScoreInfo.csv\").drop(columns=[\"Unnamed: 0\"])\n",
    "MatchHomeTeamInfo = pd.read_csv(\"D:/DATA_Analayses/Project/TennisGame/data/processed/MatchHomeTeamInfo.csv\").drop(columns=[\"Unnamed: 0\"])\n",
    "MatchRoundInfo = pd.read_csv(\"D:/DATA_Analayses/Project/TennisGame/data/processed/MatchRoundInfo.csv\").drop(columns=[\"Unnamed: 0\"])\n",
    "MatchSeasonInfo = pd.read_csv(\"D:/DATA_Analayses/Project/TennisGame/data/processed/MatchSeasonInfo.csv\").drop(columns=[\"Unnamed: 0\"])\n",
    "MatchTimeInfo = pd.read_csv(\"D:/DATA_Analayses/Project/TennisGame/data/processed/MatchTimeInfo.csv\").drop(columns=[\"Unnamed: 0\"])\n",
    "MatchTournamentInfo = pd.read_csv(\"D:/DATA_Analayses/Project/TennisGame/data/processed/MatchTournamentInfo.csv\").drop(columns=[\"Unnamed: 0\"])\n",
    "MatchVenueInfo = pd.read_csv(\"D:/DATA_Analayses/Project/TennisGame/data/processed/MatchVenueInfo.csv\").drop(columns=[\"Unnamed: 0\"])\n",
    "MatchVotesInfo = pd.read_csv(\"D:/DATA_Analayses/Project/TennisGame/data/processed/MatchVotesInfo.csv\").drop(columns=[\"Unnamed: 0\"])\n",
    "OddsInfo = pd.read_csv(\"D:/DATA_Analayses/Project/TennisGame/data/processed/OddsInfo.csv\").drop(columns=[\"Unnamed: 0\"])\n",
    "PeriodInfo = pd.read_csv(\"D:/DATA_Analayses/Project/TennisGame/data/processed/PeriodInfo.csv\").drop(columns=[\"Unnamed: 0\"])\n",
    "PowerInfo = pd.read_csv(\"D:/DATA_Analayses/Project/TennisGame/data/processed/PowerInfo.csv\").drop(columns=[\"Unnamed: 0\"])\n"
   ]
  },
  {
   "cell_type": "markdown",
   "metadata": {},
   "source": [
    "### 1.\tHow many tennis players are included in the dataset?"
   ]
  },
  {
   "cell_type": "code",
   "execution_count": 164,
   "metadata": {},
   "outputs": [
    {
     "name": "stdout",
     "output_type": "stream",
     "text": [
      "<class 'pandas.core.frame.DataFrame'>\n",
      "RangeIndex: 14090 entries, 0 to 14089\n",
      "Data columns (total 18 columns):\n",
      " #   Column         Non-Null Count  Dtype  \n",
      "---  ------         --------------  -----  \n",
      " 0   match_id       14090 non-null  int64  \n",
      " 1   name           14090 non-null  object \n",
      " 2   slug           14090 non-null  object \n",
      " 3   gender         14061 non-null  object \n",
      " 4   user_count     14090 non-null  int64  \n",
      " 5   residence      3764 non-null   object \n",
      " 6   birthplace     7806 non-null   object \n",
      " 7   height         7585 non-null   float64\n",
      " 8   weight         3610 non-null   float64\n",
      " 9   plays          6737 non-null   object \n",
      " 10  turned_pro     2668 non-null   float64\n",
      " 11  current_prize  13984 non-null  float64\n",
      " 12  total_prize    14047 non-null  float64\n",
      " 13  player_id      14090 non-null  int64  \n",
      " 14  current_rank   13933 non-null  float64\n",
      " 15  name_code      14090 non-null  object \n",
      " 16  country        14090 non-null  object \n",
      " 17  full_name      14090 non-null  object \n",
      "dtypes: float64(6), int64(3), object(9)\n",
      "memory usage: 1.9+ MB\n"
     ]
    }
   ],
   "source": [
    "MatchHomeTeamInfo.info()\n"
   ]
  },
  {
   "cell_type": "markdown",
   "metadata": {},
   "source": [
    "1st way: Find player with player_id"
   ]
  },
  {
   "cell_type": "code",
   "execution_count": 249,
   "metadata": {},
   "outputs": [
    {
     "name": "stdout",
     "output_type": "stream",
     "text": [
      "Avrage high players is  2352\n"
     ]
    }
   ],
   "source": [
    "player_id = pd.concat([MatchAwayTeamInfo[\"player_id\"], MatchHomeTeamInfo[\"player_id\"]])\n",
    "# player_id.unique().size\n",
    "print(f\"Avrage high players is  {player_id.unique().size}\")"
   ]
  },
  {
   "cell_type": "markdown",
   "metadata": {},
   "source": [
    "2nd way: Find player with full_name"
   ]
  },
  {
   "cell_type": "code",
   "execution_count": 250,
   "metadata": {},
   "outputs": [
    {
     "name": "stdout",
     "output_type": "stream",
     "text": [
      "Avrage high players is  2353\n"
     ]
    }
   ],
   "source": [
    "player_full_name = pd.concat([MatchAwayTeamInfo[\"full_name\"], MatchHomeTeamInfo[\"full_name\"]])\n",
    "player_full_name.unique().size\n",
    "\n",
    "print(f\"Avrage high players is  {player_full_name.unique().size}\")"
   ]
  },
  {
   "cell_type": "markdown",
   "metadata": {},
   "source": [
    "### 2.\tWhat is the average height of the players?"
   ]
  },
  {
   "cell_type": "code",
   "execution_count": 167,
   "metadata": {},
   "outputs": [
    {
     "name": "stdout",
     "output_type": "stream",
     "text": [
      "<class 'pandas.core.frame.DataFrame'>\n",
      "RangeIndex: 12955 entries, 0 to 12954\n",
      "Data columns (total 18 columns):\n",
      " #   Column         Non-Null Count  Dtype  \n",
      "---  ------         --------------  -----  \n",
      " 0   match_id       12955 non-null  int64  \n",
      " 1   name           12955 non-null  object \n",
      " 2   slug           12955 non-null  object \n",
      " 3   gender         12933 non-null  object \n",
      " 4   user_count     12955 non-null  int64  \n",
      " 5   residence      3601 non-null   object \n",
      " 6   birthplace     7235 non-null   object \n",
      " 7   height         7008 non-null   float64\n",
      " 8   weight         3496 non-null   float64\n",
      " 9   plays          6432 non-null   object \n",
      " 10  turned_pro     2586 non-null   float64\n",
      " 11  current_prize  12808 non-null  float64\n",
      " 12  total_prize    12900 non-null  float64\n",
      " 13  player_id      12955 non-null  int64  \n",
      " 14  current_rank   12733 non-null  float64\n",
      " 15  name_code      12955 non-null  object \n",
      " 16  country        12954 non-null  object \n",
      " 17  full_name      12955 non-null  object \n",
      "dtypes: float64(6), int64(3), object(9)\n",
      "memory usage: 1.8+ MB\n"
     ]
    }
   ],
   "source": [
    "MatchAwayTeamInfo.info()"
   ]
  },
  {
   "cell_type": "code",
   "execution_count": 182,
   "metadata": {},
   "outputs": [
    {
     "name": "stdout",
     "output_type": "stream",
     "text": [
      "36\n",
      "217\n",
      "878\n",
      "1452\n",
      "1684\n",
      "1985\n",
      "2321\n",
      "0      36\n",
      "1     217\n",
      "2     878\n",
      "3    1452\n",
      "4    1684\n",
      "5    1985\n",
      "6    2321\n",
      "dtype: int64\n"
     ]
    }
   ],
   "source": [
    "player_info = pd.concat([MatchAwayTeamInfo[[\"player_id\", \"height\"]]\n",
    "                        , MatchHomeTeamInfo[[\"player_id\", \"height\"]]])\n",
    "\n",
    "player_info[player_info.duplicated()].sort_values(\"player_id\")\n",
    "#----------------------------------\n",
    "\n",
    "player_id = player_info[\"player_id\"].unique()\n",
    "player_id_nan_notna=[]\n",
    "for i in range(player_id.size):\n",
    "    nullcount = player_info[player_info[\"player_id\"]==player_id[i]][\"height\"].isna().sum()\n",
    "    nanullcount = player_info[player_info[\"player_id\"]==player_id[i]][\"height\"].notna().sum()\n",
    "    if nullcount != 0:\n",
    "        if nanullcount !=0:\n",
    "            player_id_nan_notna.append(i)\n",
    "            print(i)\n",
    "player_id_nan_notna = pd.Series(player_id_nan_notna)\n",
    "\n",
    "print(player_id_nan_notna)"
   ]
  },
  {
   "cell_type": "code",
   "execution_count": 183,
   "metadata": {},
   "outputs": [],
   "source": [
    "for i in player_id_nan_notna:\n",
    "    player_info[player_info[\"player_id\"]==player_id[i]] = (player_info[player_info[\"player_id\"]==player_id[i]]\n",
    "                                                           .sort_values(\"height\").ffill())\n"
   ]
  },
  {
   "cell_type": "markdown",
   "metadata": {},
   "source": [
    "discribe information of hight pleyers"
   ]
  },
  {
   "cell_type": "code",
   "execution_count": 201,
   "metadata": {},
   "outputs": [
    {
     "data": {
      "text/plain": [
       "count    1202.000000\n",
       "mean        1.820042\n",
       "std         0.080405\n",
       "min         1.570000\n",
       "25%         1.780000\n",
       "50%         1.830000\n",
       "75%         1.880000\n",
       "max         2.080000\n",
       "Name: height, dtype: float64"
      ]
     },
     "execution_count": 201,
     "metadata": {},
     "output_type": "execute_result"
    }
   ],
   "source": [
    "player_info_cleaned = player_info.drop_duplicates(subset=[\"player_id\"])\n",
    "player_info_cleaned[\"height\"].describe()\n",
    "\n"
   ]
  },
  {
   "cell_type": "code",
   "execution_count": 261,
   "metadata": {},
   "outputs": [
    {
     "data": {
      "text/plain": [
       "<function matplotlib.pyplot.show(close=None, block=None)>"
      ]
     },
     "execution_count": 261,
     "metadata": {},
     "output_type": "execute_result"
    },
    {
     "data": {
      "image/png": "[encoded data removed]",
      "text/plain": [
       "<Figure size 640x480 with 1 Axes>"
      ]
     },
     "metadata": {},
     "output_type": "display_data"
    }
   ],
   "source": [
    "plt.hist(player_info_cleaned[\"height\"], bins=10, alpha=0.7, color='blue', edgecolor='black')\n",
    "plt.show"
   ]
  },
  {
   "cell_type": "code",
   "execution_count": 239,
   "metadata": {},
   "outputs": [
    {
     "name": "stdout",
     "output_type": "stream",
     "text": [
      "avrage high players is  1.8249\n"
     ]
    }
   ],
   "source": [
    "player_info_cleaned_mode = float(player_info_cleaned[\"height\"].mode().iloc[0])\n",
    "avrage_high_player = (player_info_cleaned\n",
    "                        .fillna(value = player_info_cleaned_mode)[\"height\"]\n",
    "                        .mean().round(4))\n",
    "\n",
    "print(f\"avrage high players is  {avrage_high_player}\")"
   ]
  },
  {
   "cell_type": "markdown",
   "metadata": {},
   "source": [
    "### 3.\tWhich player has the highest number of wins?"
   ]
  },
  {
   "cell_type": "code",
   "execution_count": 302,
   "metadata": {},
   "outputs": [
    {
     "data": {
      "text/html": [
       "<div>\n",
       "<style scoped>\n",
       "    .dataframe tbody tr th:only-of-type {\n",
       "        vertical-align: middle;\n",
       "    }\n",
       "\n",
       "    .dataframe tbody tr th {\n",
       "        vertical-align: top;\n",
       "    }\n",
       "\n",
       "    .dataframe thead th {\n",
       "        text-align: right;\n",
       "    }\n",
       "</style>\n",
       "<table border=\"1\" class=\"dataframe\">\n",
       "  <thead>\n",
       "    <tr style=\"text-align: right;\">\n",
       "      <th></th>\n",
       "      <th>match_id</th>\n",
       "      <th>set_id</th>\n",
       "      <th>game_id</th>\n",
       "      <th>point_id</th>\n",
       "      <th>home_point</th>\n",
       "      <th>away_point</th>\n",
       "      <th>point_description</th>\n",
       "      <th>home_point_type</th>\n",
       "      <th>away_point_type</th>\n",
       "      <th>home_score</th>\n",
       "      <th>away_score</th>\n",
       "      <th>serving</th>\n",
       "      <th>scoring</th>\n",
       "    </tr>\n",
       "  </thead>\n",
       "  <tbody>\n",
       "    <tr>\n",
       "      <th>114</th>\n",
       "      <td>12301140</td>\n",
       "      <td>1</td>\n",
       "      <td>12</td>\n",
       "      <td>0</td>\n",
       "      <td>15</td>\n",
       "      <td>0</td>\n",
       "      <td>0</td>\n",
       "      <td>1</td>\n",
       "      <td>5</td>\n",
       "      <td>5</td>\n",
       "      <td>7</td>\n",
       "      <td>1</td>\n",
       "      <td>2</td>\n",
       "    </tr>\n",
       "    <tr>\n",
       "      <th>115</th>\n",
       "      <td>12301140</td>\n",
       "      <td>1</td>\n",
       "      <td>12</td>\n",
       "      <td>1</td>\n",
       "      <td>15</td>\n",
       "      <td>15</td>\n",
       "      <td>0</td>\n",
       "      <td>5</td>\n",
       "      <td>1</td>\n",
       "      <td>5</td>\n",
       "      <td>7</td>\n",
       "      <td>1</td>\n",
       "      <td>2</td>\n",
       "    </tr>\n",
       "    <tr>\n",
       "      <th>116</th>\n",
       "      <td>12301140</td>\n",
       "      <td>1</td>\n",
       "      <td>12</td>\n",
       "      <td>2</td>\n",
       "      <td>15</td>\n",
       "      <td>30</td>\n",
       "      <td>0</td>\n",
       "      <td>5</td>\n",
       "      <td>1</td>\n",
       "      <td>5</td>\n",
       "      <td>7</td>\n",
       "      <td>1</td>\n",
       "      <td>2</td>\n",
       "    </tr>\n",
       "    <tr>\n",
       "      <th>117</th>\n",
       "      <td>12301140</td>\n",
       "      <td>1</td>\n",
       "      <td>12</td>\n",
       "      <td>3</td>\n",
       "      <td>15</td>\n",
       "      <td>40</td>\n",
       "      <td>0</td>\n",
       "      <td>5</td>\n",
       "      <td>3</td>\n",
       "      <td>5</td>\n",
       "      <td>7</td>\n",
       "      <td>1</td>\n",
       "      <td>2</td>\n",
       "    </tr>\n",
       "    <tr>\n",
       "      <th>118</th>\n",
       "      <td>12301140</td>\n",
       "      <td>1</td>\n",
       "      <td>11</td>\n",
       "      <td>0</td>\n",
       "      <td>0</td>\n",
       "      <td>15</td>\n",
       "      <td>0</td>\n",
       "      <td>5</td>\n",
       "      <td>1</td>\n",
       "      <td>5</td>\n",
       "      <td>6</td>\n",
       "      <td>2</td>\n",
       "      <td>2</td>\n",
       "    </tr>\n",
       "    <tr>\n",
       "      <th>...</th>\n",
       "      <td>...</td>\n",
       "      <td>...</td>\n",
       "      <td>...</td>\n",
       "      <td>...</td>\n",
       "      <td>...</td>\n",
       "      <td>...</td>\n",
       "      <td>...</td>\n",
       "      <td>...</td>\n",
       "      <td>...</td>\n",
       "      <td>...</td>\n",
       "      <td>...</td>\n",
       "      <td>...</td>\n",
       "      <td>...</td>\n",
       "    </tr>\n",
       "    <tr>\n",
       "      <th>95324</th>\n",
       "      <td>12301140</td>\n",
       "      <td>1</td>\n",
       "      <td>2</td>\n",
       "      <td>7</td>\n",
       "      <td>40</td>\n",
       "      <td>40</td>\n",
       "      <td>2</td>\n",
       "      <td>5</td>\n",
       "      <td>1</td>\n",
       "      <td>2</td>\n",
       "      <td>0</td>\n",
       "      <td>1</td>\n",
       "      <td>1</td>\n",
       "    </tr>\n",
       "    <tr>\n",
       "      <th>95325</th>\n",
       "      <td>12301140</td>\n",
       "      <td>1</td>\n",
       "      <td>2</td>\n",
       "      <td>8</td>\n",
       "      <td>A</td>\n",
       "      <td>40</td>\n",
       "      <td>0</td>\n",
       "      <td>1</td>\n",
       "      <td>5</td>\n",
       "      <td>2</td>\n",
       "      <td>0</td>\n",
       "      <td>1</td>\n",
       "      <td>1</td>\n",
       "    </tr>\n",
       "    <tr>\n",
       "      <th>95326</th>\n",
       "      <td>12301140</td>\n",
       "      <td>1</td>\n",
       "      <td>1</td>\n",
       "      <td>0</td>\n",
       "      <td>15</td>\n",
       "      <td>0</td>\n",
       "      <td>0</td>\n",
       "      <td>1</td>\n",
       "      <td>5</td>\n",
       "      <td>1</td>\n",
       "      <td>0</td>\n",
       "      <td>2</td>\n",
       "      <td>1</td>\n",
       "    </tr>\n",
       "    <tr>\n",
       "      <th>95327</th>\n",
       "      <td>12301140</td>\n",
       "      <td>1</td>\n",
       "      <td>1</td>\n",
       "      <td>1</td>\n",
       "      <td>30</td>\n",
       "      <td>0</td>\n",
       "      <td>2</td>\n",
       "      <td>1</td>\n",
       "      <td>5</td>\n",
       "      <td>1</td>\n",
       "      <td>0</td>\n",
       "      <td>2</td>\n",
       "      <td>1</td>\n",
       "    </tr>\n",
       "    <tr>\n",
       "      <th>95328</th>\n",
       "      <td>12301140</td>\n",
       "      <td>1</td>\n",
       "      <td>1</td>\n",
       "      <td>2</td>\n",
       "      <td>40</td>\n",
       "      <td>0</td>\n",
       "      <td>0</td>\n",
       "      <td>2</td>\n",
       "      <td>5</td>\n",
       "      <td>1</td>\n",
       "      <td>0</td>\n",
       "      <td>2</td>\n",
       "      <td>1</td>\n",
       "    </tr>\n",
       "  </tbody>\n",
       "</table>\n",
       "<p>128 rows × 13 columns</p>\n",
       "</div>"
      ],
      "text/plain": [
       "       match_id  set_id  game_id  point_id home_point away_point  \\\n",
       "114    12301140       1       12         0         15          0   \n",
       "115    12301140       1       12         1         15         15   \n",
       "116    12301140       1       12         2         15         30   \n",
       "117    12301140       1       12         3         15         40   \n",
       "118    12301140       1       11         0          0         15   \n",
       "...         ...     ...      ...       ...        ...        ...   \n",
       "95324  12301140       1        2         7         40         40   \n",
       "95325  12301140       1        2         8          A         40   \n",
       "95326  12301140       1        1         0         15          0   \n",
       "95327  12301140       1        1         1         30          0   \n",
       "95328  12301140       1        1         2         40          0   \n",
       "\n",
       "       point_description  home_point_type  away_point_type  home_score  \\\n",
       "114                    0                1                5           5   \n",
       "115                    0                5                1           5   \n",
       "116                    0                5                1           5   \n",
       "117                    0                5                3           5   \n",
       "118                    0                5                1           5   \n",
       "...                  ...              ...              ...         ...   \n",
       "95324                  2                5                1           2   \n",
       "95325                  0                1                5           2   \n",
       "95326                  0                1                5           1   \n",
       "95327                  2                1                5           1   \n",
       "95328                  0                2                5           1   \n",
       "\n",
       "       away_score  serving  scoring  \n",
       "114             7        1        2  \n",
       "115             7        1        2  \n",
       "116             7        1        2  \n",
       "117             7        1        2  \n",
       "118             6        2        2  \n",
       "...           ...      ...      ...  \n",
       "95324           0        1        1  \n",
       "95325           0        1        1  \n",
       "95326           0        2        1  \n",
       "95327           0        2        1  \n",
       "95328           0        2        1  \n",
       "\n",
       "[128 rows x 13 columns]"
      ]
     },
     "execution_count": 302,
     "metadata": {},
     "output_type": "execute_result"
    }
   ],
   "source": [
    "GameInfo[(GameInfo[\"match_id\"]==12301140) & (GameInfo[\"set_id\"]==1)]\n"
   ]
  },
  {
   "cell_type": "code",
   "execution_count": 321,
   "metadata": {},
   "outputs": [
    {
     "data": {
      "text/html": [
       "<div>\n",
       "<style scoped>\n",
       "    .dataframe tbody tr th:only-of-type {\n",
       "        vertical-align: middle;\n",
       "    }\n",
       "\n",
       "    .dataframe tbody tr th {\n",
       "        vertical-align: top;\n",
       "    }\n",
       "\n",
       "    .dataframe thead th {\n",
       "        text-align: right;\n",
       "    }\n",
       "</style>\n",
       "<table border=\"1\" class=\"dataframe\">\n",
       "  <thead>\n",
       "    <tr style=\"text-align: right;\">\n",
       "      <th></th>\n",
       "      <th>match_id</th>\n",
       "      <th>first_to_serve</th>\n",
       "      <th>home_team_seed</th>\n",
       "      <th>away_team_seed</th>\n",
       "      <th>custom_id</th>\n",
       "      <th>winner_code</th>\n",
       "      <th>default_period_count</th>\n",
       "      <th>start_datetime</th>\n",
       "      <th>match_slug</th>\n",
       "      <th>final_result_only</th>\n",
       "    </tr>\n",
       "  </thead>\n",
       "  <tbody>\n",
       "    <tr>\n",
       "      <th>0</th>\n",
       "      <td>12276860</td>\n",
       "      <td>1.0</td>\n",
       "      <td>3</td>\n",
       "      <td>A</td>\n",
       "      <td>hQVbsOCic</td>\n",
       "      <td>1.0</td>\n",
       "      <td>3</td>\n",
       "      <td>1714744500</td>\n",
       "      <td>navone-nava</td>\n",
       "      <td>False</td>\n",
       "    </tr>\n",
       "    <tr>\n",
       "      <th>1</th>\n",
       "      <td>12296111</td>\n",
       "      <td>1.0</td>\n",
       "      <td>NaN</td>\n",
       "      <td>NaN</td>\n",
       "      <td>GtGfhfBc</td>\n",
       "      <td>1.0</td>\n",
       "      <td>3</td>\n",
       "      <td>1714662000</td>\n",
       "      <td>torres-murcia-lodikova</td>\n",
       "      <td>True</td>\n",
       "    </tr>\n",
       "    <tr>\n",
       "      <th>2</th>\n",
       "      <td>12302789</td>\n",
       "      <td>NaN</td>\n",
       "      <td>NaN</td>\n",
       "      <td>NaN</td>\n",
       "      <td>ILUbsHRbc</td>\n",
       "      <td>1.0</td>\n",
       "      <td>3</td>\n",
       "      <td>1714749300</td>\n",
       "      <td>riera-romero-gormaz</td>\n",
       "      <td>False</td>\n",
       "    </tr>\n",
       "    <tr>\n",
       "      <th>3</th>\n",
       "      <td>12261530</td>\n",
       "      <td>1.0</td>\n",
       "      <td>12</td>\n",
       "      <td>7</td>\n",
       "      <td>fKRsLveb</td>\n",
       "      <td>2.0</td>\n",
       "      <td>3</td>\n",
       "      <td>1714751100</td>\n",
       "      <td>fritz-rublev</td>\n",
       "      <td>False</td>\n",
       "    </tr>\n",
       "    <tr>\n",
       "      <th>4</th>\n",
       "      <td>12276777</td>\n",
       "      <td>1.0</td>\n",
       "      <td>NaN</td>\n",
       "      <td>NaN</td>\n",
       "      <td>ETGbswjkc</td>\n",
       "      <td>2.0</td>\n",
       "      <td>3</td>\n",
       "      <td>1714799400</td>\n",
       "      <td>schoolkate-hsu</td>\n",
       "      <td>True</td>\n",
       "    </tr>\n",
       "    <tr>\n",
       "      <th>5</th>\n",
       "      <td>12298997</td>\n",
       "      <td>2.0</td>\n",
       "      <td>NaN</td>\n",
       "      <td>NaN</td>\n",
       "      <td>bYNsqZId</td>\n",
       "      <td>2.0</td>\n",
       "      <td>3</td>\n",
       "      <td>1714655400</td>\n",
       "      <td>fakih-rinaldo-persson</td>\n",
       "      <td>False</td>\n",
       "    </tr>\n",
       "    <tr>\n",
       "      <th>6</th>\n",
       "      <td>12301636</td>\n",
       "      <td>1.0</td>\n",
       "      <td>NaN</td>\n",
       "      <td>NaN</td>\n",
       "      <td>gvadsMmtd</td>\n",
       "      <td>2.0</td>\n",
       "      <td>3</td>\n",
       "      <td>1714753200</td>\n",
       "      <td>jovic-joint</td>\n",
       "      <td>False</td>\n",
       "    </tr>\n",
       "    <tr>\n",
       "      <th>7</th>\n",
       "      <td>12300122</td>\n",
       "      <td>1.0</td>\n",
       "      <td>NaN</td>\n",
       "      <td>NaN</td>\n",
       "      <td>JtaciLWAc</td>\n",
       "      <td>1.0</td>\n",
       "      <td>3</td>\n",
       "      <td>1714729500</td>\n",
       "      <td>hietaranta-sakellaridi</td>\n",
       "      <td>True</td>\n",
       "    </tr>\n",
       "    <tr>\n",
       "      <th>8</th>\n",
       "      <td>12276812</td>\n",
       "      <td>2.0</td>\n",
       "      <td>Q</td>\n",
       "      <td>NaN</td>\n",
       "      <td>FnpshQe</td>\n",
       "      <td>2.0</td>\n",
       "      <td>3</td>\n",
       "      <td>1714751100</td>\n",
       "      <td>sell-mena</td>\n",
       "      <td>True</td>\n",
       "    </tr>\n",
       "    <tr>\n",
       "      <th>9</th>\n",
       "      <td>12301358</td>\n",
       "      <td>1.0</td>\n",
       "      <td>NaN</td>\n",
       "      <td>NaN</td>\n",
       "      <td>cDacsCQHb</td>\n",
       "      <td>1.0</td>\n",
       "      <td>3</td>\n",
       "      <td>1714754700</td>\n",
       "      <td>nordquist-denolly</td>\n",
       "      <td>True</td>\n",
       "    </tr>\n",
       "  </tbody>\n",
       "</table>\n",
       "</div>"
      ],
      "text/plain": [
       "   match_id  first_to_serve home_team_seed away_team_seed  custom_id  \\\n",
       "0  12276860             1.0              3              A  hQVbsOCic   \n",
       "1  12296111             1.0            NaN            NaN   GtGfhfBc   \n",
       "2  12302789             NaN            NaN            NaN  ILUbsHRbc   \n",
       "3  12261530             1.0             12              7   fKRsLveb   \n",
       "4  12276777             1.0            NaN            NaN  ETGbswjkc   \n",
       "5  12298997             2.0            NaN            NaN   bYNsqZId   \n",
       "6  12301636             1.0            NaN            NaN  gvadsMmtd   \n",
       "7  12300122             1.0            NaN            NaN  JtaciLWAc   \n",
       "8  12276812             2.0              Q            NaN    FnpshQe   \n",
       "9  12301358             1.0            NaN            NaN  cDacsCQHb   \n",
       "\n",
       "   winner_code  default_period_count  start_datetime              match_slug  \\\n",
       "0          1.0                     3      1714744500             navone-nava   \n",
       "1          1.0                     3      1714662000  torres-murcia-lodikova   \n",
       "2          1.0                     3      1714749300     riera-romero-gormaz   \n",
       "3          2.0                     3      1714751100            fritz-rublev   \n",
       "4          2.0                     3      1714799400          schoolkate-hsu   \n",
       "5          2.0                     3      1714655400   fakih-rinaldo-persson   \n",
       "6          2.0                     3      1714753200             jovic-joint   \n",
       "7          1.0                     3      1714729500  hietaranta-sakellaridi   \n",
       "8          2.0                     3      1714751100               sell-mena   \n",
       "9          1.0                     3      1714754700       nordquist-denolly   \n",
       "\n",
       "   final_result_only  \n",
       "0              False  \n",
       "1               True  \n",
       "2              False  \n",
       "3              False  \n",
       "4               True  \n",
       "5              False  \n",
       "6              False  \n",
       "7               True  \n",
       "8               True  \n",
       "9               True  "
      ]
     },
     "execution_count": 321,
     "metadata": {},
     "output_type": "execute_result"
    }
   ],
   "source": [
    "MatchEventInfo.head(10)"
   ]
  },
  {
   "cell_type": "code",
   "execution_count": 327,
   "metadata": {},
   "outputs": [
    {
     "data": {
      "text/html": [
       "<div>\n",
       "<style scoped>\n",
       "    .dataframe tbody tr th:only-of-type {\n",
       "        vertical-align: middle;\n",
       "    }\n",
       "\n",
       "    .dataframe tbody tr th {\n",
       "        vertical-align: top;\n",
       "    }\n",
       "\n",
       "    .dataframe thead th {\n",
       "        text-align: right;\n",
       "    }\n",
       "</style>\n",
       "<table border=\"1\" class=\"dataframe\">\n",
       "  <thead>\n",
       "    <tr style=\"text-align: right;\">\n",
       "      <th></th>\n",
       "      <th>match_id</th>\n",
       "      <th>first_to_serve</th>\n",
       "      <th>home_team_seed</th>\n",
       "      <th>away_team_seed</th>\n",
       "      <th>custom_id</th>\n",
       "      <th>winner_code</th>\n",
       "      <th>default_period_count</th>\n",
       "      <th>start_datetime</th>\n",
       "      <th>match_slug</th>\n",
       "      <th>final_result_only</th>\n",
       "      <th>...</th>\n",
       "      <th>weight</th>\n",
       "      <th>plays</th>\n",
       "      <th>turned_pro</th>\n",
       "      <th>current_prize</th>\n",
       "      <th>total_prize</th>\n",
       "      <th>player_id</th>\n",
       "      <th>current_rank</th>\n",
       "      <th>name_code</th>\n",
       "      <th>country</th>\n",
       "      <th>full_name</th>\n",
       "    </tr>\n",
       "  </thead>\n",
       "  <tbody>\n",
       "    <tr>\n",
       "      <th>13</th>\n",
       "      <td>12301636</td>\n",
       "      <td>1.0</td>\n",
       "      <td>NaN</td>\n",
       "      <td>NaN</td>\n",
       "      <td>gvadsMmtd</td>\n",
       "      <td>2.0</td>\n",
       "      <td>3</td>\n",
       "      <td>1714753200</td>\n",
       "      <td>jovic-joint</td>\n",
       "      <td>False</td>\n",
       "      <td>...</td>\n",
       "      <td>NaN</td>\n",
       "      <td>NaN</td>\n",
       "      <td>NaN</td>\n",
       "      <td>4253.0</td>\n",
       "      <td>9615.0</td>\n",
       "      <td>420632</td>\n",
       "      <td>509.0</td>\n",
       "      <td>JOV</td>\n",
       "      <td>USA</td>\n",
       "      <td>Jovic, Iva</td>\n",
       "    </tr>\n",
       "    <tr>\n",
       "      <th>14</th>\n",
       "      <td>12301636</td>\n",
       "      <td>1.0</td>\n",
       "      <td>NaN</td>\n",
       "      <td>NaN</td>\n",
       "      <td>gvadsMmtd</td>\n",
       "      <td>2.0</td>\n",
       "      <td>3</td>\n",
       "      <td>1714753200</td>\n",
       "      <td>jovic-joint</td>\n",
       "      <td>False</td>\n",
       "      <td>...</td>\n",
       "      <td>NaN</td>\n",
       "      <td>NaN</td>\n",
       "      <td>NaN</td>\n",
       "      <td>4253.0</td>\n",
       "      <td>9615.0</td>\n",
       "      <td>420632</td>\n",
       "      <td>509.0</td>\n",
       "      <td>JOV</td>\n",
       "      <td>USA</td>\n",
       "      <td>Jovic, Iva</td>\n",
       "    </tr>\n",
       "    <tr>\n",
       "      <th>593</th>\n",
       "      <td>12301636</td>\n",
       "      <td>1.0</td>\n",
       "      <td>NaN</td>\n",
       "      <td>NaN</td>\n",
       "      <td>gdadsHmtd</td>\n",
       "      <td>2.0</td>\n",
       "      <td>3</td>\n",
       "      <td>1714755900</td>\n",
       "      <td>jovic-joint</td>\n",
       "      <td>False</td>\n",
       "      <td>...</td>\n",
       "      <td>NaN</td>\n",
       "      <td>NaN</td>\n",
       "      <td>NaN</td>\n",
       "      <td>4253.0</td>\n",
       "      <td>9615.0</td>\n",
       "      <td>420632</td>\n",
       "      <td>509.0</td>\n",
       "      <td>JOV</td>\n",
       "      <td>USA</td>\n",
       "      <td>Jovic, Iva</td>\n",
       "    </tr>\n",
       "    <tr>\n",
       "      <th>594</th>\n",
       "      <td>12301636</td>\n",
       "      <td>1.0</td>\n",
       "      <td>NaN</td>\n",
       "      <td>NaN</td>\n",
       "      <td>gdadsHmtd</td>\n",
       "      <td>2.0</td>\n",
       "      <td>3</td>\n",
       "      <td>1714755900</td>\n",
       "      <td>jovic-joint</td>\n",
       "      <td>False</td>\n",
       "      <td>...</td>\n",
       "      <td>NaN</td>\n",
       "      <td>NaN</td>\n",
       "      <td>NaN</td>\n",
       "      <td>4253.0</td>\n",
       "      <td>9615.0</td>\n",
       "      <td>420632</td>\n",
       "      <td>509.0</td>\n",
       "      <td>JOV</td>\n",
       "      <td>USA</td>\n",
       "      <td>Jovic, Iva</td>\n",
       "    </tr>\n",
       "  </tbody>\n",
       "</table>\n",
       "<p>4 rows × 27 columns</p>\n",
       "</div>"
      ],
      "text/plain": [
       "     match_id  first_to_serve home_team_seed away_team_seed  custom_id  \\\n",
       "13   12301636             1.0            NaN            NaN  gvadsMmtd   \n",
       "14   12301636             1.0            NaN            NaN  gvadsMmtd   \n",
       "593  12301636             1.0            NaN            NaN  gdadsHmtd   \n",
       "594  12301636             1.0            NaN            NaN  gdadsHmtd   \n",
       "\n",
       "     winner_code  default_period_count  start_datetime   match_slug  \\\n",
       "13           2.0                     3      1714753200  jovic-joint   \n",
       "14           2.0                     3      1714753200  jovic-joint   \n",
       "593          2.0                     3      1714755900  jovic-joint   \n",
       "594          2.0                     3      1714755900  jovic-joint   \n",
       "\n",
       "     final_result_only  ... weight plays turned_pro  current_prize  \\\n",
       "13               False  ...    NaN   NaN        NaN         4253.0   \n",
       "14               False  ...    NaN   NaN        NaN         4253.0   \n",
       "593              False  ...    NaN   NaN        NaN         4253.0   \n",
       "594              False  ...    NaN   NaN        NaN         4253.0   \n",
       "\n",
       "    total_prize player_id  current_rank  name_code country   full_name  \n",
       "13       9615.0    420632         509.0        JOV     USA  Jovic, Iva  \n",
       "14       9615.0    420632         509.0        JOV     USA  Jovic, Iva  \n",
       "593      9615.0    420632         509.0        JOV     USA  Jovic, Iva  \n",
       "594      9615.0    420632         509.0        JOV     USA  Jovic, Iva  \n",
       "\n",
       "[4 rows x 27 columns]"
      ]
     },
     "execution_count": 327,
     "metadata": {},
     "output_type": "execute_result"
    }
   ],
   "source": [
    "home_merge = pd.merge(MatchEventInfo, MatchHomeTeamInfo, on='match_id', suffixes=[\"home\"])\n",
    "\n",
    "all_wins = home_merge\n",
    "player_names = all_wins[['player_id', 'full_name']].drop_duplicates()\n",
    "\n",
    "home_merge[home_merge[\"match_id\"]==12301636]\n",
    "\n",
    "\n"
   ]
  },
  {
   "cell_type": "code",
   "execution_count": 345,
   "metadata": {},
   "outputs": [
    {
     "data": {
      "text/html": [
       "<div>\n",
       "<style scoped>\n",
       "    .dataframe tbody tr th:only-of-type {\n",
       "        vertical-align: middle;\n",
       "    }\n",
       "\n",
       "    .dataframe tbody tr th {\n",
       "        vertical-align: top;\n",
       "    }\n",
       "\n",
       "    .dataframe thead th {\n",
       "        text-align: right;\n",
       "    }\n",
       "</style>\n",
       "<table border=\"1\" class=\"dataframe\">\n",
       "  <thead>\n",
       "    <tr style=\"text-align: right;\">\n",
       "      <th></th>\n",
       "      <th>player_id</th>\n",
       "      <th>name</th>\n",
       "      <th>winner_code</th>\n",
       "    </tr>\n",
       "  </thead>\n",
       "  <tbody>\n",
       "    <tr>\n",
       "      <th>7</th>\n",
       "      <td>106755</td>\n",
       "      <td>Rublev A.</td>\n",
       "      <td>2.0</td>\n",
       "    </tr>\n",
       "  </tbody>\n",
       "</table>\n",
       "</div>"
      ],
      "text/plain": [
       "   player_id       name  winner_code\n",
       "7     106755  Rublev A.          2.0"
      ]
     },
     "execution_count": 345,
     "metadata": {},
     "output_type": "execute_result"
    }
   ],
   "source": [
    "home_merge = pd.merge(MatchEventInfo, MatchHomeTeamInfo, on='match_id', suffixes=[\"home\"])\n",
    "away_marge = pd.merge(MatchEventInfo, MatchAwayTeamInfo, on='match_id', suffixes=[\"away\"])\n",
    "\n",
    "# Create a DataFrame for home wins and away wins\n",
    "home_wins = home_merge[home_merge[\"winner_code\"] == 1][[\"player_id\", \"name\", \"winner_code\"]].copy()\n",
    "away_wins = away_marge[away_marge[\"winner_code\"] == 2][[\"player_id\", \"name\", \"winner_code\"]].copy()\n",
    "\n",
    "\n",
    "\n",
    "\n",
    "\n",
    "away_wins.head(1)"
   ]
  },
  {
   "cell_type": "code",
   "execution_count": 346,
   "metadata": {},
   "outputs": [
    {
     "data": {
      "text/plain": [
       "np.int64(0)"
      ]
     },
     "execution_count": 346,
     "metadata": {},
     "output_type": "execute_result"
    }
   ],
   "source": [
    "away_wins['winner_code'].isna().sum()"
   ]
  },
  {
   "cell_type": "code",
   "execution_count": 349,
   "metadata": {},
   "outputs": [
    {
     "name": "stdout",
     "output_type": "stream",
     "text": [
      "Player with the highest number of wins:\n",
      " player_id         253356\n",
      "wins                  75\n",
      "name         Uchijima M.\n",
      "Name: 0, dtype: object\n"
     ]
    }
   ],
   "source": [
    "home_merge = pd.merge(MatchEventInfo, MatchHomeTeamInfo, on='match_id', suffixes=[\"home\"])\n",
    "away_marge = pd.merge(MatchEventInfo, MatchAwayTeamInfo, on='match_id', suffixes=[\"away\"])\n",
    "\n",
    "# Create a DataFrame for home wins and away wins\n",
    "home_wins = home_merge[home_merge['winner_code'] == 1][['player_id', 'name']].copy()\n",
    "away_wins = away_marge[away_marge['winner_code'] == 2][['player_id', 'name']].copy()\n",
    "\n",
    "# Combine home wins and away wins\n",
    "all_wins = pd.concat([home_wins, away_wins])\n",
    "\n",
    "# Calculate the number of wins for each player\n",
    "win_counts = all_wins['player_id'].value_counts().reset_index()\n",
    "win_counts.columns = ['player_id', 'wins']\n",
    "\n",
    "# Merge with player names\n",
    "player_names = all_wins[['player_id', 'name']].drop_duplicates()\n",
    "win_counts = win_counts.merge(player_names, on='player_id')\n",
    "\n",
    "# Find the player with the highest number of wins\n",
    "top_player = win_counts.loc[win_counts['wins'].idxmax()]\n",
    "\n",
    "# Display the result\n",
    "print(\"Player with the highest number of wins:\\n\", top_player)\n"
   ]
  },
  {
   "cell_type": "markdown",
   "metadata": {},
   "source": [
    "### 4.\tWhat is the longest match recorded in terms of duration?"
   ]
  },
  {
   "cell_type": "code",
   "execution_count": 355,
   "metadata": {},
   "outputs": [
    {
     "name": "stdout",
     "output_type": "stream",
     "text": [
      "<class 'pandas.core.frame.DataFrame'>\n",
      "RangeIndex: 19676 entries, 0 to 19675\n",
      "Data columns (total 7 columns):\n",
      " #   Column                          Non-Null Count  Dtype  \n",
      "---  ------                          --------------  -----  \n",
      " 0   match_id                        19676 non-null  int64  \n",
      " 1   period_1                        13029 non-null  float64\n",
      " 2   period_2                        12901 non-null  float64\n",
      " 3   period_3                        3931 non-null   float64\n",
      " 4   period_4                        95 non-null     float64\n",
      " 5   period_5                        40 non-null     float64\n",
      " 6   current_period_start_timestamp  13436 non-null  float64\n",
      "dtypes: float64(6), int64(1)\n",
      "memory usage: 1.1 MB\n"
     ]
    }
   ],
   "source": [
    "MatchTimeInfo.info()"
   ]
  },
  {
   "cell_type": "code",
   "execution_count": 420,
   "metadata": {},
   "outputs": [
    {
     "name": "stdout",
     "output_type": "stream",
     "text": [
      "maximum match time is for ** 12346747 ** ID and time is ** 513458.0 **\n"
     ]
    },
    {
     "data": {
      "text/plain": [
       "match_id\n",
       "12346747    513458.0\n",
       "12300269    495119.0\n",
       "12336297    488111.0\n",
       "12357962    464630.0\n",
       "12295121    409912.0\n",
       "              ...   \n",
       "12326249         0.0\n",
       "12326248         0.0\n",
       "12326246         0.0\n",
       "12326245         0.0\n",
       "12386383         0.0\n",
       "Length: 9319, dtype: float64"
      ]
     },
     "execution_count": 420,
     "metadata": {},
     "output_type": "execute_result"
    }
   ],
   "source": [
    "timestamp = (MatchTimeInfo.groupby(by=\"match_id\").sum()\n",
    "                .drop(columns=[\"current_period_start_timestamp\"])\n",
    "                 .sum(axis=1).sort_values(ascending=False))\n",
    "print(f\"maximum match time is for ** {timestamp.idxmax()} ** ID and time is ** {timestamp[timestamp.idxmax()]} **\")"
   ]
  },
  {
   "cell_type": "code",
   "execution_count": 409,
   "metadata": {},
   "outputs": [
    {
     "data": {
      "text/plain": [
       "match_id\n",
       "12346747    513458.0\n",
       "12300269    495119.0\n",
       "12336297    488111.0\n",
       "12357962    464630.0\n",
       "12295121    409912.0\n",
       "              ...   \n",
       "12326249         0.0\n",
       "12326248         0.0\n",
       "12326246         0.0\n",
       "12326245         0.0\n",
       "12386383         0.0\n",
       "Length: 9319, dtype: float64"
      ]
     },
     "execution_count": 409,
     "metadata": {},
     "output_type": "execute_result"
    }
   ],
   "source": [
    "timestamp_pivot_table = pd.pivot_table(MatchTimeInfo, values=['period_1', 'period_2', 'period_3', 'period_4', 'period_5'], index='match_id', aggfunc='sum')\n",
    "timestamp_pivot_table.sum(axis=1).sort_values(ascending=False)\n"
   ]
  },
  {
   "cell_type": "markdown",
   "metadata": {},
   "source": [
    "### 5.\tHow many sets are typically played in a tennis match?"
   ]
  },
  {
   "cell_type": "code",
   "execution_count": 5,
   "metadata": {},
   "outputs": [
    {
     "data": {
      "text/plain": [
       "np.int64(650561)"
      ]
     },
     "execution_count": 5,
     "metadata": {},
     "output_type": "execute_result"
    }
   ],
   "source": [
    "GameInfo[\"set_id\"][GameInfo[\"set_id\"]==1].count()"
   ]
  },
  {
   "cell_type": "code",
   "execution_count": 30,
   "metadata": {},
   "outputs": [
    {
     "data": {
      "image/png": "[encoded data removed]",
      "text/plain": [
       "<Figure size 640x480 with 1 Axes>"
      ]
     },
     "metadata": {},
     "output_type": "display_data"
    }
   ],
   "source": [
    "count_set_per_match =pd.DataFrame(GameInfo.groupby(by=\"set_id\").count()[\"match_id\"])\n",
    "count_set_per_match[\"per_set\"] = count_set_per_match/count_set_per_match.sum()*100\n",
    "mylabels=[]\n",
    "for i in range(5):\n",
    "    mylabels.append(f\"set {i+1}\")\n",
    "\n",
    "plt.pie(count_set_per_match[\"per_set\"], labels=mylabels, autopct= \"%1.1f%%\")\n",
    "plt.show()"
   ]
  },
  {
   "cell_type": "code",
   "execution_count": 7,
   "metadata": {},
   "outputs": [
    {
     "data": {
      "text/plain": [
       "{'set': 'count',\n",
       " 1: np.int64(650561),\n",
       " 2: np.int64(629257),\n",
       " 3: np.int64(180873),\n",
       " 4: np.int64(4347),\n",
       " 5: np.int64(1975)}"
      ]
     },
     "execution_count": 7,
     "metadata": {},
     "output_type": "execute_result"
    }
   ],
   "source": [
    "count_set={\"set\":\"count\"}\n",
    "for i in range(1,6):\n",
    "    count = (GameInfo[\"set_id\"][GameInfo[\"set_id\"]==i].count())\n",
    "    count_set[i] = count\n",
    "\n",
    "count_set\n"
   ]
  },
  {
   "cell_type": "markdown",
   "metadata": {},
   "source": [
    "### 6.\tWhich country has produced the most successful tennis players?"
   ]
  },
  {
   "cell_type": "code",
   "execution_count": 69,
   "metadata": {},
   "outputs": [
    {
     "name": "stdout",
     "output_type": "stream",
     "text": [
      "top country  =  USA\n"
     ]
    },
    {
     "data": {
      "image/png": "[encoded data removed]",
      "text/plain": [
       "<Figure size 1000x600 with 1 Axes>"
      ]
     },
     "metadata": {},
     "output_type": "display_data"
    }
   ],
   "source": [
    "home_merge = pd.merge(MatchEventInfo, MatchHomeTeamInfo, on='match_id', suffixes=[\"home\"])\n",
    "away_marge = pd.merge(MatchEventInfo, MatchAwayTeamInfo, on='match_id', suffixes=[\"away\"])\n",
    "\n",
    "# Create a DataFrame for home wins and away wins\n",
    "home_wins = home_merge[home_merge['winner_code'] == 1][['player_id', 'name',\"country\"]].copy()\n",
    "away_wins = away_marge[away_marge['winner_code'] == 2][['player_id', 'name', \"country\"]].copy()\n",
    "\n",
    "# Combine home wins and away wins\n",
    "all_wins = pd.concat([home_wins, away_wins])\n",
    "\n",
    "# Calculate the number of wins for each player\n",
    "win_counts = all_wins['player_id'].value_counts().reset_index()\n",
    "win_counts.columns = ['player_id', 'wins']\n",
    "\n",
    "# Merge with player names\n",
    "player_names = all_wins[['player_id', 'name', \"country\"]].drop_duplicates()\n",
    "win_counts = win_counts.merge(player_names, on='player_id')\n",
    "\n",
    "country_win = (win_counts.groupby(by=\"country\").count()[\"wins\"]\n",
    " .sort_values(ascending=False))\n",
    "\n",
    "print(f\"top country  =  {country_win.idxmax()}\")\n",
    "plt.figure(figsize=(10, 6))\n",
    "plt.bar(country_win.index, country_win.values)\n",
    "plt.show()"
   ]
  },
  {
   "cell_type": "code",
   "execution_count": 66,
   "metadata": {},
   "outputs": [
    {
     "data": {
      "text/plain": [
       "<BarContainer object of 94 artists>"
      ]
     },
     "execution_count": 66,
     "metadata": {},
     "output_type": "execute_result"
    },
    {
     "data": {
      "image/png": "[encoded data removed]",
      "text/plain": [
       "<Figure size 1000x600 with 1 Axes>"
      ]
     },
     "metadata": {},
     "output_type": "display_data"
    }
   ],
   "source": [
    "\n",
    "plt.figure(figsize=(10, 6))\n",
    "plt.bar(country_win.index, country_win.values)"
   ]
  },
  {
   "cell_type": "code",
   "execution_count": 34,
   "metadata": {},
   "outputs": [
    {
     "data": {
      "text/html": [
       "<div>\n",
       "<style scoped>\n",
       "    .dataframe tbody tr th:only-of-type {\n",
       "        vertical-align: middle;\n",
       "    }\n",
       "\n",
       "    .dataframe tbody tr th {\n",
       "        vertical-align: top;\n",
       "    }\n",
       "\n",
       "    .dataframe thead th {\n",
       "        text-align: right;\n",
       "    }\n",
       "</style>\n",
       "<table border=\"1\" class=\"dataframe\">\n",
       "  <thead>\n",
       "    <tr style=\"text-align: right;\">\n",
       "      <th></th>\n",
       "      <th>match_id</th>\n",
       "      <th>name</th>\n",
       "      <th>slug</th>\n",
       "      <th>gender</th>\n",
       "      <th>user_count</th>\n",
       "      <th>residence</th>\n",
       "      <th>birthplace</th>\n",
       "      <th>height</th>\n",
       "      <th>weight</th>\n",
       "      <th>plays</th>\n",
       "      <th>turned_pro</th>\n",
       "      <th>current_prize</th>\n",
       "      <th>total_prize</th>\n",
       "      <th>player_id</th>\n",
       "      <th>current_rank</th>\n",
       "      <th>name_code</th>\n",
       "      <th>country</th>\n",
       "      <th>full_name</th>\n",
       "    </tr>\n",
       "  </thead>\n",
       "  <tbody>\n",
       "    <tr>\n",
       "      <th>0</th>\n",
       "      <td>12299621</td>\n",
       "      <td>Shimizu E.</td>\n",
       "      <td>shimizu-eri</td>\n",
       "      <td>F</td>\n",
       "      <td>222</td>\n",
       "      <td>NaN</td>\n",
       "      <td>NaN</td>\n",
       "      <td>NaN</td>\n",
       "      <td>NaN</td>\n",
       "      <td>NaN</td>\n",
       "      <td>NaN</td>\n",
       "      <td>5841.0</td>\n",
       "      <td>40128.0</td>\n",
       "      <td>207065</td>\n",
       "      <td>448.0</td>\n",
       "      <td>SHI</td>\n",
       "      <td>Japan</td>\n",
       "      <td>Shimizu, Eri</td>\n",
       "    </tr>\n",
       "    <tr>\n",
       "      <th>1</th>\n",
       "      <td>12297829</td>\n",
       "      <td>Tsygourova K.</td>\n",
       "      <td>tsygourova-katerina</td>\n",
       "      <td>F</td>\n",
       "      <td>198</td>\n",
       "      <td>NaN</td>\n",
       "      <td>NaN</td>\n",
       "      <td>NaN</td>\n",
       "      <td>NaN</td>\n",
       "      <td>NaN</td>\n",
       "      <td>NaN</td>\n",
       "      <td>2593.0</td>\n",
       "      <td>19761.0</td>\n",
       "      <td>171026</td>\n",
       "      <td>848.0</td>\n",
       "      <td>TSY</td>\n",
       "      <td>Switzerland</td>\n",
       "      <td>Tsygourova, Katerina</td>\n",
       "    </tr>\n",
       "    <tr>\n",
       "      <th>2</th>\n",
       "      <td>12304192</td>\n",
       "      <td>Sultanov K.</td>\n",
       "      <td>sultanov-khumoyun</td>\n",
       "      <td>M</td>\n",
       "      <td>509</td>\n",
       "      <td>Namangan, Uzbekistan</td>\n",
       "      <td>Namangan</td>\n",
       "      <td>1.80</td>\n",
       "      <td>80.0</td>\n",
       "      <td>right-handed</td>\n",
       "      <td>NaN</td>\n",
       "      <td>8967.0</td>\n",
       "      <td>111036.0</td>\n",
       "      <td>149100</td>\n",
       "      <td>339.0</td>\n",
       "      <td>SUL</td>\n",
       "      <td>Uzbekistan</td>\n",
       "      <td>Sultanov, Khumoyun</td>\n",
       "    </tr>\n",
       "    <tr>\n",
       "      <th>3</th>\n",
       "      <td>12301030</td>\n",
       "      <td>Strombachs R.</td>\n",
       "      <td>strombachs-robert</td>\n",
       "      <td>M</td>\n",
       "      <td>418</td>\n",
       "      <td>Berlin, Gernany</td>\n",
       "      <td>Berlin</td>\n",
       "      <td>1.91</td>\n",
       "      <td>78.0</td>\n",
       "      <td>right-handed</td>\n",
       "      <td>NaN</td>\n",
       "      <td>4433.0</td>\n",
       "      <td>79963.0</td>\n",
       "      <td>263699</td>\n",
       "      <td>413.0</td>\n",
       "      <td>STR</td>\n",
       "      <td>Germany</td>\n",
       "      <td>Strombachs, Robert</td>\n",
       "    </tr>\n",
       "    <tr>\n",
       "      <th>4</th>\n",
       "      <td>12301513</td>\n",
       "      <td>Cross K.</td>\n",
       "      <td>cross-kayla</td>\n",
       "      <td>F</td>\n",
       "      <td>286</td>\n",
       "      <td>NaN</td>\n",
       "      <td>NaN</td>\n",
       "      <td>NaN</td>\n",
       "      <td>NaN</td>\n",
       "      <td>left-handed</td>\n",
       "      <td>NaN</td>\n",
       "      <td>2922.0</td>\n",
       "      <td>33435.0</td>\n",
       "      <td>384697</td>\n",
       "      <td>663.0</td>\n",
       "      <td>CRO</td>\n",
       "      <td>Canada</td>\n",
       "      <td>Cross, Kayla</td>\n",
       "    </tr>\n",
       "  </tbody>\n",
       "</table>\n",
       "</div>"
      ],
      "text/plain": [
       "   match_id           name                 slug gender  user_count  \\\n",
       "0  12299621     Shimizu E.          shimizu-eri      F         222   \n",
       "1  12297829  Tsygourova K.  tsygourova-katerina      F         198   \n",
       "2  12304192    Sultanov K.    sultanov-khumoyun      M         509   \n",
       "3  12301030  Strombachs R.    strombachs-robert      M         418   \n",
       "4  12301513       Cross K.          cross-kayla      F         286   \n",
       "\n",
       "              residence birthplace  height  weight         plays  turned_pro  \\\n",
       "0                   NaN        NaN     NaN     NaN           NaN         NaN   \n",
       "1                   NaN        NaN     NaN     NaN           NaN         NaN   \n",
       "2  Namangan, Uzbekistan   Namangan    1.80    80.0  right-handed         NaN   \n",
       "3       Berlin, Gernany     Berlin    1.91    78.0  right-handed         NaN   \n",
       "4                   NaN        NaN     NaN     NaN   left-handed         NaN   \n",
       "\n",
       "   current_prize  total_prize  player_id  current_rank name_code      country  \\\n",
       "0         5841.0      40128.0     207065         448.0       SHI        Japan   \n",
       "1         2593.0      19761.0     171026         848.0       TSY  Switzerland   \n",
       "2         8967.0     111036.0     149100         339.0       SUL   Uzbekistan   \n",
       "3         4433.0      79963.0     263699         413.0       STR      Germany   \n",
       "4         2922.0      33435.0     384697         663.0       CRO       Canada   \n",
       "\n",
       "              full_name  \n",
       "0          Shimizu, Eri  \n",
       "1  Tsygourova, Katerina  \n",
       "2    Sultanov, Khumoyun  \n",
       "3    Strombachs, Robert  \n",
       "4          Cross, Kayla  "
      ]
     },
     "execution_count": 34,
     "metadata": {},
     "output_type": "execute_result"
    }
   ],
   "source": [
    "MatchHomeTeamInfo.head()"
   ]
  }
 ],
 "metadata": {
  "kernelspec": {
   "display_name": "Tennisgameenv",
   "language": "python",
   "name": "python3"
  },
  "language_info": {
   "codemirror_mode": {
    "name": "ipython",
    "version": 3
   },
   "file_extension": ".py",
   "mimetype": "text/x-python",
   "name": "python",
   "nbconvert_exporter": "python",
   "pygments_lexer": "ipython3",
   "version": "3.12.3"
  }
 },
 "nbformat": 4,
 "nbformat_minor": 2
}
