{
 "cells": [
  {
   "cell_type": "markdown",
   "metadata": {},
   "source": [
    "# 2. Read table and analysis\n",
    "\n",
    "1. Read table and processing\n"
   ]
  },
  {
   "cell_type": "code",
   "execution_count": 2,
   "metadata": {},
   "outputs": [],
   "source": [
    "import numpy as np\n",
    "import pandas as pd\n",
    "import pyarrow.parquet as pa\n",
    "import zipfile\n",
    "import os"
   ]
  },
  {
   "cell_type": "markdown",
   "metadata": {},
   "source": [
    "## read data"
   ]
  },
  {
   "cell_type": "code",
   "execution_count": 159,
   "metadata": {},
   "outputs": [],
   "source": [
    "path= \"D:/DATA_Analayses/Project/TennisGame/data/processed\"\n",
    "dris = os.listdir(path)\n",
    "name_of_folder = pd.Series(dris)\n",
    "\n",
    "\n"
   ]
  },
  {
   "cell_type": "code",
   "execution_count": 181,
   "metadata": {},
   "outputs": [],
   "source": [
    "GameInfo = pd.read_csv(\"D:/DATA_Analayses/Project/TennisGame/data/processed/GameInfo.csv\").drop(columns=[\"Unnamed: 0\"])\n",
    "MatchAwayScoreInfo = pd.read_csv(\"D:/DATA_Analayses/Project/TennisGame/data/processed/MatchAwayScoreInfo.csv\").drop(columns=[\"Unnamed: 0\"])\n",
    "MatchAwayTeamInfo = pd.read_csv(\"D:/DATA_Analayses/Project/TennisGame/data/processed/MatchAwayTeamInfo.csv\").drop(columns=[\"Unnamed: 0\"])\n",
    "MatchEventInfo = pd.read_csv(\"D:/DATA_Analayses/Project/TennisGame/data/processed/MatchEventInfo.csv\").drop(columns=[\"Unnamed: 0\"])\n",
    "MatchHomeScoreInfo = pd.read_csv(\"D:/DATA_Analayses/Project/TennisGame/data/processed/MatchHomeScoreInfo.csv\").drop(columns=[\"Unnamed: 0\"])\n",
    "MatchHomeTeamInfo = pd.read_csv(\"D:/DATA_Analayses/Project/TennisGame/data/processed/MatchHomeTeamInfo.csv\").drop(columns=[\"Unnamed: 0\"])\n",
    "MatchRoundInfo = pd.read_csv(\"D:/DATA_Analayses/Project/TennisGame/data/processed/MatchRoundInfo.csv\").drop(columns=[\"Unnamed: 0\"])\n",
    "MatchSeasonInfo = pd.read_csv(\"D:/DATA_Analayses/Project/TennisGame/data/processed/MatchSeasonInfo.csv\").drop(columns=[\"Unnamed: 0\"])\n",
    "MatchTimeInfo = pd.read_csv(\"D:/DATA_Analayses/Project/TennisGame/data/processed/MatchTimeInfo.csv\").drop(columns=[\"Unnamed: 0\"])\n",
    "MatchTournamentInfo = pd.read_csv(\"D:/DATA_Analayses/Project/TennisGame/data/processed/MatchTournamentInfo.csv\").drop(columns=[\"Unnamed: 0\"])\n",
    "MatchVenueInfo = pd.read_csv(\"D:/DATA_Analayses/Project/TennisGame/data/processed/MatchVenueInfo.csv\").drop(columns=[\"Unnamed: 0\"])\n",
    "MatchVotesInfo = pd.read_csv(\"D:/DATA_Analayses/Project/TennisGame/data/processed/MatchVotesInfo.csv\").drop(columns=[\"Unnamed: 0\"])\n",
    "OddsInfo = pd.read_csv(\"D:/DATA_Analayses/Project/TennisGame/data/processed/OddsInfo.csv\").drop(columns=[\"Unnamed: 0\"])\n",
    "PeriodInfo = pd.read_csv(\"D:/DATA_Analayses/Project/TennisGame/data/processed/PeriodInfo.csv\").drop(columns=[\"Unnamed: 0\"])\n",
    "PowerInfo = pd.read_csv(\"D:/DATA_Analayses/Project/TennisGame/data/processed/PowerInfo.csv\").drop(columns=[\"Unnamed: 0\"])\n"
   ]
  },
  {
   "cell_type": "markdown",
   "metadata": {},
   "source": [
    "### 1.\tHow many tennis players are included in the dataset?"
   ]
  },
  {
   "cell_type": "code",
   "execution_count": 164,
   "metadata": {},
   "outputs": [
    {
     "name": "stdout",
     "output_type": "stream",
     "text": [
      "<class 'pandas.core.frame.DataFrame'>\n",
      "RangeIndex: 14090 entries, 0 to 14089\n",
      "Data columns (total 18 columns):\n",
      " #   Column         Non-Null Count  Dtype  \n",
      "---  ------         --------------  -----  \n",
      " 0   match_id       14090 non-null  int64  \n",
      " 1   name           14090 non-null  object \n",
      " 2   slug           14090 non-null  object \n",
      " 3   gender         14061 non-null  object \n",
      " 4   user_count     14090 non-null  int64  \n",
      " 5   residence      3764 non-null   object \n",
      " 6   birthplace     7806 non-null   object \n",
      " 7   height         7585 non-null   float64\n",
      " 8   weight         3610 non-null   float64\n",
      " 9   plays          6737 non-null   object \n",
      " 10  turned_pro     2668 non-null   float64\n",
      " 11  current_prize  13984 non-null  float64\n",
      " 12  total_prize    14047 non-null  float64\n",
      " 13  player_id      14090 non-null  int64  \n",
      " 14  current_rank   13933 non-null  float64\n",
      " 15  name_code      14090 non-null  object \n",
      " 16  country        14090 non-null  object \n",
      " 17  full_name      14090 non-null  object \n",
      "dtypes: float64(6), int64(3), object(9)\n",
      "memory usage: 1.9+ MB\n"
     ]
    }
   ],
   "source": [
    "MatchHomeTeamInfo.info()\n"
   ]
  },
  {
   "cell_type": "markdown",
   "metadata": {},
   "source": [
    "1st way: Find player with player_id"
   ]
  },
  {
   "cell_type": "code",
   "execution_count": 165,
   "metadata": {},
   "outputs": [
    {
     "data": {
      "text/plain": [
       "2352"
      ]
     },
     "execution_count": 165,
     "metadata": {},
     "output_type": "execute_result"
    }
   ],
   "source": [
    "player_id = pd.concat([MatchAwayTeamInfo[\"player_id\"], MatchHomeTeamInfo[\"player_id\"]])\n",
    "player_id.unique().size"
   ]
  },
  {
   "cell_type": "markdown",
   "metadata": {},
   "source": [
    "2nd way: Find player with full_name"
   ]
  },
  {
   "cell_type": "code",
   "execution_count": 166,
   "metadata": {},
   "outputs": [
    {
     "data": {
      "text/plain": [
       "2353"
      ]
     },
     "execution_count": 166,
     "metadata": {},
     "output_type": "execute_result"
    }
   ],
   "source": [
    "player_full_name = pd.concat([MatchAwayTeamInfo[\"full_name\"], MatchHomeTeamInfo[\"full_name\"]])\n",
    "player_full_name.unique().size"
   ]
  },
  {
   "cell_type": "markdown",
   "metadata": {},
   "source": [
    "### 2.\tWhat is the average height of the players?"
   ]
  },
  {
   "cell_type": "code",
   "execution_count": 167,
   "metadata": {},
   "outputs": [
    {
     "name": "stdout",
     "output_type": "stream",
     "text": [
      "<class 'pandas.core.frame.DataFrame'>\n",
      "RangeIndex: 12955 entries, 0 to 12954\n",
      "Data columns (total 18 columns):\n",
      " #   Column         Non-Null Count  Dtype  \n",
      "---  ------         --------------  -----  \n",
      " 0   match_id       12955 non-null  int64  \n",
      " 1   name           12955 non-null  object \n",
      " 2   slug           12955 non-null  object \n",
      " 3   gender         12933 non-null  object \n",
      " 4   user_count     12955 non-null  int64  \n",
      " 5   residence      3601 non-null   object \n",
      " 6   birthplace     7235 non-null   object \n",
      " 7   height         7008 non-null   float64\n",
      " 8   weight         3496 non-null   float64\n",
      " 9   plays          6432 non-null   object \n",
      " 10  turned_pro     2586 non-null   float64\n",
      " 11  current_prize  12808 non-null  float64\n",
      " 12  total_prize    12900 non-null  float64\n",
      " 13  player_id      12955 non-null  int64  \n",
      " 14  current_rank   12733 non-null  float64\n",
      " 15  name_code      12955 non-null  object \n",
      " 16  country        12954 non-null  object \n",
      " 17  full_name      12955 non-null  object \n",
      "dtypes: float64(6), int64(3), object(9)\n",
      "memory usage: 1.8+ MB\n"
     ]
    }
   ],
   "source": [
    "MatchAwayTeamInfo.info()"
   ]
  },
  {
   "cell_type": "code",
   "execution_count": 182,
   "metadata": {},
   "outputs": [
    {
     "name": "stdout",
     "output_type": "stream",
     "text": [
      "36\n",
      "217\n",
      "878\n",
      "1452\n",
      "1684\n",
      "1985\n",
      "2321\n",
      "0      36\n",
      "1     217\n",
      "2     878\n",
      "3    1452\n",
      "4    1684\n",
      "5    1985\n",
      "6    2321\n",
      "dtype: int64\n"
     ]
    }
   ],
   "source": [
    "player_info = pd.concat([MatchAwayTeamInfo[[\"player_id\", \"height\"]]\n",
    "                        , MatchHomeTeamInfo[[\"player_id\", \"height\"]]])\n",
    "\n",
    "player_info[player_info.duplicated()].sort_values(\"player_id\")\n",
    "#----------------------------------\n",
    "\n",
    "player_id = player_info[\"player_id\"].unique()\n",
    "player_id_nan_notna=[]\n",
    "for i in range(player_id.size):\n",
    "    nullcount = player_info[player_info[\"player_id\"]==player_id[i]][\"height\"].isna().sum()\n",
    "    nanullcount = player_info[player_info[\"player_id\"]==player_id[i]][\"height\"].notna().sum()\n",
    "    if nullcount != 0:\n",
    "        if nanullcount !=0:\n",
    "            player_id_nan_notna.append(i)\n",
    "            print(i)\n",
    "player_id_nan_notna = pd.Series(player_id_nan_notna)\n",
    "\n",
    "print(player_id_nan_notna)"
   ]
  },
  {
   "cell_type": "code",
   "execution_count": 183,
   "metadata": {},
   "outputs": [],
   "source": [
    "for i in player_id_nan_notna:\n",
    "    player_info[player_info[\"player_id\"]==player_id[i]] = (player_info[player_info[\"player_id\"]==player_id[i]]\n",
    "                                                           .sort_values(\"height\").ffill())\n"
   ]
  },
  {
   "cell_type": "code",
   "execution_count": 199,
   "metadata": {},
   "outputs": [
    {
     "ename": "ImportError",
     "evalue": "matplotlib is required for plotting when the default backend \"matplotlib\" is selected.",
     "output_type": "error",
     "traceback": [
      "\u001b[1;31m---------------------------------------------------------------------------\u001b[0m",
      "\u001b[1;31mImportError\u001b[0m                               Traceback (most recent call last)",
      "Cell \u001b[1;32mIn[199], line 4\u001b[0m\n\u001b[0;32m      1\u001b[0m player_info_cleaned \u001b[38;5;241m=\u001b[39m player_info\u001b[38;5;241m.\u001b[39mdrop_duplicates(subset\u001b[38;5;241m=\u001b[39m[\u001b[38;5;124m\"\u001b[39m\u001b[38;5;124mplayer_id\u001b[39m\u001b[38;5;124m\"\u001b[39m])\n\u001b[0;32m      2\u001b[0m player_info_cleaned[\u001b[38;5;124m\"\u001b[39m\u001b[38;5;124mheight\u001b[39m\u001b[38;5;124m\"\u001b[39m]\u001b[38;5;241m.\u001b[39mdescribe()\n\u001b[1;32m----> 4\u001b[0m \u001b[43mplayer_info_cleaned\u001b[49m\u001b[43m[\u001b[49m\u001b[38;5;124;43m\"\u001b[39;49m\u001b[38;5;124;43mheight\u001b[39;49m\u001b[38;5;124;43m\"\u001b[39;49m\u001b[43m]\u001b[49m\u001b[38;5;241;43m.\u001b[39;49m\u001b[43mhist\u001b[49m\u001b[43m(\u001b[49m\u001b[43m)\u001b[49m\n",
      "File \u001b[1;32md:\\DATA_Analayses\\Project\\TennisGame\\Tennisgameenv\\Lib\\site-packages\\pandas\\plotting\\_core.py:128\u001b[0m, in \u001b[0;36mhist_series\u001b[1;34m(self, by, ax, grid, xlabelsize, xrot, ylabelsize, yrot, figsize, bins, backend, legend, **kwargs)\u001b[0m\n\u001b[0;32m     47\u001b[0m \u001b[38;5;28;01mdef\u001b[39;00m \u001b[38;5;21mhist_series\u001b[39m(\n\u001b[0;32m     48\u001b[0m     \u001b[38;5;28mself\u001b[39m: Series,\n\u001b[0;32m     49\u001b[0m     by\u001b[38;5;241m=\u001b[39m\u001b[38;5;28;01mNone\u001b[39;00m,\n\u001b[1;32m   (...)\u001b[0m\n\u001b[0;32m     60\u001b[0m     \u001b[38;5;241m*\u001b[39m\u001b[38;5;241m*\u001b[39mkwargs,\n\u001b[0;32m     61\u001b[0m ):\n\u001b[0;32m     62\u001b[0m \u001b[38;5;250m    \u001b[39m\u001b[38;5;124;03m\"\"\"\u001b[39;00m\n\u001b[0;32m     63\u001b[0m \u001b[38;5;124;03m    Draw histogram of the input series using matplotlib.\u001b[39;00m\n\u001b[0;32m     64\u001b[0m \n\u001b[1;32m   (...)\u001b[0m\n\u001b[0;32m    126\u001b[0m \u001b[38;5;124;03m        >>> hist = ser.groupby(level=0).hist()\u001b[39;00m\n\u001b[0;32m    127\u001b[0m \u001b[38;5;124;03m    \"\"\"\u001b[39;00m\n\u001b[1;32m--> 128\u001b[0m     plot_backend \u001b[38;5;241m=\u001b[39m \u001b[43m_get_plot_backend\u001b[49m\u001b[43m(\u001b[49m\u001b[43mbackend\u001b[49m\u001b[43m)\u001b[49m\n\u001b[0;32m    129\u001b[0m     \u001b[38;5;28;01mreturn\u001b[39;00m plot_backend\u001b[38;5;241m.\u001b[39mhist_series(\n\u001b[0;32m    130\u001b[0m         \u001b[38;5;28mself\u001b[39m,\n\u001b[0;32m    131\u001b[0m         by\u001b[38;5;241m=\u001b[39mby,\n\u001b[1;32m   (...)\u001b[0m\n\u001b[0;32m    141\u001b[0m         \u001b[38;5;241m*\u001b[39m\u001b[38;5;241m*\u001b[39mkwargs,\n\u001b[0;32m    142\u001b[0m     )\n",
      "File \u001b[1;32md:\\DATA_Analayses\\Project\\TennisGame\\Tennisgameenv\\Lib\\site-packages\\pandas\\plotting\\_core.py:1944\u001b[0m, in \u001b[0;36m_get_plot_backend\u001b[1;34m(backend)\u001b[0m\n\u001b[0;32m   1941\u001b[0m \u001b[38;5;28;01mif\u001b[39;00m backend_str \u001b[38;5;129;01min\u001b[39;00m _backends:\n\u001b[0;32m   1942\u001b[0m     \u001b[38;5;28;01mreturn\u001b[39;00m _backends[backend_str]\n\u001b[1;32m-> 1944\u001b[0m module \u001b[38;5;241m=\u001b[39m \u001b[43m_load_backend\u001b[49m\u001b[43m(\u001b[49m\u001b[43mbackend_str\u001b[49m\u001b[43m)\u001b[49m\n\u001b[0;32m   1945\u001b[0m _backends[backend_str] \u001b[38;5;241m=\u001b[39m module\n\u001b[0;32m   1946\u001b[0m \u001b[38;5;28;01mreturn\u001b[39;00m module\n",
      "File \u001b[1;32md:\\DATA_Analayses\\Project\\TennisGame\\Tennisgameenv\\Lib\\site-packages\\pandas\\plotting\\_core.py:1874\u001b[0m, in \u001b[0;36m_load_backend\u001b[1;34m(backend)\u001b[0m\n\u001b[0;32m   1872\u001b[0m         module \u001b[38;5;241m=\u001b[39m importlib\u001b[38;5;241m.\u001b[39mimport_module(\u001b[38;5;124m\"\u001b[39m\u001b[38;5;124mpandas.plotting._matplotlib\u001b[39m\u001b[38;5;124m\"\u001b[39m)\n\u001b[0;32m   1873\u001b[0m     \u001b[38;5;28;01mexcept\u001b[39;00m \u001b[38;5;167;01mImportError\u001b[39;00m:\n\u001b[1;32m-> 1874\u001b[0m         \u001b[38;5;28;01mraise\u001b[39;00m \u001b[38;5;167;01mImportError\u001b[39;00m(\n\u001b[0;32m   1875\u001b[0m             \u001b[38;5;124m\"\u001b[39m\u001b[38;5;124mmatplotlib is required for plotting when the \u001b[39m\u001b[38;5;124m\"\u001b[39m\n\u001b[0;32m   1876\u001b[0m             \u001b[38;5;124m'\u001b[39m\u001b[38;5;124mdefault backend \u001b[39m\u001b[38;5;124m\"\u001b[39m\u001b[38;5;124mmatplotlib\u001b[39m\u001b[38;5;124m\"\u001b[39m\u001b[38;5;124m is selected.\u001b[39m\u001b[38;5;124m'\u001b[39m\n\u001b[0;32m   1877\u001b[0m         ) \u001b[38;5;28;01mfrom\u001b[39;00m \u001b[38;5;28;01mNone\u001b[39;00m\n\u001b[0;32m   1878\u001b[0m     \u001b[38;5;28;01mreturn\u001b[39;00m module\n\u001b[0;32m   1880\u001b[0m found_backend \u001b[38;5;241m=\u001b[39m \u001b[38;5;28;01mFalse\u001b[39;00m\n",
      "\u001b[1;31mImportError\u001b[0m: matplotlib is required for plotting when the default backend \"matplotlib\" is selected."
     ]
    }
   ],
   "source": [
    "player_info_cleaned = player_info.drop_duplicates(subset=[\"player_id\"])\n",
    "player_info_cleaned[\"height\"].describe()\n",
    "\n",
    "player_info_cleaned[\"height\"].hist()"
   ]
  }
 ],
 "metadata": {
  "kernelspec": {
   "display_name": "Tennisgameenv",
   "language": "python",
   "name": "python3"
  },
  "language_info": {
   "codemirror_mode": {
    "name": "ipython",
    "version": 3
   },
   "file_extension": ".py",
   "mimetype": "text/x-python",
   "name": "python",
   "nbconvert_exporter": "python",
   "pygments_lexer": "ipython3",
   "version": "3.12.3"
  }
 },
 "nbformat": 4,
 "nbformat_minor": 2
}
