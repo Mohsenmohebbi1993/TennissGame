{
 "cells": [
  {
   "cell_type": "markdown",
   "metadata": {},
   "source": [
    "# 1. First Nootbook\n",
    "\n",
    "1. Make Tabels "
   ]
  },
  {
   "cell_type": "code",
   "execution_count": 2,
   "metadata": {},
   "outputs": [],
   "source": [
    "import numpy as np\n",
    "import pandas as pd\n",
    "import pyarrow.parquet as pa\n",
    "import zipfile\n",
    "import os"
   ]
  },
  {
   "cell_type": "markdown",
   "metadata": {},
   "source": [
    "### 1-1 unzip file\n",
    "\n",
    "unzipe main data togheder"
   ]
  },
  {
   "cell_type": "code",
   "execution_count": null,
   "metadata": {},
   "outputs": [],
   "source": [
    "folder = 'D:/DATA_Analayses/Project/TennisGame/data/raw/202405'\n",
    "extension = \".zip\"\n",
    "\n",
    "os.chdir(folder) \n",
    "\n",
    "for item in os.listdir(folder): \n",
    "    if item.endswith(extension): \n",
    "        file_name = os.path.abspath(item) \n",
    "        zip_ref = zipfile.ZipFile(item) \n",
    "        zip_ref.extractall(folder)"
   ]
  },
  {
   "cell_type": "markdown",
   "metadata": {},
   "source": [
    "away_team tabel"
   ]
  },
  {
   "cell_type": "code",
   "execution_count": null,
   "metadata": {},
   "outputs": [],
   "source": [
    "path= \"D:/DATA_Analayses/Project/TennisGame/data/raw/202405/data/raw/raw_match_parquet\"\n",
    "dris = os.listdir(path)\n",
    "series_of_data = pd.Series(dris)\n",
    "series_of_data_start_with_away_team = series_of_data[series_of_data.str.startswith(\"away_team_1\")]\n",
    "away_team = pd.DataFrame()\n",
    "\n",
    "for i in range(series_of_data_start_with_away_team.size):\n",
    "    value = pd.read_parquet(f'D:/DATA_Analayses/Project/TennisGame/data/raw/202405/data/raw/raw_match_parquet/{series_of_data_start_with_away_team.iloc[i]}', engine='pyarrow')\n",
    "    away_team = pd.concat([away_team, value])\n",
    "\n",
    "away_team.to_csv(\"D:/DATA_Analayses/Project/TennisGame/data/processed/away_team.csv\", index=False)"
   ]
  },
  {
   "cell_type": "code",
   "execution_count": 16,
   "metadata": {},
   "outputs": [
    {
     "data": {
      "text/plain": [
       "(6143, 18)"
      ]
     },
     "execution_count": 16,
     "metadata": {},
     "output_type": "execute_result"
    }
   ],
   "source": [
    "away_team.shape"
   ]
  },
  {
   "cell_type": "markdown",
   "metadata": {},
   "source": [
    "away_team_score tabel"
   ]
  },
  {
   "cell_type": "code",
   "execution_count": 17,
   "metadata": {},
   "outputs": [],
   "source": [
    "path= \"D:/DATA_Analayses/Project/TennisGame/data/raw/202405/data/raw/raw_match_parquet\"\n",
    "dris = os.listdir(path)\n",
    "series_of_data = pd.Series(dris)\n",
    "series_of_data_start_with_away_team_score = series_of_data[series_of_data.str.startswith(\"away_team_score_1\")]\n",
    "away_team_score = pd.DataFrame()\n",
    "\n",
    "\n",
    "for i in range(series_of_data_start_with_away_team_score.size):\n",
    "    value = pd.read_parquet(f'D:/DATA_Analayses/Project/TennisGame/data/raw/202405/data/raw/raw_match_parquet/{series_of_data_start_with_away_team_score.iloc[i]}', engine='pyarrow')\n",
    "    away_team_score = pd.concat([away_team_score, value])\n",
    "\n",
    "away_team_score.to_csv(\"D:/DATA_Analayses/Project/TennisGame/data/processed/away_team_score.csv\", index=False)"
   ]
  },
  {
   "cell_type": "code",
   "execution_count": 18,
   "metadata": {},
   "outputs": [
    {
     "data": {
      "text/plain": [
       "(9319, 14)"
      ]
     },
     "execution_count": 18,
     "metadata": {},
     "output_type": "execute_result"
    }
   ],
   "source": [
    "away_team_score.shape"
   ]
  },
  {
   "cell_type": "markdown",
   "metadata": {},
   "source": [
    "match_event_info tabel"
   ]
  },
  {
   "cell_type": "code",
   "execution_count": 4,
   "metadata": {},
   "outputs": [],
   "source": [
    "path= \"D:/DATA_Analayses/Project/TennisGame/data/raw/202405/data/raw/raw_match_parquet\"\n",
    "dris = os.listdir(path)\n",
    "series_of_data = pd.Series(dris)\n",
    "series_of_data_start_with_evente = series_of_data[series_of_data.str.startswith(\"event_1\")]\n",
    "match_event_info = pd.DataFrame()\n",
    "\n",
    "\n",
    "for i in range(series_of_data_start_with_evente.size):\n",
    "    value = pd.read_parquet(f'D:/DATA_Analayses/Project/TennisGame/data/raw/202405/data/raw/raw_match_parquet/{series_of_data_start_with_evente.iloc[i]}', engine='pyarrow')\n",
    "    match_event_info = pd.concat([match_event_info, value])\n",
    "\n",
    "match_event_info.to_csv(\"D:/DATA_Analayses/Project/TennisGame/data/processed/match_event_info.csv\", index=False)\n"
   ]
  },
  {
   "cell_type": "markdown",
   "metadata": {},
   "source": [
    "match_home_team_info tabel"
   ]
  },
  {
   "cell_type": "code",
   "execution_count": null,
   "metadata": {},
   "outputs": [],
   "source": [
    "path= \"D:/DATA_Analayses/Project/TennisGame/data/raw/202405/data/raw/raw_match_parquet\"\n",
    "dris = os.listdir(path)\n",
    "series_of_data = pd.Series(dris)\n",
    "series_of_data_start_with_home_team = series_of_data[series_of_data.str.startswith(\"home_team_1\")]\n",
    "match_home_team_info = pd.DataFrame()\n",
    "\n",
    "\n",
    "for i in range(series_of_data_start_with_home_team.size):\n",
    "    value = pd.read_parquet(f'D:/DATA_Analayses/Project/TennisGame/data/raw/202405/data/raw/raw_match_parquet/{series_of_data_start_with_home_team.iloc[i]}', engine='pyarrow')\n",
    "    match_home_team_info = pd.concat([match_home_team_info, value])"
   ]
  },
  {
   "cell_type": "markdown",
   "metadata": {},
   "source": [
    "### 1-2 Save dataframe as CSV"
   ]
  },
  {
   "cell_type": "code",
   "execution_count": 11,
   "metadata": {},
   "outputs": [],
   "source": [
    "#match_home_team_info.to_csv(\"D:/DATA_Analayses/Project/TennisGame/data/processed/match_home_team_info.csv\", index=False)\n",
    "#match_away_score_info.to_csv(\"D:/DATA_Analayses/Project/TennisGame/data/processed/match_away_score_info.csv\", index=False)\n",
    "#match_home_team_info.to_csv(\"D:/DATA_Analayses/Project/TennisGame/data/processed/match_home_team_info.csv\", index=False)\n"
   ]
  }
 ],
 "metadata": {
  "kernelspec": {
   "display_name": "Tennisgameenv",
   "language": "python",
   "name": "python3"
  },
  "language_info": {
   "codemirror_mode": {
    "name": "ipython",
    "version": 3
   },
   "file_extension": ".py",
   "mimetype": "text/x-python",
   "name": "python",
   "nbconvert_exporter": "python",
   "pygments_lexer": "ipython3",
   "version": "3.12.3"
  }
 },
 "nbformat": 4,
 "nbformat_minor": 2
}
