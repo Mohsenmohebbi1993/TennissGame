{
 "cells": [
  {
   "cell_type": "markdown",
   "metadata": {},
   "source": [
    "# 1. First Nootbook\n",
    "\n",
    "1. Make Tabels "
   ]
  },
  {
   "cell_type": "code",
   "execution_count": 2,
   "metadata": {},
   "outputs": [],
   "source": [
    "import numpy as np\n",
    "import pandas as pd\n",
    "import pyarrow.parquet as pa\n",
    "import zipfile\n",
    "import os"
   ]
  },
  {
   "cell_type": "markdown",
   "metadata": {},
   "source": [
    "### 1-1 unzip file\n",
    "\n",
    "unzipe main data togheder"
   ]
  },
  {
   "cell_type": "code",
   "execution_count": null,
   "metadata": {},
   "outputs": [],
   "source": [
    "folder = 'D:/DATA_Analayses/Project/TennisGame/data/raw/202405'\n",
    "extension = \".zip\"\n",
    "\n",
    "os.chdir(folder) \n",
    "\n",
    "for item in os.listdir(folder): \n",
    "    if item.endswith(extension): \n",
    "        file_name = os.path.abspath(item) \n",
    "        zip_ref = zipfile.ZipFile(item) \n",
    "        zip_ref.extractall(folder)"
   ]
  },
  {
   "cell_type": "markdown",
   "metadata": {},
   "source": [
    "1 away_team tabel"
   ]
  },
  {
   "cell_type": "code",
   "execution_count": null,
   "metadata": {},
   "outputs": [],
   "source": [
    "path= \"D:/DATA_Analayses/Project/TennisGame/data/raw/202405/data/raw/raw_match_parquet\"\n",
    "dris = os.listdir(path)\n",
    "series_of_data = pd.Series(dris)\n",
    "series_of_data_start_with_away_team = series_of_data[series_of_data.str.startswith(\"away_team_1\")]\n",
    "away_team = pd.DataFrame()\n",
    "\n",
    "for i in range(series_of_data_start_with_away_team.size):\n",
    "    value = pd.read_parquet(f'D:/DATA_Analayses/Project/TennisGame/data/raw/202405/data/raw/raw_match_parquet/{series_of_data_start_with_away_team.iloc[i]}', engine='pyarrow')\n",
    "    away_team = pd.concat([away_team, value])\n",
    "\n",
    "away_team.to_csv(\"D:/DATA_Analayses/Project/TennisGame/data/processed/away_team.csv\", index=False)"
   ]
  },
  {
   "cell_type": "code",
   "execution_count": 16,
   "metadata": {},
   "outputs": [
    {
     "data": {
      "text/plain": [
       "(6143, 18)"
      ]
     },
     "execution_count": 16,
     "metadata": {},
     "output_type": "execute_result"
    }
   ],
   "source": [
    "away_team.shape"
   ]
  },
  {
   "cell_type": "markdown",
   "metadata": {},
   "source": [
    "2 away_team_score tabel"
   ]
  },
  {
   "cell_type": "code",
   "execution_count": 17,
   "metadata": {},
   "outputs": [],
   "source": [
    "path= \"D:/DATA_Analayses/Project/TennisGame/data/raw/202405/data/raw/raw_match_parquet\"\n",
    "dris = os.listdir(path)\n",
    "series_of_data = pd.Series(dris)\n",
    "series_of_data_start_with_away_team_score = series_of_data[series_of_data.str.startswith(\"away_team_score_1\")]\n",
    "away_team_score = pd.DataFrame()\n",
    "\n",
    "\n",
    "for i in range(series_of_data_start_with_away_team_score.size):\n",
    "    value = pd.read_parquet(f'D:/DATA_Analayses/Project/TennisGame/data/raw/202405/data/raw/raw_match_parquet/{series_of_data_start_with_away_team_score.iloc[i]}', engine='pyarrow')\n",
    "    away_team_score = pd.concat([away_team_score, value])\n",
    "\n",
    "away_team_score.to_csv(\"D:/DATA_Analayses/Project/TennisGame/data/processed/away_team_score.csv\", index=False)"
   ]
  },
  {
   "cell_type": "code",
   "execution_count": 18,
   "metadata": {},
   "outputs": [
    {
     "data": {
      "text/plain": [
       "(9319, 14)"
      ]
     },
     "execution_count": 18,
     "metadata": {},
     "output_type": "execute_result"
    }
   ],
   "source": [
    "away_team_score.shape"
   ]
  },
  {
   "cell_type": "markdown",
   "metadata": {},
   "source": [
    "3 event tabel"
   ]
  },
  {
   "cell_type": "code",
   "execution_count": 19,
   "metadata": {},
   "outputs": [],
   "source": [
    "path= \"D:/DATA_Analayses/Project/TennisGame/data/raw/202405/data/raw/raw_match_parquet\"\n",
    "dris = os.listdir(path)\n",
    "series_of_data = pd.Series(dris)\n",
    "series_of_data_start_with_evente = series_of_data[series_of_data.str.startswith(\"event_1\")]\n",
    "event = pd.DataFrame()\n",
    "\n",
    "\n",
    "for i in range(series_of_data_start_with_evente.size):\n",
    "    value = pd.read_parquet(f'D:/DATA_Analayses/Project/TennisGame/data/raw/202405/data/raw/raw_match_parquet/{series_of_data_start_with_evente.iloc[i]}', engine='pyarrow')\n",
    "    event = pd.concat([event, value])\n",
    "\n",
    "event.to_csv(\"D:/DATA_Analayses/Project/TennisGame/data/processed/event.csv\", index=False)\n"
   ]
  },
  {
   "cell_type": "code",
   "execution_count": 20,
   "metadata": {},
   "outputs": [
    {
     "data": {
      "text/plain": [
       "(9319, 10)"
      ]
     },
     "execution_count": 20,
     "metadata": {},
     "output_type": "execute_result"
    }
   ],
   "source": [
    "event.shape"
   ]
  },
  {
   "cell_type": "markdown",
   "metadata": {},
   "source": [
    "4 match_home_team_info tabel"
   ]
  },
  {
   "cell_type": "code",
   "execution_count": null,
   "metadata": {},
   "outputs": [],
   "source": [
    "path= \"D:/DATA_Analayses/Project/TennisGame/data/raw/202405/data/raw/raw_match_parquet\"\n",
    "dris = os.listdir(path)\n",
    "series_of_data = pd.Series(dris)\n",
    "series_of_data_start_with_home_team = series_of_data[series_of_data.str.startswith(\"home_team_1\")]\n",
    "home_team = pd.DataFrame()\n",
    "\n",
    "\n",
    "for i in range(series_of_data_start_with_home_team.size):\n",
    "    value = pd.read_parquet(f'D:/DATA_Analayses/Project/TennisGame/data/raw/202405/data/raw/raw_match_parquet/{series_of_data_start_with_home_team.iloc[i]}', engine='pyarrow')\n",
    "    home_team = pd.concat([home_team, value])\n",
    "\n",
    "home_team.to_csv(\"D:/DATA_Analayses/Project/TennisGame/data/processed/home_team.csv\", index=False)"
   ]
  },
  {
   "cell_type": "code",
   "execution_count": 22,
   "metadata": {},
   "outputs": [
    {
     "data": {
      "text/plain": [
       "(6670, 18)"
      ]
     },
     "execution_count": 22,
     "metadata": {},
     "output_type": "execute_result"
    }
   ],
   "source": [
    "home_team.shape"
   ]
  },
  {
   "cell_type": "markdown",
   "metadata": {},
   "source": [
    "5 home_team_score tabel"
   ]
  },
  {
   "cell_type": "code",
   "execution_count": 23,
   "metadata": {},
   "outputs": [],
   "source": [
    "path= \"D:/DATA_Analayses/Project/TennisGame/data/raw/202405/data/raw/raw_match_parquet\"\n",
    "dris = os.listdir(path)\n",
    "series_of_data = pd.Series(dris)\n",
    "series_of_data_start_with_home_team_score = series_of_data[series_of_data.str.startswith(\"home_team_score_1\")]\n",
    "home_team_score = pd.DataFrame()\n",
    "\n",
    "\n",
    "for i in range(series_of_data_start_with_home_team_score.size):\n",
    "    value = pd.read_parquet(f'D:/DATA_Analayses/Project/TennisGame/data/raw/202405/data/raw/raw_match_parquet/{series_of_data_start_with_home_team_score.iloc[i]}', engine='pyarrow')\n",
    "    home_team_score = pd.concat([home_team_score, value])\n",
    "\n",
    "home_team_score.to_csv(\"D:/DATA_Analayses/Project/TennisGame/data/processed/home_team_score.csv\", index=False)"
   ]
  },
  {
   "cell_type": "code",
   "execution_count": 26,
   "metadata": {},
   "outputs": [
    {
     "data": {
      "text/plain": [
       "(9319, 14)"
      ]
     },
     "execution_count": 26,
     "metadata": {},
     "output_type": "execute_result"
    }
   ],
   "source": [
    "home_team_score.shape\n"
   ]
  },
  {
   "cell_type": "markdown",
   "metadata": {},
   "source": [
    "round tabel"
   ]
  },
  {
   "cell_type": "code",
   "execution_count": 27,
   "metadata": {},
   "outputs": [],
   "source": [
    "path= \"D:/DATA_Analayses/Project/TennisGame/data/raw/202405/data/raw/raw_match_parquet\"\n",
    "dris = os.listdir(path)\n",
    "series_of_data = pd.Series(dris)\n",
    "series_of_data_start_with_round = series_of_data[series_of_data.str.startswith(\"round_1\")]\n",
    "round = pd.DataFrame()\n",
    "\n",
    "\n",
    "for i in range(series_of_data_start_with_round.size):\n",
    "    value = pd.read_parquet(f'D:/DATA_Analayses/Project/TennisGame/data/raw/202405/data/raw/raw_match_parquet/{series_of_data_start_with_round.iloc[i]}', engine='pyarrow')\n",
    "    round = pd.concat([round, value])\n",
    "\n",
    "round.to_csv(\"D:/DATA_Analayses/Project/TennisGame/data/processed/round.csv\", index=False)"
   ]
  },
  {
   "cell_type": "code",
   "execution_count": 28,
   "metadata": {},
   "outputs": [
    {
     "data": {
      "text/plain": [
       "(5790, 5)"
      ]
     },
     "execution_count": 28,
     "metadata": {},
     "output_type": "execute_result"
    }
   ],
   "source": [
    "round.shape"
   ]
  },
  {
   "cell_type": "markdown",
   "metadata": {},
   "source": [
    "season tabel"
   ]
  },
  {
   "cell_type": "code",
   "execution_count": 29,
   "metadata": {},
   "outputs": [],
   "source": [
    "path= \"D:/DATA_Analayses/Project/TennisGame/data/raw/202405/data/raw/raw_match_parquet\"\n",
    "dris = os.listdir(path)\n",
    "series_of_data = pd.Series(dris)\n",
    "series_of_data_start_with_season = series_of_data[series_of_data.str.startswith(\"season_1\")]\n",
    "season = pd.DataFrame()\n",
    "\n",
    "\n",
    "for i in range(series_of_data_start_with_season.size):\n",
    "    value = pd.read_parquet(f'D:/DATA_Analayses/Project/TennisGame/data/raw/202405/data/raw/raw_match_parquet/{series_of_data_start_with_season.iloc[i]}', engine='pyarrow')\n",
    "    season = pd.concat([season, value])\n",
    "\n",
    "season.to_csv(\"D:/DATA_Analayses/Project/TennisGame/data/processed/season.csv\", index=False)"
   ]
  },
  {
   "cell_type": "code",
   "execution_count": 30,
   "metadata": {},
   "outputs": [
    {
     "data": {
      "text/plain": [
       "(9319, 4)"
      ]
     },
     "execution_count": 30,
     "metadata": {},
     "output_type": "execute_result"
    }
   ],
   "source": [
    "season.shape\n"
   ]
  },
  {
   "cell_type": "markdown",
   "metadata": {},
   "source": [
    "time tabel"
   ]
  },
  {
   "cell_type": "code",
   "execution_count": 31,
   "metadata": {},
   "outputs": [],
   "source": [
    "path= \"D:/DATA_Analayses/Project/TennisGame/data/raw/202405/data/raw/raw_match_parquet\"\n",
    "dris = os.listdir(path)\n",
    "series_of_data = pd.Series(dris)\n",
    "series_of_data_start_with_time = series_of_data[series_of_data.str.startswith(\"time_1\")]\n",
    "time = pd.DataFrame()\n",
    "\n",
    "\n",
    "for i in range(series_of_data_start_with_time.size):\n",
    "    value = pd.read_parquet(f'D:/DATA_Analayses/Project/TennisGame/data/raw/202405/data/raw/raw_match_parquet/{series_of_data_start_with_time.iloc[i]}', engine='pyarrow')\n",
    "    time = pd.concat([time, value])\n",
    "\n",
    "time.to_csv(\"D:/DATA_Analayses/Project/TennisGame/data/processed/time.csv\", index=False)"
   ]
  },
  {
   "cell_type": "code",
   "execution_count": 32,
   "metadata": {},
   "outputs": [
    {
     "data": {
      "text/plain": [
       "(9319, 7)"
      ]
     },
     "execution_count": 32,
     "metadata": {},
     "output_type": "execute_result"
    }
   ],
   "source": [
    "time.shape"
   ]
  },
  {
   "cell_type": "code",
   "execution_count": 33,
   "metadata": {},
   "outputs": [],
   "source": [
    "path= \"D:/DATA_Analayses/Project/TennisGame/data/raw/202405/data/raw/raw_match_parquet\"\n",
    "dris = os.listdir(path)\n",
    "series_of_data = pd.Series(dris)\n",
    "series_of_data_start_with_tournament = series_of_data[series_of_data.str.startswith(\"tournament_1\")]\n",
    "tournament = pd.DataFrame()\n",
    "\n",
    "\n",
    "for i in range(series_of_data_start_with_tournament.size):\n",
    "    value = pd.read_parquet(f'D:/DATA_Analayses/Project/TennisGame/data/raw/202405/data/raw/raw_match_parquet/{series_of_data_start_with_tournament.iloc[i]}', engine='pyarrow')\n",
    "    tournament = pd.concat([tournament, value])\n",
    "\n",
    "tournament.to_csv(\"D:/DATA_Analayses/Project/TennisGame/data/processed/tournament.csv\", index=False)"
   ]
  },
  {
   "cell_type": "code",
   "execution_count": 34,
   "metadata": {},
   "outputs": [
    {
     "data": {
      "text/plain": [
       "(9319, 16)"
      ]
     },
     "execution_count": 34,
     "metadata": {},
     "output_type": "execute_result"
    }
   ],
   "source": [
    "tournament.shape"
   ]
  },
  {
   "cell_type": "code",
   "execution_count": 37,
   "metadata": {},
   "outputs": [],
   "source": [
    "path= \"D:/DATA_Analayses/Project/TennisGame/data/raw/202405/data/raw/raw_match_parquet\"\n",
    "dris = os.listdir(path)\n",
    "series_of_data = pd.Series(dris)\n",
    "series_of_data_start_with_venue = series_of_data[series_of_data.str.startswith(\"venue_1\")]\n",
    "venue = pd.DataFrame()\n",
    "\n",
    "\n",
    "for i in range(series_of_data_start_with_venue.size):\n",
    "    value = pd.read_parquet(f'D:/DATA_Analayses/Project/TennisGame/data/raw/202405/data/raw/raw_match_parquet/{series_of_data_start_with_venue.iloc[i]}', engine='pyarrow')\n",
    "    venue = pd.concat([venue, value])\n",
    "\n",
    "venue.to_csv(\"D:/DATA_Analayses/Project/TennisGame/data/processed/venue.csv\", index=False)"
   ]
  },
  {
   "cell_type": "code",
   "execution_count": 38,
   "metadata": {},
   "outputs": [
    {
     "data": {
      "text/plain": [
       "(9286, 5)"
      ]
     },
     "execution_count": 38,
     "metadata": {},
     "output_type": "execute_result"
    }
   ],
   "source": [
    "venue.shape"
   ]
  },
  {
   "cell_type": "markdown",
   "metadata": {},
   "source": [
    "odds table"
   ]
  },
  {
   "cell_type": "code",
   "execution_count": 43,
   "metadata": {},
   "outputs": [],
   "source": [
    "path= \"D:/DATA_Analayses/Project/TennisGame/data/raw/202405/data/raw/raw_odds_parquet\"\n",
    "dris = os.listdir(path)\n",
    "series_of_data = pd.Series(dris)\n",
    "series_of_data_start_with_odds = series_of_data[series_of_data.str.startswith(\"odds_1\")]\n",
    "odds = pd.DataFrame()\n",
    "\n",
    "\n",
    "for i in range(series_of_data_start_with_odds.size):\n",
    "    value = pd.read_parquet(f'D:/DATA_Analayses/Project/TennisGame/data/raw/202405/data/raw/raw_odds_parquet/{series_of_data_start_with_odds.iloc[i]}', engine='pyarrow')\n",
    "    odds = pd.concat([odds, value])\n",
    "\n",
    "odds.to_csv(\"D:/DATA_Analayses/Project/TennisGame/data/processed/odds.csv\", index=False)"
   ]
  },
  {
   "cell_type": "code",
   "execution_count": 48,
   "metadata": {},
   "outputs": [
    {
     "data": {
      "text/plain": [
       "(15670, 11)"
      ]
     },
     "execution_count": 48,
     "metadata": {},
     "output_type": "execute_result"
    }
   ],
   "source": [
    "odds.shape"
   ]
  },
  {
   "cell_type": "markdown",
   "metadata": {},
   "source": [
    "pbp table"
   ]
  },
  {
   "cell_type": "code",
   "execution_count": 49,
   "metadata": {},
   "outputs": [],
   "source": [
    "path= \"D:/DATA_Analayses/Project/TennisGame/data/raw/202405/data/raw/raw_point_by_point_parquet\"\n",
    "dris = os.listdir(path)\n",
    "series_of_data = pd.Series(dris)\n",
    "series_of_data_start_with_pbp = series_of_data[series_of_data.str.startswith(\"pbp_1\")]\n",
    "pbp = pd.DataFrame()\n",
    "\n",
    "\n",
    "for i in range(series_of_data_start_with_pbp.size):\n",
    "    value = pd.read_parquet(f'D:/DATA_Analayses/Project/TennisGame/data/raw/202405/data/raw/raw_point_by_point_parquet/{series_of_data_start_with_pbp.iloc[i]}', engine='pyarrow')\n",
    "    pbp = pd.concat([pbp, value])\n",
    "\n",
    "pbp.to_csv(\"D:/DATA_Analayses/Project/TennisGame/data/processed/pbp.csv\", index=False)"
   ]
  },
  {
   "cell_type": "code",
   "execution_count": 50,
   "metadata": {},
   "outputs": [
    {
     "data": {
      "text/plain": [
       "(753640, 13)"
      ]
     },
     "execution_count": 50,
     "metadata": {},
     "output_type": "execute_result"
    }
   ],
   "source": [
    "pbp.shape"
   ]
  },
  {
   "cell_type": "markdown",
   "metadata": {},
   "source": [
    "statistics table"
   ]
  },
  {
   "cell_type": "code",
   "execution_count": 52,
   "metadata": {},
   "outputs": [],
   "source": [
    "path= \"D:/DATA_Analayses/Project/TennisGame/data/raw/202405/data/raw/raw_statistics_parquet\"\n",
    "dris = os.listdir(path)\n",
    "series_of_data = pd.Series(dris)\n",
    "series_of_data_start_with_statistics = series_of_data[series_of_data.str.startswith(\"statistics_1\")]\n",
    "statistics = pd.DataFrame()\n",
    "\n",
    "\n",
    "for i in range(series_of_data_start_with_statistics.size):\n",
    "    value = pd.read_parquet(f'D:/DATA_Analayses/Project/TennisGame/data/raw/202405/data/raw/raw_statistics_parquet/{series_of_data_start_with_statistics.iloc[i]}', engine='pyarrow')\n",
    "    statistics = pd.concat([statistics, value])\n",
    "\n",
    "statistics.to_csv(\"D:/DATA_Analayses/Project/TennisGame/data/processed/statistics.csv\", index=False)"
   ]
  },
  {
   "cell_type": "code",
   "execution_count": 54,
   "metadata": {},
   "outputs": [
    {
     "data": {
      "text/plain": [
       "(404542, 13)"
      ]
     },
     "execution_count": 54,
     "metadata": {},
     "output_type": "execute_result"
    }
   ],
   "source": [
    "statistics.shape"
   ]
  },
  {
   "cell_type": "markdown",
   "metadata": {},
   "source": [
    "power table"
   ]
  },
  {
   "cell_type": "code",
   "execution_count": 55,
   "metadata": {},
   "outputs": [],
   "source": [
    "path= \"D:/DATA_Analayses/Project/TennisGame/data/raw/202405/data/raw/raw_tennis_power_parquet\"\n",
    "dris = os.listdir(path)\n",
    "series_of_data = pd.Series(dris)\n",
    "series_of_data_start_with_power = series_of_data[series_of_data.str.startswith(\"power_1\")]\n",
    "power = pd.DataFrame()\n",
    "\n",
    "\n",
    "for i in range(series_of_data_start_with_power.size):\n",
    "    value = pd.read_parquet(f'D:/DATA_Analayses/Project/TennisGame/data/raw/202405/data/raw/raw_tennis_power_parquet/{series_of_data_start_with_power.iloc[i]}', engine='pyarrow')\n",
    "    power = pd.concat([power, value])\n",
    "\n",
    "power.to_csv(\"D:/DATA_Analayses/Project/TennisGame/data/processed/power.csv\", index=False)"
   ]
  },
  {
   "cell_type": "code",
   "execution_count": 56,
   "metadata": {},
   "outputs": [
    {
     "data": {
      "text/plain": [
       "(137751, 5)"
      ]
     },
     "execution_count": 56,
     "metadata": {},
     "output_type": "execute_result"
    }
   ],
   "source": [
    "power.shape"
   ]
  },
  {
   "cell_type": "code",
   "execution_count": 62,
   "metadata": {},
   "outputs": [],
   "source": [
    "path= \"D:/DATA_Analayses/Project/TennisGame/data/raw/202405/data/raw/raw_votes_parquet\"\n",
    "dris = os.listdir(path)\n",
    "series_of_data = pd.Series(dris)\n",
    "series_of_data_start_with_votes = series_of_data[series_of_data.str.startswith(\"votes_1\")]\n",
    "votes = pd.DataFrame()\n",
    "\n",
    "\n",
    "for i in range(series_of_data_start_with_votes.size):\n",
    "    value = pd.read_parquet(f'D:/DATA_Analayses/Project/TennisGame/data/raw/202405/data/raw/raw_votes_parquet/{series_of_data_start_with_votes.iloc[i]}', engine='pyarrow')\n",
    "    votes = pd.concat([votes, value])\n",
    "\n",
    "votes.to_csv(\"D:/DATA_Analayses/Project/TennisGame/data/processed/votes.csv\", index=False)"
   ]
  },
  {
   "cell_type": "code",
   "execution_count": 63,
   "metadata": {},
   "outputs": [
    {
     "data": {
      "text/plain": [
       "(9319, 3)"
      ]
     },
     "execution_count": 63,
     "metadata": {},
     "output_type": "execute_result"
    }
   ],
   "source": [
    "votes.shape"
   ]
  },
  {
   "cell_type": "markdown",
   "metadata": {},
   "source": [
    "### 1-2 Save dataframe as CSV"
   ]
  },
  {
   "cell_type": "code",
   "execution_count": 64,
   "metadata": {},
   "outputs": [
    {
     "name": "stdout",
     "output_type": "stream",
     "text": [
      "votes.shape           (9319, 3)\n",
      "power.shape           (137751, 5)\n",
      "statistics.shape      (404542, 13)\n",
      "pbp.shape             (753640, 13)\n",
      "odds.shape            (15670, 11)\n",
      "venue.shape           (9286, 5)\n",
      "tournament.shape      (9319, 16)\n",
      "time.shape            (9319, 7)\n",
      "season.shape          (9319, 4)\n",
      "round.shape           (5790, 5)\n",
      "home_team_score.shape (9319, 14)\n",
      "home_team.shape       (6670, 18)\n",
      "event.shape           (9319, 10)\n",
      "away_team_score.shape (9319, 14)\n",
      "away_team.shape       (6143, 18)\n"
     ]
    }
   ],
   "source": [
    "print(\"votes.shape          \", votes.shape)\n",
    "print(\"power.shape          \", power.shape)\n",
    "print(\"statistics.shape     \", statistics.shape)\n",
    "print(\"pbp.shape            \", pbp.shape)\n",
    "print(\"odds.shape           \", odds.shape)\n",
    "print(\"venue.shape          \", venue.shape)\n",
    "print(\"tournament.shape     \", tournament.shape)\n",
    "print(\"time.shape           \", time.shape)\n",
    "print(\"season.shape         \", season.shape)\n",
    "print(\"round.shape          \", round.shape)\n",
    "print(\"home_team_score.shape\", home_team_score.shape)\n",
    "print(\"home_team.shape      \", home_team.shape)\n",
    "print(\"event.shape          \", event.shape)\n",
    "print(\"away_team_score.shape\", away_team_score.shape)\n",
    "print(\"away_team.shape      \", away_team.shape)"
   ]
  }
 ],
 "metadata": {
  "kernelspec": {
   "display_name": "Tennisgameenv",
   "language": "python",
   "name": "python3"
  },
  "language_info": {
   "codemirror_mode": {
    "name": "ipython",
    "version": 3
   },
   "file_extension": ".py",
   "mimetype": "text/x-python",
   "name": "python",
   "nbconvert_exporter": "python",
   "pygments_lexer": "ipython3",
   "version": "3.12.3"
  }
 },
 "nbformat": 4,
 "nbformat_minor": 2
}
