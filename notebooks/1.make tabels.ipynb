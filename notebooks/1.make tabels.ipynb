{
 "cells": [
  {
   "cell_type": "markdown",
   "metadata": {},
   "source": [
    "# 1. First Nootbook\n",
    "\n",
    "1. Make Tabels "
   ]
  },
  {
   "cell_type": "code",
   "execution_count": 2,
   "metadata": {},
   "outputs": [],
   "source": [
    "import numpy as np\n",
    "import pandas as pd\n",
    "import pyarrow.parquet as pa\n",
    "import zipfile\n",
    "import os"
   ]
  },
  {
   "cell_type": "markdown",
   "metadata": {},
   "source": [
    "### 1-1 unzip file\n",
    "\n",
    "unzipe main data togheder"
   ]
  },
  {
   "cell_type": "code",
   "execution_count": null,
   "metadata": {},
   "outputs": [],
   "source": [
    "folder = 'D:/DATA_Analayses/Project/TennisGame/data/raw/202405'\n",
    "extension = \".zip\"\n",
    "\n",
    "os.chdir(folder) \n",
    "\n",
    "for item in os.listdir(folder): \n",
    "    if item.endswith(extension): \n",
    "        file_name = os.path.abspath(item) \n",
    "        zip_ref = zipfile.ZipFile(item) \n",
    "        zip_ref.extractall(folder)"
   ]
  },
  {
   "cell_type": "markdown",
   "metadata": {},
   "source": [
    "Make match_home_team_info tabel"
   ]
  },
  {
   "cell_type": "code",
   "execution_count": null,
   "metadata": {},
   "outputs": [],
   "source": [
    "path= \"D:/DATA_Analayses/Project/TennisGame/data/raw/202405/data/raw/raw_match_parquet\"\n",
    "dris = os.listdir(path)\n",
    "series_of_data = pd.Series(dris)\n",
    "series_of_data_start_with_away_team = series_of_data[series_of_data.str.startswith(\"away_team_1\")]\n",
    "match_home_team_info = pd.DataFrame()\n",
    "\n",
    "for i in range(series_of_data_start_with_away_team.size):\n",
    "    value = pd.read_parquet(f'D:/DATA_Analayses/Project/TennisGame/data/raw/202405/data/raw/raw_match_parquet/{series_of_data_start_with_away_team.iloc[i]}', engine='pyarrow')\n",
    "    match_home_team_info = pd.concat([match_home_team_info, value])\n"
   ]
  },
  {
   "cell_type": "markdown",
   "metadata": {},
   "source": [
    "match_away_score_info tabel"
   ]
  },
  {
   "cell_type": "code",
   "execution_count": null,
   "metadata": {},
   "outputs": [],
   "source": [
    "path= \"D:/DATA_Analayses/Project/TennisGame/data/raw/202405/data/raw/raw_match_parquet\"\n",
    "dris = os.listdir(path)\n",
    "series_of_data = pd.Series(dris)\n",
    "series_of_data_start_with_away_team_score = series_of_data[series_of_data.str.startswith(\"away_team_score_\")]\n",
    "match_away_score_info = pd.DataFrame()\n",
    "\n",
    "\n",
    "for i in range(series_of_data_start_with_away_team_score.size):\n",
    "    value = pd.read_parquet(f'D:/DATA_Analayses/Project/TennisGame/data/raw/202405/data/raw/raw_match_parquet/{series_of_data_start_with_away_team_score.iloc[i]}', engine='pyarrow')\n",
    "    match_away_score_info = pd.concat([match_away_score_info, value])"
   ]
  },
  {
   "cell_type": "code",
   "execution_count": 4,
   "metadata": {},
   "outputs": [],
   "source": [
    "path= \"D:/DATA_Analayses/Project/TennisGame/data/raw/202405/data/raw/raw_match_parquet\"\n",
    "dris = os.listdir(path)\n",
    "series_of_data = pd.Series(dris)\n",
    "series_of_data_start_with_evente = series_of_data[series_of_data.str.startswith(\"event_1\")]\n",
    "match_event_info = pd.DataFrame()\n",
    "\n",
    "\n",
    "for i in range(series_of_data_start_with_evente.size):\n",
    "    value = pd.read_parquet(f'D:/DATA_Analayses/Project/TennisGame/data/raw/202405/data/raw/raw_match_parquet/{series_of_data_start_with_evente.iloc[i]}', engine='pyarrow')\n",
    "    match_event_info = pd.concat([match_event_info, value])"
   ]
  },
  {
   "cell_type": "code",
   "execution_count": 9,
   "metadata": {},
   "outputs": [
    {
     "data": {
      "text/html": [
       "<div>\n",
       "<style scoped>\n",
       "    .dataframe tbody tr th:only-of-type {\n",
       "        vertical-align: middle;\n",
       "    }\n",
       "\n",
       "    .dataframe tbody tr th {\n",
       "        vertical-align: top;\n",
       "    }\n",
       "\n",
       "    .dataframe thead th {\n",
       "        text-align: right;\n",
       "    }\n",
       "</style>\n",
       "<table border=\"1\" class=\"dataframe\">\n",
       "  <thead>\n",
       "    <tr style=\"text-align: right;\">\n",
       "      <th></th>\n",
       "      <th>match_id</th>\n",
       "      <th>first_to_serve</th>\n",
       "      <th>home_team_seed</th>\n",
       "      <th>away_team_seed</th>\n",
       "      <th>custom_id</th>\n",
       "      <th>winner_code</th>\n",
       "      <th>default_period_count</th>\n",
       "      <th>start_datetime</th>\n",
       "      <th>match_slug</th>\n",
       "      <th>final_result_only</th>\n",
       "    </tr>\n",
       "  </thead>\n",
       "  <tbody>\n",
       "    <tr>\n",
       "      <th>0</th>\n",
       "      <td>12260075</td>\n",
       "      <td>1</td>\n",
       "      <td>None</td>\n",
       "      <td>30</td>\n",
       "      <td>LOfsRUhc</td>\n",
       "      <td>2</td>\n",
       "      <td>3</td>\n",
       "      <td>1714499700</td>\n",
       "      <td>lehecka-nadal</td>\n",
       "      <td>True</td>\n",
       "    </tr>\n",
       "    <tr>\n",
       "      <th>0</th>\n",
       "      <td>12260076</td>\n",
       "      <td>1</td>\n",
       "      <td>1</td>\n",
       "      <td>16</td>\n",
       "      <td>FyLsvGHb</td>\n",
       "      <td>1</td>\n",
       "      <td>3</td>\n",
       "      <td>1714480500</td>\n",
       "      <td>sinner-khachanov</td>\n",
       "      <td>True</td>\n",
       "    </tr>\n",
       "    <tr>\n",
       "      <th>0</th>\n",
       "      <td>12260077</td>\n",
       "      <td>1</td>\n",
       "      <td>23</td>\n",
       "      <td>2</td>\n",
       "      <td>QCtsytke</td>\n",
       "      <td>2</td>\n",
       "      <td>3</td>\n",
       "      <td>1714484700</td>\n",
       "      <td>alcaraz-struff</td>\n",
       "      <td>True</td>\n",
       "    </tr>\n",
       "    <tr>\n",
       "      <th>0</th>\n",
       "      <td>12260078</td>\n",
       "      <td>1</td>\n",
       "      <td>7</td>\n",
       "      <td>2</td>\n",
       "      <td>fKRzytkc</td>\n",
       "      <td>1</td>\n",
       "      <td>3</td>\n",
       "      <td>1714563900</td>\n",
       "      <td>alcaraz-rublev</td>\n",
       "      <td>True</td>\n",
       "    </tr>\n",
       "    <tr>\n",
       "      <th>0</th>\n",
       "      <td>12260080</td>\n",
       "      <td>2</td>\n",
       "      <td>21</td>\n",
       "      <td>4</td>\n",
       "      <td>nTxsbvNb</td>\n",
       "      <td>1</td>\n",
       "      <td>3</td>\n",
       "      <td>1714488300</td>\n",
       "      <td>cerundolo-zverev</td>\n",
       "      <td>True</td>\n",
       "    </tr>\n",
       "  </tbody>\n",
       "</table>\n",
       "</div>"
      ],
      "text/plain": [
       "   match_id first_to_serve home_team_seed away_team_seed custom_id  \\\n",
       "0  12260075              1           None             30  LOfsRUhc   \n",
       "0  12260076              1              1             16  FyLsvGHb   \n",
       "0  12260077              1             23              2  QCtsytke   \n",
       "0  12260078              1              7              2  fKRzytkc   \n",
       "0  12260080              2             21              4  nTxsbvNb   \n",
       "\n",
       "  winner_code  default_period_count  start_datetime        match_slug  \\\n",
       "0           2                     3      1714499700     lehecka-nadal   \n",
       "0           1                     3      1714480500  sinner-khachanov   \n",
       "0           2                     3      1714484700    alcaraz-struff   \n",
       "0           1                     3      1714563900    alcaraz-rublev   \n",
       "0           1                     3      1714488300  cerundolo-zverev   \n",
       "\n",
       "   final_result_only  \n",
       "0               True  \n",
       "0               True  \n",
       "0               True  \n",
       "0               True  \n",
       "0               True  "
      ]
     },
     "execution_count": 9,
     "metadata": {},
     "output_type": "execute_result"
    }
   ],
   "source": [
    "match_event_info.head() "
   ]
  },
  {
   "cell_type": "markdown",
   "metadata": {},
   "source": [
    "### 1-2 Save dataframe as CSV"
   ]
  },
  {
   "cell_type": "code",
   "execution_count": 7,
   "metadata": {},
   "outputs": [],
   "source": [
    "#match_home_team_info.to_csv(\"D:/DATA_Analayses/Project/TennisGame/data/processed/match_home_team_info.csv\", index=False)\n",
    "#match_away_score_info.to_csv(\"D:/DATA_Analayses/Project/TennisGame/data/processed/match_away_score_info.csv\", index=False)\n",
    "match_event_info.to_csv(\"D:/DATA_Analayses/Project/TennisGame/data/processed/match_event_info.csv\", index=False)\n"
   ]
  }
 ],
 "metadata": {
  "kernelspec": {
   "display_name": "Tennisgameenv",
   "language": "python",
   "name": "python3"
  },
  "language_info": {
   "codemirror_mode": {
    "name": "ipython",
    "version": 3
   },
   "file_extension": ".py",
   "mimetype": "text/x-python",
   "name": "python",
   "nbconvert_exporter": "python",
   "pygments_lexer": "ipython3",
   "version": "3.12.3"
  }
 },
 "nbformat": 4,
 "nbformat_minor": 2
}
